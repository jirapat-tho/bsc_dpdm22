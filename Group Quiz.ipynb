{
  "nbformat": 4,
  "nbformat_minor": 0,
  "metadata": {
    "colab": {
      "provenance": [],
      "toc_visible": true,
      "mount_file_id": "1Qvl66JytAU4j6NZ5WnfFAb_E2BIu1x5l",
      "authorship_tag": "ABX9TyN1lFONkEqFC7Y1hdxooB2d",
      "include_colab_link": true
    },
    "kernelspec": {
      "name": "python3",
      "display_name": "Python 3"
    },
    "language_info": {
      "name": "python"
    }
  },
  "cells": [
    {
      "cell_type": "markdown",
      "metadata": {
        "id": "view-in-github",
        "colab_type": "text"
      },
      "source": [
        "<a href=\"https://colab.research.google.com/github/jtmeawno1/bsc_dpdm22/blob/main/Group%20Quiz.ipynb\" target=\"_parent\"><img src=\"https://colab.research.google.com/assets/colab-badge.svg\" alt=\"Open In Colab\"/></a>"
      ]
    },
    {
      "cell_type": "code",
      "execution_count": 1,
      "metadata": {
        "colab": {
          "base_uri": "https://localhost:8080/"
        },
        "id": "sTkBrRxFqvp4",
        "outputId": "aa3a3711-2c63-4f49-9dee-47517ff3bdf1"
      },
      "outputs": [
        {
          "output_type": "stream",
          "name": "stdout",
          "text": [
            "Mounted at /content/drive\n"
          ]
        }
      ],
      "source": [
        "from google.colab import drive \n",
        "drive.mount('/content/drive')"
      ]
    },
    {
      "cell_type": "code",
      "source": [
        "import os\n",
        "os.chdir('/content/drive/MyDrive/bsc_DPDM_data/อุตุ/ความกด(เปอร์เซ็นต์)')\n",
        "\n",
        "!pwd "
      ],
      "metadata": {
        "colab": {
          "base_uri": "https://localhost:8080/"
        },
        "id": "p5l5MoS8q4FE",
        "outputId": "e185c5c8-1563-47f0-e020-566fb42b4f76"
      },
      "execution_count": 10,
      "outputs": [
        {
          "output_type": "stream",
          "name": "stdout",
          "text": [
            "/content/drive/MyDrive/bsc_DPDM_data/อุตุ/ความกด(เปอร์เซ็นต์)\n"
          ]
        }
      ]
    },
    {
      "cell_type": "code",
      "source": [
        "!ls"
      ],
      "metadata": {
        "colab": {
          "base_uri": "https://localhost:8080/"
        },
        "id": "BWzENw6Ur9S4",
        "outputId": "b828deed-23fb-4662-c334-d7060a10c062"
      },
      "execution_count": 11,
      "outputs": [
        {
          "output_type": "stream",
          "name": "stdout",
          "text": [
            "จ.เลย.xlsx  จ.สกลนคร.xlsx  จ.นครพนม.xlsx  จ.ขอนแก่น.xlsx  จ.หนองคาย.xlsx\n"
          ]
        }
      ]
    },
    {
      "cell_type": "code",
      "source": [
        "import pandas as pd"
      ],
      "metadata": {
        "id": "runVfZkSq5xJ"
      },
      "execution_count": 5,
      "outputs": []
    },
    {
      "cell_type": "markdown",
      "source": [
        "# import data"
      ],
      "metadata": {
        "id": "C22SFxXA3EWZ"
      }
    },
    {
      "cell_type": "markdown",
      "source": [
        "## pressure ความกดอากาศ "
      ],
      "metadata": {
        "id": "P9H7xc_psTVF"
      }
    },
    {
      "cell_type": "code",
      "source": [
        "press_l = pd.read_excel('/content/drive/MyDrive/bsc_DPDM_data/อุตุ/ความกด(เปอร์เซ็นต์)/จ.เลย.xlsx',skiprows=3).drop(0, axis=0)\n",
        "press_l.head(3)"
      ],
      "metadata": {
        "colab": {
          "base_uri": "https://localhost:8080/",
          "height": 358
        },
        "id": "ck2CcLUkq71i",
        "outputId": "121b3516-efe0-4ba9-90b1-e846ccf02318"
      },
      "execution_count": 46,
      "outputs": [
        {
          "output_type": "execute_result",
          "data": {
            "text/plain": [
              "   ที่                     สถานี   เดือน/ปี   วันที่  Unnamed: 4  Unnamed: 5  \\\n",
              "1  1    352201-หนองคาย จ.หนองคาย 2011-10-01  1005.12     1006.51     1007.81   \n",
              "2  2    352201-หนองคาย จ.หนองคาย 2011-11-01  1012.09     1011.32     1010.99   \n",
              "3  3    352201-หนองคาย จ.หนองคาย 2011-12-01  1010.43     1011.81     1012.45   \n",
              "\n",
              "   Unnamed: 6  Unnamed: 7  Unnamed: 8  Unnamed: 9  ...  Unnamed: 25  \\\n",
              "1     1008.15     1009.21     1011.28     1011.22  ...      1010.79   \n",
              "2     1011.47     1010.88     1009.62     1008.28  ...      1014.79   \n",
              "3     1012.03     1013.29     1013.21     1012.81  ...      1013.75   \n",
              "\n",
              "   Unnamed: 26  Unnamed: 27  Unnamed: 28  Unnamed: 29  Unnamed: 30  \\\n",
              "1      1010.25      1011.52      1012.04      1012.00      1012.74   \n",
              "2      1015.74      1014.36      1013.30      1011.92      1009.86   \n",
              "3      1013.11      1015.95      1018.79      1019.39      1017.88   \n",
              "\n",
              "   Unnamed: 31  Unnamed: 32  Unnamed: 33       เฉลี่ย  \n",
              "1      1011.69      1011.27      1011.71  1010.343871  \n",
              "2       1010.1      1010.43            -  1012.078333  \n",
              "3      1016.49      1014.97      1015.62  1016.470000  \n",
              "\n",
              "[3 rows x 35 columns]"
            ],
            "text/html": [
              "\n",
              "  <div id=\"df-4c45d147-c386-47f5-8a29-19e43a6f93a1\">\n",
              "    <div class=\"colab-df-container\">\n",
              "      <div>\n",
              "<style scoped>\n",
              "    .dataframe tbody tr th:only-of-type {\n",
              "        vertical-align: middle;\n",
              "    }\n",
              "\n",
              "    .dataframe tbody tr th {\n",
              "        vertical-align: top;\n",
              "    }\n",
              "\n",
              "    .dataframe thead th {\n",
              "        text-align: right;\n",
              "    }\n",
              "</style>\n",
              "<table border=\"1\" class=\"dataframe\">\n",
              "  <thead>\n",
              "    <tr style=\"text-align: right;\">\n",
              "      <th></th>\n",
              "      <th>ที่</th>\n",
              "      <th>สถานี</th>\n",
              "      <th>เดือน/ปี</th>\n",
              "      <th>วันที่</th>\n",
              "      <th>Unnamed: 4</th>\n",
              "      <th>Unnamed: 5</th>\n",
              "      <th>Unnamed: 6</th>\n",
              "      <th>Unnamed: 7</th>\n",
              "      <th>Unnamed: 8</th>\n",
              "      <th>Unnamed: 9</th>\n",
              "      <th>...</th>\n",
              "      <th>Unnamed: 25</th>\n",
              "      <th>Unnamed: 26</th>\n",
              "      <th>Unnamed: 27</th>\n",
              "      <th>Unnamed: 28</th>\n",
              "      <th>Unnamed: 29</th>\n",
              "      <th>Unnamed: 30</th>\n",
              "      <th>Unnamed: 31</th>\n",
              "      <th>Unnamed: 32</th>\n",
              "      <th>Unnamed: 33</th>\n",
              "      <th>เฉลี่ย</th>\n",
              "    </tr>\n",
              "  </thead>\n",
              "  <tbody>\n",
              "    <tr>\n",
              "      <th>1</th>\n",
              "      <td>1</td>\n",
              "      <td>352201-หนองคาย จ.หนองคาย</td>\n",
              "      <td>2011-10-01</td>\n",
              "      <td>1005.12</td>\n",
              "      <td>1006.51</td>\n",
              "      <td>1007.81</td>\n",
              "      <td>1008.15</td>\n",
              "      <td>1009.21</td>\n",
              "      <td>1011.28</td>\n",
              "      <td>1011.22</td>\n",
              "      <td>...</td>\n",
              "      <td>1010.79</td>\n",
              "      <td>1010.25</td>\n",
              "      <td>1011.52</td>\n",
              "      <td>1012.04</td>\n",
              "      <td>1012.00</td>\n",
              "      <td>1012.74</td>\n",
              "      <td>1011.69</td>\n",
              "      <td>1011.27</td>\n",
              "      <td>1011.71</td>\n",
              "      <td>1010.343871</td>\n",
              "    </tr>\n",
              "    <tr>\n",
              "      <th>2</th>\n",
              "      <td>2</td>\n",
              "      <td>352201-หนองคาย จ.หนองคาย</td>\n",
              "      <td>2011-11-01</td>\n",
              "      <td>1012.09</td>\n",
              "      <td>1011.32</td>\n",
              "      <td>1010.99</td>\n",
              "      <td>1011.47</td>\n",
              "      <td>1010.88</td>\n",
              "      <td>1009.62</td>\n",
              "      <td>1008.28</td>\n",
              "      <td>...</td>\n",
              "      <td>1014.79</td>\n",
              "      <td>1015.74</td>\n",
              "      <td>1014.36</td>\n",
              "      <td>1013.30</td>\n",
              "      <td>1011.92</td>\n",
              "      <td>1009.86</td>\n",
              "      <td>1010.1</td>\n",
              "      <td>1010.43</td>\n",
              "      <td>-</td>\n",
              "      <td>1012.078333</td>\n",
              "    </tr>\n",
              "    <tr>\n",
              "      <th>3</th>\n",
              "      <td>3</td>\n",
              "      <td>352201-หนองคาย จ.หนองคาย</td>\n",
              "      <td>2011-12-01</td>\n",
              "      <td>1010.43</td>\n",
              "      <td>1011.81</td>\n",
              "      <td>1012.45</td>\n",
              "      <td>1012.03</td>\n",
              "      <td>1013.29</td>\n",
              "      <td>1013.21</td>\n",
              "      <td>1012.81</td>\n",
              "      <td>...</td>\n",
              "      <td>1013.75</td>\n",
              "      <td>1013.11</td>\n",
              "      <td>1015.95</td>\n",
              "      <td>1018.79</td>\n",
              "      <td>1019.39</td>\n",
              "      <td>1017.88</td>\n",
              "      <td>1016.49</td>\n",
              "      <td>1014.97</td>\n",
              "      <td>1015.62</td>\n",
              "      <td>1016.470000</td>\n",
              "    </tr>\n",
              "  </tbody>\n",
              "</table>\n",
              "<p>3 rows × 35 columns</p>\n",
              "</div>\n",
              "      <button class=\"colab-df-convert\" onclick=\"convertToInteractive('df-4c45d147-c386-47f5-8a29-19e43a6f93a1')\"\n",
              "              title=\"Convert this dataframe to an interactive table.\"\n",
              "              style=\"display:none;\">\n",
              "        \n",
              "  <svg xmlns=\"http://www.w3.org/2000/svg\" height=\"24px\"viewBox=\"0 0 24 24\"\n",
              "       width=\"24px\">\n",
              "    <path d=\"M0 0h24v24H0V0z\" fill=\"none\"/>\n",
              "    <path d=\"M18.56 5.44l.94 2.06.94-2.06 2.06-.94-2.06-.94-.94-2.06-.94 2.06-2.06.94zm-11 1L8.5 8.5l.94-2.06 2.06-.94-2.06-.94L8.5 2.5l-.94 2.06-2.06.94zm10 10l.94 2.06.94-2.06 2.06-.94-2.06-.94-.94-2.06-.94 2.06-2.06.94z\"/><path d=\"M17.41 7.96l-1.37-1.37c-.4-.4-.92-.59-1.43-.59-.52 0-1.04.2-1.43.59L10.3 9.45l-7.72 7.72c-.78.78-.78 2.05 0 2.83L4 21.41c.39.39.9.59 1.41.59.51 0 1.02-.2 1.41-.59l7.78-7.78 2.81-2.81c.8-.78.8-2.07 0-2.86zM5.41 20L4 18.59l7.72-7.72 1.47 1.35L5.41 20z\"/>\n",
              "  </svg>\n",
              "      </button>\n",
              "      \n",
              "  <style>\n",
              "    .colab-df-container {\n",
              "      display:flex;\n",
              "      flex-wrap:wrap;\n",
              "      gap: 12px;\n",
              "    }\n",
              "\n",
              "    .colab-df-convert {\n",
              "      background-color: #E8F0FE;\n",
              "      border: none;\n",
              "      border-radius: 50%;\n",
              "      cursor: pointer;\n",
              "      display: none;\n",
              "      fill: #1967D2;\n",
              "      height: 32px;\n",
              "      padding: 0 0 0 0;\n",
              "      width: 32px;\n",
              "    }\n",
              "\n",
              "    .colab-df-convert:hover {\n",
              "      background-color: #E2EBFA;\n",
              "      box-shadow: 0px 1px 2px rgba(60, 64, 67, 0.3), 0px 1px 3px 1px rgba(60, 64, 67, 0.15);\n",
              "      fill: #174EA6;\n",
              "    }\n",
              "\n",
              "    [theme=dark] .colab-df-convert {\n",
              "      background-color: #3B4455;\n",
              "      fill: #D2E3FC;\n",
              "    }\n",
              "\n",
              "    [theme=dark] .colab-df-convert:hover {\n",
              "      background-color: #434B5C;\n",
              "      box-shadow: 0px 1px 3px 1px rgba(0, 0, 0, 0.15);\n",
              "      filter: drop-shadow(0px 1px 2px rgba(0, 0, 0, 0.3));\n",
              "      fill: #FFFFFF;\n",
              "    }\n",
              "  </style>\n",
              "\n",
              "      <script>\n",
              "        const buttonEl =\n",
              "          document.querySelector('#df-4c45d147-c386-47f5-8a29-19e43a6f93a1 button.colab-df-convert');\n",
              "        buttonEl.style.display =\n",
              "          google.colab.kernel.accessAllowed ? 'block' : 'none';\n",
              "\n",
              "        async function convertToInteractive(key) {\n",
              "          const element = document.querySelector('#df-4c45d147-c386-47f5-8a29-19e43a6f93a1');\n",
              "          const dataTable =\n",
              "            await google.colab.kernel.invokeFunction('convertToInteractive',\n",
              "                                                     [key], {});\n",
              "          if (!dataTable) return;\n",
              "\n",
              "          const docLinkHtml = 'Like what you see? Visit the ' +\n",
              "            '<a target=\"_blank\" href=https://colab.research.google.com/notebooks/data_table.ipynb>data table notebook</a>'\n",
              "            + ' to learn more about interactive tables.';\n",
              "          element.innerHTML = '';\n",
              "          dataTable['output_type'] = 'display_data';\n",
              "          await google.colab.output.renderOutput(dataTable, element);\n",
              "          const docLink = document.createElement('div');\n",
              "          docLink.innerHTML = docLinkHtml;\n",
              "          element.appendChild(docLink);\n",
              "        }\n",
              "      </script>\n",
              "    </div>\n",
              "  </div>\n",
              "  "
            ]
          },
          "metadata": {},
          "execution_count": 46
        }
      ]
    },
    {
      "cell_type": "code",
      "source": [
        "press_s = pd.read_excel('/content/drive/MyDrive/bsc_DPDM_data/อุตุ/ความกด(เปอร์เซ็นต์)/จ.เลย.xlsx',skiprows=3).drop(0, axis=0)\n",
        "press_s.head(3)"
      ],
      "metadata": {
        "colab": {
          "base_uri": "https://localhost:8080/",
          "height": 358
        },
        "id": "007VG7rE0TS4",
        "outputId": "786b42eb-baa3-4103-9dcf-10d690ddaef8"
      },
      "execution_count": 47,
      "outputs": [
        {
          "output_type": "execute_result",
          "data": {
            "text/plain": [
              "   ที่                     สถานี   เดือน/ปี   วันที่  Unnamed: 4  Unnamed: 5  \\\n",
              "1  1    352201-หนองคาย จ.หนองคาย 2011-10-01  1005.12     1006.51     1007.81   \n",
              "2  2    352201-หนองคาย จ.หนองคาย 2011-11-01  1012.09     1011.32     1010.99   \n",
              "3  3    352201-หนองคาย จ.หนองคาย 2011-12-01  1010.43     1011.81     1012.45   \n",
              "\n",
              "   Unnamed: 6  Unnamed: 7  Unnamed: 8  Unnamed: 9  ...  Unnamed: 25  \\\n",
              "1     1008.15     1009.21     1011.28     1011.22  ...      1010.79   \n",
              "2     1011.47     1010.88     1009.62     1008.28  ...      1014.79   \n",
              "3     1012.03     1013.29     1013.21     1012.81  ...      1013.75   \n",
              "\n",
              "   Unnamed: 26  Unnamed: 27  Unnamed: 28  Unnamed: 29  Unnamed: 30  \\\n",
              "1      1010.25      1011.52      1012.04      1012.00      1012.74   \n",
              "2      1015.74      1014.36      1013.30      1011.92      1009.86   \n",
              "3      1013.11      1015.95      1018.79      1019.39      1017.88   \n",
              "\n",
              "   Unnamed: 31  Unnamed: 32  Unnamed: 33       เฉลี่ย  \n",
              "1      1011.69      1011.27      1011.71  1010.343871  \n",
              "2       1010.1      1010.43            -  1012.078333  \n",
              "3      1016.49      1014.97      1015.62  1016.470000  \n",
              "\n",
              "[3 rows x 35 columns]"
            ],
            "text/html": [
              "\n",
              "  <div id=\"df-0f42fb2b-0081-463a-892e-a6c5ff1f6cbc\">\n",
              "    <div class=\"colab-df-container\">\n",
              "      <div>\n",
              "<style scoped>\n",
              "    .dataframe tbody tr th:only-of-type {\n",
              "        vertical-align: middle;\n",
              "    }\n",
              "\n",
              "    .dataframe tbody tr th {\n",
              "        vertical-align: top;\n",
              "    }\n",
              "\n",
              "    .dataframe thead th {\n",
              "        text-align: right;\n",
              "    }\n",
              "</style>\n",
              "<table border=\"1\" class=\"dataframe\">\n",
              "  <thead>\n",
              "    <tr style=\"text-align: right;\">\n",
              "      <th></th>\n",
              "      <th>ที่</th>\n",
              "      <th>สถานี</th>\n",
              "      <th>เดือน/ปี</th>\n",
              "      <th>วันที่</th>\n",
              "      <th>Unnamed: 4</th>\n",
              "      <th>Unnamed: 5</th>\n",
              "      <th>Unnamed: 6</th>\n",
              "      <th>Unnamed: 7</th>\n",
              "      <th>Unnamed: 8</th>\n",
              "      <th>Unnamed: 9</th>\n",
              "      <th>...</th>\n",
              "      <th>Unnamed: 25</th>\n",
              "      <th>Unnamed: 26</th>\n",
              "      <th>Unnamed: 27</th>\n",
              "      <th>Unnamed: 28</th>\n",
              "      <th>Unnamed: 29</th>\n",
              "      <th>Unnamed: 30</th>\n",
              "      <th>Unnamed: 31</th>\n",
              "      <th>Unnamed: 32</th>\n",
              "      <th>Unnamed: 33</th>\n",
              "      <th>เฉลี่ย</th>\n",
              "    </tr>\n",
              "  </thead>\n",
              "  <tbody>\n",
              "    <tr>\n",
              "      <th>1</th>\n",
              "      <td>1</td>\n",
              "      <td>352201-หนองคาย จ.หนองคาย</td>\n",
              "      <td>2011-10-01</td>\n",
              "      <td>1005.12</td>\n",
              "      <td>1006.51</td>\n",
              "      <td>1007.81</td>\n",
              "      <td>1008.15</td>\n",
              "      <td>1009.21</td>\n",
              "      <td>1011.28</td>\n",
              "      <td>1011.22</td>\n",
              "      <td>...</td>\n",
              "      <td>1010.79</td>\n",
              "      <td>1010.25</td>\n",
              "      <td>1011.52</td>\n",
              "      <td>1012.04</td>\n",
              "      <td>1012.00</td>\n",
              "      <td>1012.74</td>\n",
              "      <td>1011.69</td>\n",
              "      <td>1011.27</td>\n",
              "      <td>1011.71</td>\n",
              "      <td>1010.343871</td>\n",
              "    </tr>\n",
              "    <tr>\n",
              "      <th>2</th>\n",
              "      <td>2</td>\n",
              "      <td>352201-หนองคาย จ.หนองคาย</td>\n",
              "      <td>2011-11-01</td>\n",
              "      <td>1012.09</td>\n",
              "      <td>1011.32</td>\n",
              "      <td>1010.99</td>\n",
              "      <td>1011.47</td>\n",
              "      <td>1010.88</td>\n",
              "      <td>1009.62</td>\n",
              "      <td>1008.28</td>\n",
              "      <td>...</td>\n",
              "      <td>1014.79</td>\n",
              "      <td>1015.74</td>\n",
              "      <td>1014.36</td>\n",
              "      <td>1013.30</td>\n",
              "      <td>1011.92</td>\n",
              "      <td>1009.86</td>\n",
              "      <td>1010.1</td>\n",
              "      <td>1010.43</td>\n",
              "      <td>-</td>\n",
              "      <td>1012.078333</td>\n",
              "    </tr>\n",
              "    <tr>\n",
              "      <th>3</th>\n",
              "      <td>3</td>\n",
              "      <td>352201-หนองคาย จ.หนองคาย</td>\n",
              "      <td>2011-12-01</td>\n",
              "      <td>1010.43</td>\n",
              "      <td>1011.81</td>\n",
              "      <td>1012.45</td>\n",
              "      <td>1012.03</td>\n",
              "      <td>1013.29</td>\n",
              "      <td>1013.21</td>\n",
              "      <td>1012.81</td>\n",
              "      <td>...</td>\n",
              "      <td>1013.75</td>\n",
              "      <td>1013.11</td>\n",
              "      <td>1015.95</td>\n",
              "      <td>1018.79</td>\n",
              "      <td>1019.39</td>\n",
              "      <td>1017.88</td>\n",
              "      <td>1016.49</td>\n",
              "      <td>1014.97</td>\n",
              "      <td>1015.62</td>\n",
              "      <td>1016.470000</td>\n",
              "    </tr>\n",
              "  </tbody>\n",
              "</table>\n",
              "<p>3 rows × 35 columns</p>\n",
              "</div>\n",
              "      <button class=\"colab-df-convert\" onclick=\"convertToInteractive('df-0f42fb2b-0081-463a-892e-a6c5ff1f6cbc')\"\n",
              "              title=\"Convert this dataframe to an interactive table.\"\n",
              "              style=\"display:none;\">\n",
              "        \n",
              "  <svg xmlns=\"http://www.w3.org/2000/svg\" height=\"24px\"viewBox=\"0 0 24 24\"\n",
              "       width=\"24px\">\n",
              "    <path d=\"M0 0h24v24H0V0z\" fill=\"none\"/>\n",
              "    <path d=\"M18.56 5.44l.94 2.06.94-2.06 2.06-.94-2.06-.94-.94-2.06-.94 2.06-2.06.94zm-11 1L8.5 8.5l.94-2.06 2.06-.94-2.06-.94L8.5 2.5l-.94 2.06-2.06.94zm10 10l.94 2.06.94-2.06 2.06-.94-2.06-.94-.94-2.06-.94 2.06-2.06.94z\"/><path d=\"M17.41 7.96l-1.37-1.37c-.4-.4-.92-.59-1.43-.59-.52 0-1.04.2-1.43.59L10.3 9.45l-7.72 7.72c-.78.78-.78 2.05 0 2.83L4 21.41c.39.39.9.59 1.41.59.51 0 1.02-.2 1.41-.59l7.78-7.78 2.81-2.81c.8-.78.8-2.07 0-2.86zM5.41 20L4 18.59l7.72-7.72 1.47 1.35L5.41 20z\"/>\n",
              "  </svg>\n",
              "      </button>\n",
              "      \n",
              "  <style>\n",
              "    .colab-df-container {\n",
              "      display:flex;\n",
              "      flex-wrap:wrap;\n",
              "      gap: 12px;\n",
              "    }\n",
              "\n",
              "    .colab-df-convert {\n",
              "      background-color: #E8F0FE;\n",
              "      border: none;\n",
              "      border-radius: 50%;\n",
              "      cursor: pointer;\n",
              "      display: none;\n",
              "      fill: #1967D2;\n",
              "      height: 32px;\n",
              "      padding: 0 0 0 0;\n",
              "      width: 32px;\n",
              "    }\n",
              "\n",
              "    .colab-df-convert:hover {\n",
              "      background-color: #E2EBFA;\n",
              "      box-shadow: 0px 1px 2px rgba(60, 64, 67, 0.3), 0px 1px 3px 1px rgba(60, 64, 67, 0.15);\n",
              "      fill: #174EA6;\n",
              "    }\n",
              "\n",
              "    [theme=dark] .colab-df-convert {\n",
              "      background-color: #3B4455;\n",
              "      fill: #D2E3FC;\n",
              "    }\n",
              "\n",
              "    [theme=dark] .colab-df-convert:hover {\n",
              "      background-color: #434B5C;\n",
              "      box-shadow: 0px 1px 3px 1px rgba(0, 0, 0, 0.15);\n",
              "      filter: drop-shadow(0px 1px 2px rgba(0, 0, 0, 0.3));\n",
              "      fill: #FFFFFF;\n",
              "    }\n",
              "  </style>\n",
              "\n",
              "      <script>\n",
              "        const buttonEl =\n",
              "          document.querySelector('#df-0f42fb2b-0081-463a-892e-a6c5ff1f6cbc button.colab-df-convert');\n",
              "        buttonEl.style.display =\n",
              "          google.colab.kernel.accessAllowed ? 'block' : 'none';\n",
              "\n",
              "        async function convertToInteractive(key) {\n",
              "          const element = document.querySelector('#df-0f42fb2b-0081-463a-892e-a6c5ff1f6cbc');\n",
              "          const dataTable =\n",
              "            await google.colab.kernel.invokeFunction('convertToInteractive',\n",
              "                                                     [key], {});\n",
              "          if (!dataTable) return;\n",
              "\n",
              "          const docLinkHtml = 'Like what you see? Visit the ' +\n",
              "            '<a target=\"_blank\" href=https://colab.research.google.com/notebooks/data_table.ipynb>data table notebook</a>'\n",
              "            + ' to learn more about interactive tables.';\n",
              "          element.innerHTML = '';\n",
              "          dataTable['output_type'] = 'display_data';\n",
              "          await google.colab.output.renderOutput(dataTable, element);\n",
              "          const docLink = document.createElement('div');\n",
              "          docLink.innerHTML = docLinkHtml;\n",
              "          element.appendChild(docLink);\n",
              "        }\n",
              "      </script>\n",
              "    </div>\n",
              "  </div>\n",
              "  "
            ]
          },
          "metadata": {},
          "execution_count": 47
        }
      ]
    },
    {
      "cell_type": "code",
      "source": [
        "press_np = pd.read_excel('/content/drive/MyDrive/bsc_DPDM_data/อุตุ/ความกด(เปอร์เซ็นต์)/จ.นครพนม.xlsx',skiprows=3).drop(0, axis=0)\n",
        "press_np.head(3)"
      ],
      "metadata": {
        "colab": {
          "base_uri": "https://localhost:8080/",
          "height": 358
        },
        "id": "WKn4VJHXr2X7",
        "outputId": "55dc6e5d-b598-46f5-98b2-959d5b2f8f4a"
      },
      "execution_count": 48,
      "outputs": [
        {
          "output_type": "execute_result",
          "data": {
            "text/plain": [
              "   ที่                     สถานี   เดือน/ปี   วันที่  Unnamed: 4  Unnamed: 5  \\\n",
              "1  1    352201-หนองคาย จ.หนองคาย 2011-10-01  1006.30     1007.38     1008.07   \n",
              "2  2    352201-หนองคาย จ.หนองคาย 2011-11-01  1012.28     1011.23     1011.08   \n",
              "3  3    352201-หนองคาย จ.หนองคาย 2011-12-01  1012.15     1013.75     1013.24   \n",
              "\n",
              "   Unnamed: 6  Unnamed: 7  Unnamed: 8  Unnamed: 9  ...  Unnamed: 25  \\\n",
              "1     1008.44     1010.51     1011.65     1011.24  ...      1011.09   \n",
              "2     1010.96     1010.57     1009.20     1007.99  ...      1015.49   \n",
              "3     1013.94     1013.35     1012.62     1012.48  ...      1014.23   \n",
              "\n",
              "   Unnamed: 26  Unnamed: 27  Unnamed: 28  Unnamed: 29  Unnamed: 30  \\\n",
              "1      1010.64      1012.01      1012.47      1012.46      1012.85   \n",
              "2      1016.09      1014.62      1012.80      1011.83      1010.00   \n",
              "3      1017.58      1019.77      1019.71      1017.34      1017.01   \n",
              "\n",
              "   Unnamed: 31  Unnamed: 32  Unnamed: 33       เฉลี่ย  \n",
              "1      1012.43      1011.69      1012.28  1010.754839  \n",
              "2       1010.6      1011.13            -  1012.184667  \n",
              "3      1015.64      1016.89      1017.73  1016.470000  \n",
              "\n",
              "[3 rows x 35 columns]"
            ],
            "text/html": [
              "\n",
              "  <div id=\"df-61aeb934-69a5-4a4a-a928-c1c0009447ce\">\n",
              "    <div class=\"colab-df-container\">\n",
              "      <div>\n",
              "<style scoped>\n",
              "    .dataframe tbody tr th:only-of-type {\n",
              "        vertical-align: middle;\n",
              "    }\n",
              "\n",
              "    .dataframe tbody tr th {\n",
              "        vertical-align: top;\n",
              "    }\n",
              "\n",
              "    .dataframe thead th {\n",
              "        text-align: right;\n",
              "    }\n",
              "</style>\n",
              "<table border=\"1\" class=\"dataframe\">\n",
              "  <thead>\n",
              "    <tr style=\"text-align: right;\">\n",
              "      <th></th>\n",
              "      <th>ที่</th>\n",
              "      <th>สถานี</th>\n",
              "      <th>เดือน/ปี</th>\n",
              "      <th>วันที่</th>\n",
              "      <th>Unnamed: 4</th>\n",
              "      <th>Unnamed: 5</th>\n",
              "      <th>Unnamed: 6</th>\n",
              "      <th>Unnamed: 7</th>\n",
              "      <th>Unnamed: 8</th>\n",
              "      <th>Unnamed: 9</th>\n",
              "      <th>...</th>\n",
              "      <th>Unnamed: 25</th>\n",
              "      <th>Unnamed: 26</th>\n",
              "      <th>Unnamed: 27</th>\n",
              "      <th>Unnamed: 28</th>\n",
              "      <th>Unnamed: 29</th>\n",
              "      <th>Unnamed: 30</th>\n",
              "      <th>Unnamed: 31</th>\n",
              "      <th>Unnamed: 32</th>\n",
              "      <th>Unnamed: 33</th>\n",
              "      <th>เฉลี่ย</th>\n",
              "    </tr>\n",
              "  </thead>\n",
              "  <tbody>\n",
              "    <tr>\n",
              "      <th>1</th>\n",
              "      <td>1</td>\n",
              "      <td>352201-หนองคาย จ.หนองคาย</td>\n",
              "      <td>2011-10-01</td>\n",
              "      <td>1006.30</td>\n",
              "      <td>1007.38</td>\n",
              "      <td>1008.07</td>\n",
              "      <td>1008.44</td>\n",
              "      <td>1010.51</td>\n",
              "      <td>1011.65</td>\n",
              "      <td>1011.24</td>\n",
              "      <td>...</td>\n",
              "      <td>1011.09</td>\n",
              "      <td>1010.64</td>\n",
              "      <td>1012.01</td>\n",
              "      <td>1012.47</td>\n",
              "      <td>1012.46</td>\n",
              "      <td>1012.85</td>\n",
              "      <td>1012.43</td>\n",
              "      <td>1011.69</td>\n",
              "      <td>1012.28</td>\n",
              "      <td>1010.754839</td>\n",
              "    </tr>\n",
              "    <tr>\n",
              "      <th>2</th>\n",
              "      <td>2</td>\n",
              "      <td>352201-หนองคาย จ.หนองคาย</td>\n",
              "      <td>2011-11-01</td>\n",
              "      <td>1012.28</td>\n",
              "      <td>1011.23</td>\n",
              "      <td>1011.08</td>\n",
              "      <td>1010.96</td>\n",
              "      <td>1010.57</td>\n",
              "      <td>1009.20</td>\n",
              "      <td>1007.99</td>\n",
              "      <td>...</td>\n",
              "      <td>1015.49</td>\n",
              "      <td>1016.09</td>\n",
              "      <td>1014.62</td>\n",
              "      <td>1012.80</td>\n",
              "      <td>1011.83</td>\n",
              "      <td>1010.00</td>\n",
              "      <td>1010.6</td>\n",
              "      <td>1011.13</td>\n",
              "      <td>-</td>\n",
              "      <td>1012.184667</td>\n",
              "    </tr>\n",
              "    <tr>\n",
              "      <th>3</th>\n",
              "      <td>3</td>\n",
              "      <td>352201-หนองคาย จ.หนองคาย</td>\n",
              "      <td>2011-12-01</td>\n",
              "      <td>1012.15</td>\n",
              "      <td>1013.75</td>\n",
              "      <td>1013.24</td>\n",
              "      <td>1013.94</td>\n",
              "      <td>1013.35</td>\n",
              "      <td>1012.62</td>\n",
              "      <td>1012.48</td>\n",
              "      <td>...</td>\n",
              "      <td>1014.23</td>\n",
              "      <td>1017.58</td>\n",
              "      <td>1019.77</td>\n",
              "      <td>1019.71</td>\n",
              "      <td>1017.34</td>\n",
              "      <td>1017.01</td>\n",
              "      <td>1015.64</td>\n",
              "      <td>1016.89</td>\n",
              "      <td>1017.73</td>\n",
              "      <td>1016.470000</td>\n",
              "    </tr>\n",
              "  </tbody>\n",
              "</table>\n",
              "<p>3 rows × 35 columns</p>\n",
              "</div>\n",
              "      <button class=\"colab-df-convert\" onclick=\"convertToInteractive('df-61aeb934-69a5-4a4a-a928-c1c0009447ce')\"\n",
              "              title=\"Convert this dataframe to an interactive table.\"\n",
              "              style=\"display:none;\">\n",
              "        \n",
              "  <svg xmlns=\"http://www.w3.org/2000/svg\" height=\"24px\"viewBox=\"0 0 24 24\"\n",
              "       width=\"24px\">\n",
              "    <path d=\"M0 0h24v24H0V0z\" fill=\"none\"/>\n",
              "    <path d=\"M18.56 5.44l.94 2.06.94-2.06 2.06-.94-2.06-.94-.94-2.06-.94 2.06-2.06.94zm-11 1L8.5 8.5l.94-2.06 2.06-.94-2.06-.94L8.5 2.5l-.94 2.06-2.06.94zm10 10l.94 2.06.94-2.06 2.06-.94-2.06-.94-.94-2.06-.94 2.06-2.06.94z\"/><path d=\"M17.41 7.96l-1.37-1.37c-.4-.4-.92-.59-1.43-.59-.52 0-1.04.2-1.43.59L10.3 9.45l-7.72 7.72c-.78.78-.78 2.05 0 2.83L4 21.41c.39.39.9.59 1.41.59.51 0 1.02-.2 1.41-.59l7.78-7.78 2.81-2.81c.8-.78.8-2.07 0-2.86zM5.41 20L4 18.59l7.72-7.72 1.47 1.35L5.41 20z\"/>\n",
              "  </svg>\n",
              "      </button>\n",
              "      \n",
              "  <style>\n",
              "    .colab-df-container {\n",
              "      display:flex;\n",
              "      flex-wrap:wrap;\n",
              "      gap: 12px;\n",
              "    }\n",
              "\n",
              "    .colab-df-convert {\n",
              "      background-color: #E8F0FE;\n",
              "      border: none;\n",
              "      border-radius: 50%;\n",
              "      cursor: pointer;\n",
              "      display: none;\n",
              "      fill: #1967D2;\n",
              "      height: 32px;\n",
              "      padding: 0 0 0 0;\n",
              "      width: 32px;\n",
              "    }\n",
              "\n",
              "    .colab-df-convert:hover {\n",
              "      background-color: #E2EBFA;\n",
              "      box-shadow: 0px 1px 2px rgba(60, 64, 67, 0.3), 0px 1px 3px 1px rgba(60, 64, 67, 0.15);\n",
              "      fill: #174EA6;\n",
              "    }\n",
              "\n",
              "    [theme=dark] .colab-df-convert {\n",
              "      background-color: #3B4455;\n",
              "      fill: #D2E3FC;\n",
              "    }\n",
              "\n",
              "    [theme=dark] .colab-df-convert:hover {\n",
              "      background-color: #434B5C;\n",
              "      box-shadow: 0px 1px 3px 1px rgba(0, 0, 0, 0.15);\n",
              "      filter: drop-shadow(0px 1px 2px rgba(0, 0, 0, 0.3));\n",
              "      fill: #FFFFFF;\n",
              "    }\n",
              "  </style>\n",
              "\n",
              "      <script>\n",
              "        const buttonEl =\n",
              "          document.querySelector('#df-61aeb934-69a5-4a4a-a928-c1c0009447ce button.colab-df-convert');\n",
              "        buttonEl.style.display =\n",
              "          google.colab.kernel.accessAllowed ? 'block' : 'none';\n",
              "\n",
              "        async function convertToInteractive(key) {\n",
              "          const element = document.querySelector('#df-61aeb934-69a5-4a4a-a928-c1c0009447ce');\n",
              "          const dataTable =\n",
              "            await google.colab.kernel.invokeFunction('convertToInteractive',\n",
              "                                                     [key], {});\n",
              "          if (!dataTable) return;\n",
              "\n",
              "          const docLinkHtml = 'Like what you see? Visit the ' +\n",
              "            '<a target=\"_blank\" href=https://colab.research.google.com/notebooks/data_table.ipynb>data table notebook</a>'\n",
              "            + ' to learn more about interactive tables.';\n",
              "          element.innerHTML = '';\n",
              "          dataTable['output_type'] = 'display_data';\n",
              "          await google.colab.output.renderOutput(dataTable, element);\n",
              "          const docLink = document.createElement('div');\n",
              "          docLink.innerHTML = docLinkHtml;\n",
              "          element.appendChild(docLink);\n",
              "        }\n",
              "      </script>\n",
              "    </div>\n",
              "  </div>\n",
              "  "
            ]
          },
          "metadata": {},
          "execution_count": 48
        }
      ]
    },
    {
      "cell_type": "code",
      "source": [
        "press_k = pd.read_excel('/content/drive/MyDrive/bsc_DPDM_data/อุตุ/ความกด(เปอร์เซ็นต์)/จ.ขอนแก่น.xlsx',skiprows=3).drop(0, axis=0)\n",
        "press_k.head(3)"
      ],
      "metadata": {
        "colab": {
          "base_uri": "https://localhost:8080/",
          "height": 358
        },
        "id": "y9xEJZFM0o44",
        "outputId": "f6bc636e-8cdf-4eac-9bde-351918e77ca4"
      },
      "execution_count": 49,
      "outputs": [
        {
          "output_type": "execute_result",
          "data": {
            "text/plain": [
              "   ที่                     สถานี   เดือน/ปี   วันที่  Unnamed: 4  Unnamed: 5  \\\n",
              "1  1    352201-หนองคาย จ.หนองคาย 2011-10-01  1005.47     1006.65     1007.49   \n",
              "2  2    352201-หนองคาย จ.หนองคาย 2011-11-01  1011.79     1010.83     1010.74   \n",
              "3  3    352201-หนองคาย จ.หนองคาย 2011-12-01  1011.43     1012.57     1012.28   \n",
              "\n",
              "   Unnamed: 6  Unnamed: 7  Unnamed: 8  Unnamed: 9  ...  Unnamed: 25  \\\n",
              "1     1008.28     1009.88     1011.36     1011.17  ...      1010.76   \n",
              "2     1010.71     1010.09     1009.24     1008.03  ...      1014.07   \n",
              "3     1012.97     1013.09     1012.03     1012.05  ...      1012.88   \n",
              "\n",
              "   Unnamed: 26  Unnamed: 27  Unnamed: 28  Unnamed: 29  Unnamed: 30  \\\n",
              "1      1010.23      1011.34      1011.84      1011.89      1012.29   \n",
              "2      1015.40      1013.95      1012.35      1011.31      1009.59   \n",
              "3      1015.78      1018.56      1018.65      1016.88      1016.05   \n",
              "\n",
              "   Unnamed: 31  Unnamed: 32  Unnamed: 33       เฉลี่ย  \n",
              "1      1011.67       1011.3      1011.52  1010.350645  \n",
              "2      1010.13      1010.47            -  1011.717000  \n",
              "3      1014.98      1015.53       1016.4  1016.470000  \n",
              "\n",
              "[3 rows x 35 columns]"
            ],
            "text/html": [
              "\n",
              "  <div id=\"df-dfef6d65-09ea-491a-a89a-c612ec89dec2\">\n",
              "    <div class=\"colab-df-container\">\n",
              "      <div>\n",
              "<style scoped>\n",
              "    .dataframe tbody tr th:only-of-type {\n",
              "        vertical-align: middle;\n",
              "    }\n",
              "\n",
              "    .dataframe tbody tr th {\n",
              "        vertical-align: top;\n",
              "    }\n",
              "\n",
              "    .dataframe thead th {\n",
              "        text-align: right;\n",
              "    }\n",
              "</style>\n",
              "<table border=\"1\" class=\"dataframe\">\n",
              "  <thead>\n",
              "    <tr style=\"text-align: right;\">\n",
              "      <th></th>\n",
              "      <th>ที่</th>\n",
              "      <th>สถานี</th>\n",
              "      <th>เดือน/ปี</th>\n",
              "      <th>วันที่</th>\n",
              "      <th>Unnamed: 4</th>\n",
              "      <th>Unnamed: 5</th>\n",
              "      <th>Unnamed: 6</th>\n",
              "      <th>Unnamed: 7</th>\n",
              "      <th>Unnamed: 8</th>\n",
              "      <th>Unnamed: 9</th>\n",
              "      <th>...</th>\n",
              "      <th>Unnamed: 25</th>\n",
              "      <th>Unnamed: 26</th>\n",
              "      <th>Unnamed: 27</th>\n",
              "      <th>Unnamed: 28</th>\n",
              "      <th>Unnamed: 29</th>\n",
              "      <th>Unnamed: 30</th>\n",
              "      <th>Unnamed: 31</th>\n",
              "      <th>Unnamed: 32</th>\n",
              "      <th>Unnamed: 33</th>\n",
              "      <th>เฉลี่ย</th>\n",
              "    </tr>\n",
              "  </thead>\n",
              "  <tbody>\n",
              "    <tr>\n",
              "      <th>1</th>\n",
              "      <td>1</td>\n",
              "      <td>352201-หนองคาย จ.หนองคาย</td>\n",
              "      <td>2011-10-01</td>\n",
              "      <td>1005.47</td>\n",
              "      <td>1006.65</td>\n",
              "      <td>1007.49</td>\n",
              "      <td>1008.28</td>\n",
              "      <td>1009.88</td>\n",
              "      <td>1011.36</td>\n",
              "      <td>1011.17</td>\n",
              "      <td>...</td>\n",
              "      <td>1010.76</td>\n",
              "      <td>1010.23</td>\n",
              "      <td>1011.34</td>\n",
              "      <td>1011.84</td>\n",
              "      <td>1011.89</td>\n",
              "      <td>1012.29</td>\n",
              "      <td>1011.67</td>\n",
              "      <td>1011.3</td>\n",
              "      <td>1011.52</td>\n",
              "      <td>1010.350645</td>\n",
              "    </tr>\n",
              "    <tr>\n",
              "      <th>2</th>\n",
              "      <td>2</td>\n",
              "      <td>352201-หนองคาย จ.หนองคาย</td>\n",
              "      <td>2011-11-01</td>\n",
              "      <td>1011.79</td>\n",
              "      <td>1010.83</td>\n",
              "      <td>1010.74</td>\n",
              "      <td>1010.71</td>\n",
              "      <td>1010.09</td>\n",
              "      <td>1009.24</td>\n",
              "      <td>1008.03</td>\n",
              "      <td>...</td>\n",
              "      <td>1014.07</td>\n",
              "      <td>1015.40</td>\n",
              "      <td>1013.95</td>\n",
              "      <td>1012.35</td>\n",
              "      <td>1011.31</td>\n",
              "      <td>1009.59</td>\n",
              "      <td>1010.13</td>\n",
              "      <td>1010.47</td>\n",
              "      <td>-</td>\n",
              "      <td>1011.717000</td>\n",
              "    </tr>\n",
              "    <tr>\n",
              "      <th>3</th>\n",
              "      <td>3</td>\n",
              "      <td>352201-หนองคาย จ.หนองคาย</td>\n",
              "      <td>2011-12-01</td>\n",
              "      <td>1011.43</td>\n",
              "      <td>1012.57</td>\n",
              "      <td>1012.28</td>\n",
              "      <td>1012.97</td>\n",
              "      <td>1013.09</td>\n",
              "      <td>1012.03</td>\n",
              "      <td>1012.05</td>\n",
              "      <td>...</td>\n",
              "      <td>1012.88</td>\n",
              "      <td>1015.78</td>\n",
              "      <td>1018.56</td>\n",
              "      <td>1018.65</td>\n",
              "      <td>1016.88</td>\n",
              "      <td>1016.05</td>\n",
              "      <td>1014.98</td>\n",
              "      <td>1015.53</td>\n",
              "      <td>1016.4</td>\n",
              "      <td>1016.470000</td>\n",
              "    </tr>\n",
              "  </tbody>\n",
              "</table>\n",
              "<p>3 rows × 35 columns</p>\n",
              "</div>\n",
              "      <button class=\"colab-df-convert\" onclick=\"convertToInteractive('df-dfef6d65-09ea-491a-a89a-c612ec89dec2')\"\n",
              "              title=\"Convert this dataframe to an interactive table.\"\n",
              "              style=\"display:none;\">\n",
              "        \n",
              "  <svg xmlns=\"http://www.w3.org/2000/svg\" height=\"24px\"viewBox=\"0 0 24 24\"\n",
              "       width=\"24px\">\n",
              "    <path d=\"M0 0h24v24H0V0z\" fill=\"none\"/>\n",
              "    <path d=\"M18.56 5.44l.94 2.06.94-2.06 2.06-.94-2.06-.94-.94-2.06-.94 2.06-2.06.94zm-11 1L8.5 8.5l.94-2.06 2.06-.94-2.06-.94L8.5 2.5l-.94 2.06-2.06.94zm10 10l.94 2.06.94-2.06 2.06-.94-2.06-.94-.94-2.06-.94 2.06-2.06.94z\"/><path d=\"M17.41 7.96l-1.37-1.37c-.4-.4-.92-.59-1.43-.59-.52 0-1.04.2-1.43.59L10.3 9.45l-7.72 7.72c-.78.78-.78 2.05 0 2.83L4 21.41c.39.39.9.59 1.41.59.51 0 1.02-.2 1.41-.59l7.78-7.78 2.81-2.81c.8-.78.8-2.07 0-2.86zM5.41 20L4 18.59l7.72-7.72 1.47 1.35L5.41 20z\"/>\n",
              "  </svg>\n",
              "      </button>\n",
              "      \n",
              "  <style>\n",
              "    .colab-df-container {\n",
              "      display:flex;\n",
              "      flex-wrap:wrap;\n",
              "      gap: 12px;\n",
              "    }\n",
              "\n",
              "    .colab-df-convert {\n",
              "      background-color: #E8F0FE;\n",
              "      border: none;\n",
              "      border-radius: 50%;\n",
              "      cursor: pointer;\n",
              "      display: none;\n",
              "      fill: #1967D2;\n",
              "      height: 32px;\n",
              "      padding: 0 0 0 0;\n",
              "      width: 32px;\n",
              "    }\n",
              "\n",
              "    .colab-df-convert:hover {\n",
              "      background-color: #E2EBFA;\n",
              "      box-shadow: 0px 1px 2px rgba(60, 64, 67, 0.3), 0px 1px 3px 1px rgba(60, 64, 67, 0.15);\n",
              "      fill: #174EA6;\n",
              "    }\n",
              "\n",
              "    [theme=dark] .colab-df-convert {\n",
              "      background-color: #3B4455;\n",
              "      fill: #D2E3FC;\n",
              "    }\n",
              "\n",
              "    [theme=dark] .colab-df-convert:hover {\n",
              "      background-color: #434B5C;\n",
              "      box-shadow: 0px 1px 3px 1px rgba(0, 0, 0, 0.15);\n",
              "      filter: drop-shadow(0px 1px 2px rgba(0, 0, 0, 0.3));\n",
              "      fill: #FFFFFF;\n",
              "    }\n",
              "  </style>\n",
              "\n",
              "      <script>\n",
              "        const buttonEl =\n",
              "          document.querySelector('#df-dfef6d65-09ea-491a-a89a-c612ec89dec2 button.colab-df-convert');\n",
              "        buttonEl.style.display =\n",
              "          google.colab.kernel.accessAllowed ? 'block' : 'none';\n",
              "\n",
              "        async function convertToInteractive(key) {\n",
              "          const element = document.querySelector('#df-dfef6d65-09ea-491a-a89a-c612ec89dec2');\n",
              "          const dataTable =\n",
              "            await google.colab.kernel.invokeFunction('convertToInteractive',\n",
              "                                                     [key], {});\n",
              "          if (!dataTable) return;\n",
              "\n",
              "          const docLinkHtml = 'Like what you see? Visit the ' +\n",
              "            '<a target=\"_blank\" href=https://colab.research.google.com/notebooks/data_table.ipynb>data table notebook</a>'\n",
              "            + ' to learn more about interactive tables.';\n",
              "          element.innerHTML = '';\n",
              "          dataTable['output_type'] = 'display_data';\n",
              "          await google.colab.output.renderOutput(dataTable, element);\n",
              "          const docLink = document.createElement('div');\n",
              "          docLink.innerHTML = docLinkHtml;\n",
              "          element.appendChild(docLink);\n",
              "        }\n",
              "      </script>\n",
              "    </div>\n",
              "  </div>\n",
              "  "
            ]
          },
          "metadata": {},
          "execution_count": 49
        }
      ]
    },
    {
      "cell_type": "code",
      "source": [
        "press_n = pd.read_excel('/content/drive/MyDrive/bsc_DPDM_data/อุตุ/ความกด(เปอร์เซ็นต์)/จ.หนองคาย.xlsx',skiprows=3).drop(0, axis=0)\n",
        "press_n.head(3)"
      ],
      "metadata": {
        "colab": {
          "base_uri": "https://localhost:8080/",
          "height": 358
        },
        "id": "67XI7aV90uz8",
        "outputId": "283d2eac-0b6c-45ba-a429-f1c28fa4dffe"
      },
      "execution_count": 50,
      "outputs": [
        {
          "output_type": "execute_result",
          "data": {
            "text/plain": [
              "   ที่                     สถานี   เดือน/ปี   วันที่  Unnamed: 4  Unnamed: 5  \\\n",
              "1  1    352201-หนองคาย จ.หนองคาย 2011-10-01  1005.34     1006.67     1007.39   \n",
              "2  2    352201-หนองคาย จ.หนองคาย 2011-11-01  1012.05     1011.35     1011.28   \n",
              "3  3    352201-หนองคาย จ.หนองคาย 2011-12-01  1012.16     1013.26     1012.40   \n",
              "\n",
              "   Unnamed: 6  Unnamed: 7  Unnamed: 8  Unnamed: 9  ...  Unnamed: 25  \\\n",
              "1     1008.11     1009.69     1011.55     1011.28  ...      1011.01   \n",
              "2     1011.27     1010.62     1009.58     1008.55  ...      1015.27   \n",
              "3     1013.57     1013.68     1012.72     1012.44  ...      1013.94   \n",
              "\n",
              "   Unnamed: 26  Unnamed: 27  Unnamed: 28  Unnamed: 29  Unnamed: 30  \\\n",
              "1      1010.71      1011.67      1012.36      1012.50      1012.81   \n",
              "2      1016.46      1014.65      1013.08      1011.62      1010.21   \n",
              "3      1016.92      1019.05      1019.88      1017.86      1016.76   \n",
              "\n",
              "   Unnamed: 31  Unnamed: 32  Unnamed: 33       เฉลี่ย  \n",
              "1      1011.88      1011.77      1012.18  1010.580645  \n",
              "2      1010.71       1011.1            -  1012.332333  \n",
              "3      1015.63      1016.31      1017.19  1015.468065  \n",
              "\n",
              "[3 rows x 35 columns]"
            ],
            "text/html": [
              "\n",
              "  <div id=\"df-73147947-0c14-4016-8047-a160e28efb9d\">\n",
              "    <div class=\"colab-df-container\">\n",
              "      <div>\n",
              "<style scoped>\n",
              "    .dataframe tbody tr th:only-of-type {\n",
              "        vertical-align: middle;\n",
              "    }\n",
              "\n",
              "    .dataframe tbody tr th {\n",
              "        vertical-align: top;\n",
              "    }\n",
              "\n",
              "    .dataframe thead th {\n",
              "        text-align: right;\n",
              "    }\n",
              "</style>\n",
              "<table border=\"1\" class=\"dataframe\">\n",
              "  <thead>\n",
              "    <tr style=\"text-align: right;\">\n",
              "      <th></th>\n",
              "      <th>ที่</th>\n",
              "      <th>สถานี</th>\n",
              "      <th>เดือน/ปี</th>\n",
              "      <th>วันที่</th>\n",
              "      <th>Unnamed: 4</th>\n",
              "      <th>Unnamed: 5</th>\n",
              "      <th>Unnamed: 6</th>\n",
              "      <th>Unnamed: 7</th>\n",
              "      <th>Unnamed: 8</th>\n",
              "      <th>Unnamed: 9</th>\n",
              "      <th>...</th>\n",
              "      <th>Unnamed: 25</th>\n",
              "      <th>Unnamed: 26</th>\n",
              "      <th>Unnamed: 27</th>\n",
              "      <th>Unnamed: 28</th>\n",
              "      <th>Unnamed: 29</th>\n",
              "      <th>Unnamed: 30</th>\n",
              "      <th>Unnamed: 31</th>\n",
              "      <th>Unnamed: 32</th>\n",
              "      <th>Unnamed: 33</th>\n",
              "      <th>เฉลี่ย</th>\n",
              "    </tr>\n",
              "  </thead>\n",
              "  <tbody>\n",
              "    <tr>\n",
              "      <th>1</th>\n",
              "      <td>1</td>\n",
              "      <td>352201-หนองคาย จ.หนองคาย</td>\n",
              "      <td>2011-10-01</td>\n",
              "      <td>1005.34</td>\n",
              "      <td>1006.67</td>\n",
              "      <td>1007.39</td>\n",
              "      <td>1008.11</td>\n",
              "      <td>1009.69</td>\n",
              "      <td>1011.55</td>\n",
              "      <td>1011.28</td>\n",
              "      <td>...</td>\n",
              "      <td>1011.01</td>\n",
              "      <td>1010.71</td>\n",
              "      <td>1011.67</td>\n",
              "      <td>1012.36</td>\n",
              "      <td>1012.50</td>\n",
              "      <td>1012.81</td>\n",
              "      <td>1011.88</td>\n",
              "      <td>1011.77</td>\n",
              "      <td>1012.18</td>\n",
              "      <td>1010.580645</td>\n",
              "    </tr>\n",
              "    <tr>\n",
              "      <th>2</th>\n",
              "      <td>2</td>\n",
              "      <td>352201-หนองคาย จ.หนองคาย</td>\n",
              "      <td>2011-11-01</td>\n",
              "      <td>1012.05</td>\n",
              "      <td>1011.35</td>\n",
              "      <td>1011.28</td>\n",
              "      <td>1011.27</td>\n",
              "      <td>1010.62</td>\n",
              "      <td>1009.58</td>\n",
              "      <td>1008.55</td>\n",
              "      <td>...</td>\n",
              "      <td>1015.27</td>\n",
              "      <td>1016.46</td>\n",
              "      <td>1014.65</td>\n",
              "      <td>1013.08</td>\n",
              "      <td>1011.62</td>\n",
              "      <td>1010.21</td>\n",
              "      <td>1010.71</td>\n",
              "      <td>1011.1</td>\n",
              "      <td>-</td>\n",
              "      <td>1012.332333</td>\n",
              "    </tr>\n",
              "    <tr>\n",
              "      <th>3</th>\n",
              "      <td>3</td>\n",
              "      <td>352201-หนองคาย จ.หนองคาย</td>\n",
              "      <td>2011-12-01</td>\n",
              "      <td>1012.16</td>\n",
              "      <td>1013.26</td>\n",
              "      <td>1012.40</td>\n",
              "      <td>1013.57</td>\n",
              "      <td>1013.68</td>\n",
              "      <td>1012.72</td>\n",
              "      <td>1012.44</td>\n",
              "      <td>...</td>\n",
              "      <td>1013.94</td>\n",
              "      <td>1016.92</td>\n",
              "      <td>1019.05</td>\n",
              "      <td>1019.88</td>\n",
              "      <td>1017.86</td>\n",
              "      <td>1016.76</td>\n",
              "      <td>1015.63</td>\n",
              "      <td>1016.31</td>\n",
              "      <td>1017.19</td>\n",
              "      <td>1015.468065</td>\n",
              "    </tr>\n",
              "  </tbody>\n",
              "</table>\n",
              "<p>3 rows × 35 columns</p>\n",
              "</div>\n",
              "      <button class=\"colab-df-convert\" onclick=\"convertToInteractive('df-73147947-0c14-4016-8047-a160e28efb9d')\"\n",
              "              title=\"Convert this dataframe to an interactive table.\"\n",
              "              style=\"display:none;\">\n",
              "        \n",
              "  <svg xmlns=\"http://www.w3.org/2000/svg\" height=\"24px\"viewBox=\"0 0 24 24\"\n",
              "       width=\"24px\">\n",
              "    <path d=\"M0 0h24v24H0V0z\" fill=\"none\"/>\n",
              "    <path d=\"M18.56 5.44l.94 2.06.94-2.06 2.06-.94-2.06-.94-.94-2.06-.94 2.06-2.06.94zm-11 1L8.5 8.5l.94-2.06 2.06-.94-2.06-.94L8.5 2.5l-.94 2.06-2.06.94zm10 10l.94 2.06.94-2.06 2.06-.94-2.06-.94-.94-2.06-.94 2.06-2.06.94z\"/><path d=\"M17.41 7.96l-1.37-1.37c-.4-.4-.92-.59-1.43-.59-.52 0-1.04.2-1.43.59L10.3 9.45l-7.72 7.72c-.78.78-.78 2.05 0 2.83L4 21.41c.39.39.9.59 1.41.59.51 0 1.02-.2 1.41-.59l7.78-7.78 2.81-2.81c.8-.78.8-2.07 0-2.86zM5.41 20L4 18.59l7.72-7.72 1.47 1.35L5.41 20z\"/>\n",
              "  </svg>\n",
              "      </button>\n",
              "      \n",
              "  <style>\n",
              "    .colab-df-container {\n",
              "      display:flex;\n",
              "      flex-wrap:wrap;\n",
              "      gap: 12px;\n",
              "    }\n",
              "\n",
              "    .colab-df-convert {\n",
              "      background-color: #E8F0FE;\n",
              "      border: none;\n",
              "      border-radius: 50%;\n",
              "      cursor: pointer;\n",
              "      display: none;\n",
              "      fill: #1967D2;\n",
              "      height: 32px;\n",
              "      padding: 0 0 0 0;\n",
              "      width: 32px;\n",
              "    }\n",
              "\n",
              "    .colab-df-convert:hover {\n",
              "      background-color: #E2EBFA;\n",
              "      box-shadow: 0px 1px 2px rgba(60, 64, 67, 0.3), 0px 1px 3px 1px rgba(60, 64, 67, 0.15);\n",
              "      fill: #174EA6;\n",
              "    }\n",
              "\n",
              "    [theme=dark] .colab-df-convert {\n",
              "      background-color: #3B4455;\n",
              "      fill: #D2E3FC;\n",
              "    }\n",
              "\n",
              "    [theme=dark] .colab-df-convert:hover {\n",
              "      background-color: #434B5C;\n",
              "      box-shadow: 0px 1px 3px 1px rgba(0, 0, 0, 0.15);\n",
              "      filter: drop-shadow(0px 1px 2px rgba(0, 0, 0, 0.3));\n",
              "      fill: #FFFFFF;\n",
              "    }\n",
              "  </style>\n",
              "\n",
              "      <script>\n",
              "        const buttonEl =\n",
              "          document.querySelector('#df-73147947-0c14-4016-8047-a160e28efb9d button.colab-df-convert');\n",
              "        buttonEl.style.display =\n",
              "          google.colab.kernel.accessAllowed ? 'block' : 'none';\n",
              "\n",
              "        async function convertToInteractive(key) {\n",
              "          const element = document.querySelector('#df-73147947-0c14-4016-8047-a160e28efb9d');\n",
              "          const dataTable =\n",
              "            await google.colab.kernel.invokeFunction('convertToInteractive',\n",
              "                                                     [key], {});\n",
              "          if (!dataTable) return;\n",
              "\n",
              "          const docLinkHtml = 'Like what you see? Visit the ' +\n",
              "            '<a target=\"_blank\" href=https://colab.research.google.com/notebooks/data_table.ipynb>data table notebook</a>'\n",
              "            + ' to learn more about interactive tables.';\n",
              "          element.innerHTML = '';\n",
              "          dataTable['output_type'] = 'display_data';\n",
              "          await google.colab.output.renderOutput(dataTable, element);\n",
              "          const docLink = document.createElement('div');\n",
              "          docLink.innerHTML = docLinkHtml;\n",
              "          element.appendChild(docLink);\n",
              "        }\n",
              "      </script>\n",
              "    </div>\n",
              "  </div>\n",
              "  "
            ]
          },
          "metadata": {},
          "execution_count": 50
        }
      ]
    },
    {
      "cell_type": "markdown",
      "source": [
        "## Relative humidity ความชื้นสัมพัทธ์"
      ],
      "metadata": {
        "id": "P63-1523rxk4"
      }
    },
    {
      "cell_type": "code",
      "source": [
        "KK_rh = pd.read_excel('/content/drive/MyDrive/bsc_DPDM_data/อุตุ/ความชื้นสัมพัทธ์(เปอร์เซ็นต์)/จ.ขอนแก่น.xlsx',skiprows=3).drop(0, axis=0)"
      ],
      "metadata": {
        "id": "fNdmRD4Jr5iE"
      },
      "execution_count": null,
      "outputs": []
    },
    {
      "cell_type": "code",
      "source": [
        "NP_rh = pd.read_excel('/content/drive/MyDrive/bsc_DPDM_data/อุตุ/ความชื้นสัมพัทธ์(เปอร์เซ็นต์)/จ.นครพนม.xlsx',skiprows=3).drop(0, axis=0)"
      ],
      "metadata": {
        "id": "pGEXnRu9sCr-"
      },
      "execution_count": null,
      "outputs": []
    },
    {
      "cell_type": "code",
      "source": [
        "SK_rh = pd.read_excel('/content/drive/MyDrive/bsc_DPDM_data/อุตุ/ความชื้นสัมพัทธ์(เปอร์เซ็นต์)/จ.สกลนคร.xlsx',skiprows=3).drop(0, axis=0)"
      ],
      "metadata": {
        "id": "k1jwe1k1sDpM"
      },
      "execution_count": null,
      "outputs": []
    },
    {
      "cell_type": "code",
      "source": [
        "NK_rh = pd.read_excel('/content/drive/MyDrive/bsc_DPDM_data/อุตุ/ความชื้นสัมพัทธ์(เปอร์เซ็นต์)/จ.หนองคาย.xlsx',skiprows=3).drop(0, axis=0)"
      ],
      "metadata": {
        "id": "Ek9RVH3IsEhP"
      },
      "execution_count": null,
      "outputs": []
    },
    {
      "cell_type": "code",
      "source": [
        "L_rh = pd.read_excel('/content/drive/MyDrive/bsc_DPDM_data/อุตุ/ความชื้นสัมพัทธ์(เปอร์เซ็นต์)/จ.เลย.xlsx',skiprows=3).drop(0, axis=0)"
      ],
      "metadata": {
        "id": "MKa0zkggsFBZ"
      },
      "execution_count": null,
      "outputs": []
    },
    {
      "cell_type": "markdown",
      "source": [
        "## Wind Speed ความเร็วลม"
      ],
      "metadata": {
        "id": "ss2k7LKbsonB"
      }
    },
    {
      "cell_type": "code",
      "source": [
        "KK_ws =pd.read_excel('/content/drive/MyDrive/bsc_DPDM_data/อุตุ/ความเร็วลม(นอต)/จ.ขอนแก่น.xlsx',skiprows=3).drop(0, axis=0)"
      ],
      "metadata": {
        "id": "fUb0FVkRstWr"
      },
      "execution_count": null,
      "outputs": []
    },
    {
      "cell_type": "code",
      "source": [
        "NP_ws =pd.read_excel('/content/drive/MyDrive/bsc_DPDM_data/อุตุ/ความเร็วลม(นอต)/จ.นครพนม.xlsx',skiprows=3).drop(0, axis=0)"
      ],
      "metadata": {
        "id": "0e3NMY1Ks0Ri"
      },
      "execution_count": null,
      "outputs": []
    },
    {
      "cell_type": "code",
      "source": [
        "SK_ws =pd.read_excel('/content/drive/MyDrive/bsc_DPDM_data/อุตุ/ความเร็วลม(นอต)/จ.สกลนคร.xlsx',skiprows=3).drop(0, axis=0)"
      ],
      "metadata": {
        "id": "4lmRKA63s0pS"
      },
      "execution_count": null,
      "outputs": []
    },
    {
      "cell_type": "code",
      "source": [
        "NK_ws =pd.read_excel('/content/drive/MyDrive/bsc_DPDM_data/อุตุ/ความเร็วลม(นอต)/จ.หนองคาย.xlsx',skiprows=3).drop(0, axis=0)"
      ],
      "metadata": {
        "id": "GikeBSAUs1A6"
      },
      "execution_count": null,
      "outputs": []
    },
    {
      "cell_type": "code",
      "source": [
        "L_ws =pd.read_excel('/content/drive/MyDrive/bsc_DPDM_data/อุตุ/ความเร็วลม(นอต)/จ.เลย.xlsx',skiprows=3).drop(0, axis=0)"
      ],
      "metadata": {
        "id": "5Cp4xTUSs1Ro"
      },
      "execution_count": null,
      "outputs": []
    },
    {
      "cell_type": "markdown",
      "source": [
        "## CLound Amount"
      ],
      "metadata": {
        "id": "JWlLbLP9t9q6"
      }
    },
    {
      "cell_type": "code",
      "source": [
        "KK_ca = pd.read_excel('/content/drive/MyDrive/bsc_DPDM_data/อุตุ/จำนวนเมฆ(10ส่วน)/จ.ขอนแก่น.xlsx',skiprows=3).drop(0, axis=0)"
      ],
      "metadata": {
        "id": "fcAKuXLVuShP"
      },
      "execution_count": null,
      "outputs": []
    },
    {
      "cell_type": "code",
      "source": [
        "NP_ca = pd.read_excel('/content/drive/MyDrive/bsc_DPDM_data/อุตุ/จำนวนเมฆ(10ส่วน)/จ.นครพนม.xlsx',skiprows=3).drop(0, axis=0)"
      ],
      "metadata": {
        "id": "y5Dm_CFFuhkc"
      },
      "execution_count": null,
      "outputs": []
    },
    {
      "cell_type": "code",
      "source": [
        "SK_ca = pd.read_excel('/content/drive/MyDrive/bsc_DPDM_data/อุตุ/จำนวนเมฆ(10ส่วน)/จ.สกลนคร.xlsx',skiprows=3).drop(0, axis=0)"
      ],
      "metadata": {
        "id": "I8L4pTt-uh1z"
      },
      "execution_count": null,
      "outputs": []
    },
    {
      "cell_type": "code",
      "source": [
        "NK = pd.read_excel('/content/drive/MyDrive/bsc_DPDM_data/อุตุ/จำนวนเมฆ(10ส่วน)/จ.หนองคาย.xlsx',skiprows=3).drop(0, axis=0)"
      ],
      "metadata": {
        "id": "pyD_a-BduiKs"
      },
      "execution_count": null,
      "outputs": []
    },
    {
      "cell_type": "code",
      "source": [
        "L_ca = pd.read_excel('/content/drive/MyDrive/bsc_DPDM_data/อุตุ/จำนวนเมฆ(10ส่วน)/จ.เลย.xlsx',skiprows=3).drop(0, axis=0)"
      ],
      "metadata": {
        "id": "npHQsUvKuiqM"
      },
      "execution_count": null,
      "outputs": []
    },
    {
      "cell_type": "markdown",
      "source": [
        "## amount of rain"
      ],
      "metadata": {
        "id": "LjQZkTVPubus"
      }
    },
    {
      "cell_type": "code",
      "source": [
        "KK_ar = pd.read_excel('/content/drive/MyDrive/bsc_DPDM_data/อุตุ/ปริมาณฝน(มิลลิเมตร)/จ.ขอนแก่น.xlsx',skiprows=3).drop(0, axis=0)"
      ],
      "metadata": {
        "id": "6lyeUtmMuc4T"
      },
      "execution_count": null,
      "outputs": []
    },
    {
      "cell_type": "code",
      "source": [
        "NP_ar = pd.read_excel('/content/drive/MyDrive/bsc_DPDM_data/อุตุ/ปริมาณฝน(มิลลิเมตร)/จ.นครพนม.xlsx',skiprows=3).drop(0, axis=0)"
      ],
      "metadata": {
        "id": "_dG7m6oRvNAZ"
      },
      "execution_count": null,
      "outputs": []
    },
    {
      "cell_type": "code",
      "source": [
        "SK_ar = pd.read_excel('/content/drive/MyDrive/bsc_DPDM_data/อุตุ/ปริมาณฝน(มิลลิเมตร)/จ.สกล.xlsx',skiprows=3).drop(0, axis=0)"
      ],
      "metadata": {
        "id": "CfET9l2LvNUL"
      },
      "execution_count": null,
      "outputs": []
    },
    {
      "cell_type": "code",
      "source": [
        "NK_ar = pd.read_excel('/content/drive/MyDrive/bsc_DPDM_data/อุตุ/ปริมาณฝน(มิลลิเมตร)/จ.หนองคาย.xlsx',skiprows=3).drop(0, axis=0)"
      ],
      "metadata": {
        "id": "WONF5SaJvNp6"
      },
      "execution_count": null,
      "outputs": []
    },
    {
      "cell_type": "code",
      "source": [
        "L_ar = pd.read_excel('/content/drive/MyDrive/bsc_DPDM_data/อุตุ/ปริมาณฝน(มิลลิเมตร)/จ.เลย.xlsx',skiprows=3).drop(0, axis=0)"
      ],
      "metadata": {
        "id": "PTN1ap47vN8P"
      },
      "execution_count": null,
      "outputs": []
    },
    {
      "cell_type": "markdown",
      "source": [
        "## dew point temperature อุณหภูมิจุดน้ำค้าง"
      ],
      "metadata": {
        "id": "LtzH2yhpvmdt"
      }
    },
    {
      "cell_type": "code",
      "source": [
        "KK_dpt = pd.read_excel('/content/drive/MyDrive/bsc_DPDM_data/อุตุ/อุณหภูมิจุดน้ำค้าง(เซลเซียส)/จ.ขอนแก่น.xlsx',skiprows=3).drop(0, axis=0)"
      ],
      "metadata": {
        "id": "NIqil40pvqDk"
      },
      "execution_count": null,
      "outputs": []
    },
    {
      "cell_type": "code",
      "source": [
        "NP_dpt = pd.read_excel('/content/drive/MyDrive/bsc_DPDM_data/อุตุ/อุณหภูมิจุดน้ำค้าง(เซลเซียส)/จ.นครพนม.xlsx',skiprows=3).drop(0, axis=0)"
      ],
      "metadata": {
        "id": "6LFsgWn1v2oD"
      },
      "execution_count": null,
      "outputs": []
    },
    {
      "cell_type": "code",
      "source": [
        "SK_dpt = pd.read_excel('/content/drive/MyDrive/bsc_DPDM_data/อุตุ/อุณหภูมิจุดน้ำค้าง(เซลเซียส)/จ.นครพนม.xlsx',skiprows=3).drop(0, axis=0)"
      ],
      "metadata": {
        "id": "_M5V0EASv26x"
      },
      "execution_count": null,
      "outputs": []
    },
    {
      "cell_type": "code",
      "source": [
        "NK_dpt = pd.read_excel('/content/drive/MyDrive/bsc_DPDM_data/อุตุ/อุณหภูมิจุดน้ำค้าง(เซลเซียส)/จ.หนองคาย.xlsx',skiprows=3).drop(0, axis=0)"
      ],
      "metadata": {
        "id": "QoewpICPv3J0"
      },
      "execution_count": null,
      "outputs": []
    },
    {
      "cell_type": "code",
      "source": [
        "L_dpt = pd.read_excel('/content/drive/MyDrive/bsc_DPDM_data/อุตุ/อุณหภูมิจุดน้ำค้าง(เซลเซียส)/จ.เลย.xlsx',skiprows=3).drop(0, axis=0)"
      ],
      "metadata": {
        "id": "gLpzDlVsv3j6"
      },
      "execution_count": null,
      "outputs": []
    },
    {
      "cell_type": "markdown",
      "source": [
        "##  dry weight temperature ตุ้มแห้ง"
      ],
      "metadata": {
        "id": "7aIy3vVrwQMj"
      }
    },
    {
      "cell_type": "code",
      "source": [
        "KK_dwt = pd.read_excel('/content/drive/MyDrive/bsc_DPDM_data/อุตุ/อุณหภูมิตุ้มแห้ง(เซลเซียส)/จ.ขอนแก่น.xlsx',skiprows=3).drop(0, axis=0)"
      ],
      "metadata": {
        "id": "CzPniaH_wS_L"
      },
      "execution_count": null,
      "outputs": []
    },
    {
      "cell_type": "code",
      "source": [
        "NP_dwt = pd.read_excel('/content/drive/MyDrive/bsc_DPDM_data/อุตุ/อุณหภูมิตุ้มแห้ง(เซลเซียส)/จ.นครพนม.xlsx',skiprows=3).drop(0, axis=0)"
      ],
      "metadata": {
        "id": "JQ6oYc3kwZiu"
      },
      "execution_count": null,
      "outputs": []
    },
    {
      "cell_type": "code",
      "source": [
        "SK_dwt = pd.read_excel('/content/drive/MyDrive/bsc_DPDM_data/อุตุ/อุณหภูมิตุ้มแห้ง(เซลเซียส)/จ.สกล.xlsx',skiprows=3).drop(0, axis=0)"
      ],
      "metadata": {
        "id": "iWkqgcWtwZ-K"
      },
      "execution_count": null,
      "outputs": []
    },
    {
      "cell_type": "code",
      "source": [
        "NK_dwt = pd.read_excel('/content/drive/MyDrive/bsc_DPDM_data/อุตุ/อุณหภูมิตุ้มแห้ง(เซลเซียส)/จ.หนองคาย.xlsx',skiprows=3).drop(0, axis=0)"
      ],
      "metadata": {
        "id": "g-VAf38CwaPN"
      },
      "execution_count": null,
      "outputs": []
    },
    {
      "cell_type": "code",
      "source": [
        "L_dwt = pd.read_excel('/content/drive/MyDrive/bsc_DPDM_data/อุตุ/อุณหภูมิตุ้มแห้ง(เซลเซียส)/จ.เลย.xlsx',skiprows=3).drop(0, axis=0)"
      ],
      "metadata": {
        "id": "4DxNxrrcwjGQ"
      },
      "execution_count": null,
      "outputs": []
    },
    {
      "cell_type": "markdown",
      "source": [
        "## lowest temperature อุณหภูมิต่ำสุด"
      ],
      "metadata": {
        "id": "rqZPABnAwwLD"
      }
    },
    {
      "cell_type": "code",
      "source": [
        "KK_lt =pd.read_excel('/content/drive/MyDrive/bsc_DPDM_data/อุตุ/อุณหภูมิต่ำสุด(เซลเซียส)/จ.ขอนแก่น.xlsx',skiprows=3).drop(0, axis=0)"
      ],
      "metadata": {
        "id": "0Tp8o7l1wxpb"
      },
      "execution_count": null,
      "outputs": []
    },
    {
      "cell_type": "code",
      "source": [
        "NP_lt =pd.read_excel('/content/drive/MyDrive/bsc_DPDM_data/อุตุ/อุณหภูมิต่ำสุด(เซลเซียส)/จ.นครพนม.xlsx',skiprows=3).drop(0, axis=0)"
      ],
      "metadata": {
        "id": "vA_qGr-jw-4s"
      },
      "execution_count": null,
      "outputs": []
    },
    {
      "cell_type": "code",
      "source": [
        "SK_lt =pd.read_excel('/content/drive/MyDrive/bsc_DPDM_data/อุตุ/อุณหภูมิต่ำสุด(เซลเซียส)/จ.สกล.xlsx',skiprows=3).drop(0, axis=0)"
      ],
      "metadata": {
        "id": "prnms7R6xAav"
      },
      "execution_count": null,
      "outputs": []
    },
    {
      "cell_type": "code",
      "source": [
        "NK_lt =pd.read_excel('/content/drive/MyDrive/bsc_DPDM_data/อุตุ/อุณหภูมิต่ำสุด(เซลเซียส)/จ.หนองคาย.xlsx',skiprows=3).drop(0, axis=0)"
      ],
      "metadata": {
        "id": "C0d4bgFyxAzQ"
      },
      "execution_count": null,
      "outputs": []
    },
    {
      "cell_type": "code",
      "source": [
        "L_lt =pd.read_excel('/content/drive/MyDrive/bsc_DPDM_data/อุตุ/อุณหภูมิต่ำสุด(เซลเซียส)/จ.เลย.xlsx',skiprows=3).drop(0, axis=0)"
      ],
      "metadata": {
        "id": "57yNm_T2xBYJ"
      },
      "execution_count": null,
      "outputs": []
    },
    {
      "cell_type": "markdown",
      "source": [
        "# รวมตาราง"
      ],
      "metadata": {
        "id": "K2BTvDwp3Sio"
      }
    },
    {
      "cell_type": "code",
      "source": [],
      "metadata": {
        "id": "DKvRqI053UHF"
      },
      "execution_count": null,
      "outputs": []
    }
  ]
}