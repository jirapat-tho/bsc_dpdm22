{
  "nbformat": 4,
  "nbformat_minor": 0,
  "metadata": {
    "colab": {
      "provenance": [],
      "toc_visible": true,
      "authorship_tag": "ABX9TyM+l6Zpa1f+fVuhx327SoiJ",
      "include_colab_link": true
    },
    "kernelspec": {
      "name": "python3",
      "display_name": "Python 3"
    },
    "language_info": {
      "name": "python"
    }
  },
  "cells": [
    {
      "cell_type": "markdown",
      "metadata": {
        "id": "view-in-github",
        "colab_type": "text"
      },
      "source": [
        "<a href=\"https://colab.research.google.com/github/jtmeawno1/bsc_dpdm22/blob/main/%5Bdataprep2%5D_GIS_point_of_interest_data.ipynb\" target=\"_parent\"><img src=\"https://colab.research.google.com/assets/colab-badge.svg\" alt=\"Open In Colab\"/></a>"
      ]
    },
    {
      "cell_type": "code",
      "execution_count": 1,
      "metadata": {
        "id": "HdrtYC0koA3J"
      },
      "outputs": [],
      "source": [
        "import pandas as pd\n",
        "import json"
      ]
    },
    {
      "cell_type": "code",
      "source": [
        "from google.colab import drive\n",
        "drive.mount('/content/drive')"
      ],
      "metadata": {
        "colab": {
          "base_uri": "https://localhost:8080/"
        },
        "id": "mrrv0HNi8hOn",
        "outputId": "13e3e19e-66cb-4b62-a78e-195a08c12567"
      },
      "execution_count": 2,
      "outputs": [
        {
          "output_type": "stream",
          "name": "stdout",
          "text": [
            "Mounted at /content/drive\n"
          ]
        }
      ]
    },
    {
      "cell_type": "code",
      "source": [
        "with open('/content/drive/MyDrive/bsc_DPDM_data/7-eleven.json') as json_file:\n",
        "        this_json = json.loads(json_file.read())"
      ],
      "metadata": {
        "id": "KJyy0DLttyir"
      },
      "execution_count": 3,
      "outputs": []
    },
    {
      "cell_type": "code",
      "source": [
        "list(this_json.keys())[:10]"
      ],
      "metadata": {
        "id": "pfVeA9kiuwtG",
        "colab": {
          "base_uri": "https://localhost:8080/"
        },
        "outputId": "6d994605-220a-457a-f460-05d6122160ef"
      },
      "execution_count": 54,
      "outputs": [
        {
          "output_type": "execute_result",
          "data": {
            "text/plain": [
              "['1', '4', '6', '7', '9', '11', '16', '17', '18', '19']"
            ]
          },
          "metadata": {},
          "execution_count": 54
        }
      ]
    },
    {
      "cell_type": "code",
      "source": [
        "len(this_json)"
      ],
      "metadata": {
        "id": "JMIB1WJqvmbx",
        "colab": {
          "base_uri": "https://localhost:8080/"
        },
        "outputId": "8631cb30-e4c9-450d-f409-c325e90e3b9f"
      },
      "execution_count": 5,
      "outputs": [
        {
          "output_type": "execute_result",
          "data": {
            "text/plain": [
              "3653"
            ]
          },
          "metadata": {},
          "execution_count": 5
        }
      ]
    },
    {
      "cell_type": "code",
      "source": [
        "#this_json['6']"
      ],
      "metadata": {
        "id": "xb6dYs80vRMT"
      },
      "execution_count": null,
      "outputs": []
    },
    {
      "cell_type": "code",
      "source": [
        "for t in this_json:\n",
        "    l = list()\n",
        "    for x in this_json[t]:\n",
        "        l.append(x['geometry']['location'])\n",
        "    #print(l)"
      ],
      "metadata": {
        "id": "93c7xehk0waK"
      },
      "execution_count": 55,
      "outputs": []
    },
    {
      "cell_type": "code",
      "source": [
        "for t in this_json:\n",
        "  l = list()\n",
        "  for x in this_json[t]:\n",
        "       l.append(x['geometry']['location'])\n",
        "       #print(l)"
      ],
      "metadata": {
        "id": "pkkenMxCzele"
      },
      "execution_count": 56,
      "outputs": []
    },
    {
      "cell_type": "code",
      "source": [
        "l # เซเว่นสุดท้ายในลูป"
      ],
      "metadata": {
        "id": "5jl22UzU0IOl"
      },
      "execution_count": null,
      "outputs": []
    },
    {
      "cell_type": "code",
      "source": [
        "c = list()\n",
        "for row in this_json[\"6\"]:\n",
        "    c.append(row[\"geometry\"][\"location\"])"
      ],
      "metadata": {
        "id": "frLl1vsf0ki0"
      },
      "execution_count": 10,
      "outputs": []
    },
    {
      "cell_type": "code",
      "source": [
        "c"
      ],
      "metadata": {
        "id": "3fXsUYrvLAGy"
      },
      "execution_count": null,
      "outputs": []
    },
    {
      "cell_type": "code",
      "source": [
        "seven_id = {} # เก็บของที่เรารวบรวมแล้ว 1 รอบ\n",
        "for t in this_json:\n",
        "  l = list()\n",
        "  for x in this_json[t]:\n",
        "       l.append(x['geometry']['location'])\n",
        "       #print(t)\n",
        "       #print(l)\n",
        "       seven_id[t]=l # วิธีสร้าง dict ที่index เป็น t list เป็น l"
      ],
      "metadata": {
        "id": "MqYmuX6ntyn2"
      },
      "execution_count": null,
      "outputs": []
    },
    {
      "cell_type": "code",
      "source": [
        "#seven_id.keys()"
      ],
      "metadata": {
        "id": "F1H5GfcBT44p"
      },
      "execution_count": null,
      "outputs": []
    },
    {
      "cell_type": "code",
      "source": [
        "#seven_id.values()"
      ],
      "metadata": {
        "id": "jIsh2uAfUCOR"
      },
      "execution_count": null,
      "outputs": []
    },
    {
      "cell_type": "markdown",
      "source": [
        "# load data บ้าน"
      ],
      "metadata": {
        "id": "04wDKAHqsn9x"
      }
    },
    {
      "cell_type": "code",
      "source": [
        "import pandas as pd"
      ],
      "metadata": {
        "id": "pqQfVD61s3s5"
      },
      "execution_count": 17,
      "outputs": []
    },
    {
      "cell_type": "code",
      "source": [
        "home = pd.read_excel('/content/drive/MyDrive/bsc_DPDM_data/Data Supply.xlsx')\n",
        "home.head(3)"
      ],
      "metadata": {
        "id": "3EJrn9sks7MM",
        "colab": {
          "base_uri": "https://localhost:8080/",
          "height": 306
        },
        "outputId": "82ed58a1-3fcc-49c8-e687-e161a69c55f7"
      },
      "execution_count": 57,
      "outputs": [
        {
          "output_type": "execute_result",
          "data": {
            "text/plain": [
              "   post_id     https://nayoo.co/khonkaen/posts/  type   post_type  \\\n",
              "0     25.0   https://nayoo.co/khonkaen/posts/25  post  secondhand   \n",
              "1     33.0   https://nayoo.co/khonkaen/posts/33  post  secondhand   \n",
              "2    495.0  https://nayoo.co/khonkaen/posts/495  post  secondhand   \n",
              "\n",
              "  listing_type  parent_id  draft_for          project_name  \\\n",
              "0         sale        NaN        NaN  กันยารัตน์ เดอวินเทจ   \n",
              "1         sale        NaN        NaN  จันทร์ประเสริฐแกรนด์   \n",
              "2         sale        NaN        NaN                   NaN   \n",
              "\n",
              "                            contact_name  province_id  ...  cable_max  \\\n",
              "0  บริษัท กันยารัตน์ พร็อพเพอร์ตี้ จำกัด          6.0  ...        NaN   \n",
              "1                                    NaN          6.0  ...        NaN   \n",
              "2                                    NaN          6.0  ...        NaN   \n",
              "\n",
              "  cable_free  cable_none cable_ask position_previous  position_current  \\\n",
              "0        NaN         NaN       NaN             991.0             991.0   \n",
              "1        NaN         NaN       NaN             985.0             985.0   \n",
              "2        NaN         NaN       NaN            1834.0            1834.0   \n",
              "\n",
              "  sold_out_at          created_at          updated_at  deleted_at  \n",
              "0         NaT 2020-06-29 06:25:32 2021-10-10 15:58:05         NaN  \n",
              "1         NaT 2020-06-29 06:25:32 2021-10-11 07:41:34         NaN  \n",
              "2         NaT 2020-07-03 04:23:01 2021-09-02 00:02:12         NaN  \n",
              "\n",
              "[3 rows x 183 columns]"
            ],
            "text/html": [
              "\n",
              "  <div id=\"df-746d66a3-6e27-416e-b34c-3c39dd3f3a6a\">\n",
              "    <div class=\"colab-df-container\">\n",
              "      <div>\n",
              "<style scoped>\n",
              "    .dataframe tbody tr th:only-of-type {\n",
              "        vertical-align: middle;\n",
              "    }\n",
              "\n",
              "    .dataframe tbody tr th {\n",
              "        vertical-align: top;\n",
              "    }\n",
              "\n",
              "    .dataframe thead th {\n",
              "        text-align: right;\n",
              "    }\n",
              "</style>\n",
              "<table border=\"1\" class=\"dataframe\">\n",
              "  <thead>\n",
              "    <tr style=\"text-align: right;\">\n",
              "      <th></th>\n",
              "      <th>post_id</th>\n",
              "      <th>https://nayoo.co/khonkaen/posts/</th>\n",
              "      <th>type</th>\n",
              "      <th>post_type</th>\n",
              "      <th>listing_type</th>\n",
              "      <th>parent_id</th>\n",
              "      <th>draft_for</th>\n",
              "      <th>project_name</th>\n",
              "      <th>contact_name</th>\n",
              "      <th>province_id</th>\n",
              "      <th>...</th>\n",
              "      <th>cable_max</th>\n",
              "      <th>cable_free</th>\n",
              "      <th>cable_none</th>\n",
              "      <th>cable_ask</th>\n",
              "      <th>position_previous</th>\n",
              "      <th>position_current</th>\n",
              "      <th>sold_out_at</th>\n",
              "      <th>created_at</th>\n",
              "      <th>updated_at</th>\n",
              "      <th>deleted_at</th>\n",
              "    </tr>\n",
              "  </thead>\n",
              "  <tbody>\n",
              "    <tr>\n",
              "      <th>0</th>\n",
              "      <td>25.0</td>\n",
              "      <td>https://nayoo.co/khonkaen/posts/25</td>\n",
              "      <td>post</td>\n",
              "      <td>secondhand</td>\n",
              "      <td>sale</td>\n",
              "      <td>NaN</td>\n",
              "      <td>NaN</td>\n",
              "      <td>กันยารัตน์ เดอวินเทจ</td>\n",
              "      <td>บริษัท กันยารัตน์ พร็อพเพอร์ตี้ จำกัด</td>\n",
              "      <td>6.0</td>\n",
              "      <td>...</td>\n",
              "      <td>NaN</td>\n",
              "      <td>NaN</td>\n",
              "      <td>NaN</td>\n",
              "      <td>NaN</td>\n",
              "      <td>991.0</td>\n",
              "      <td>991.0</td>\n",
              "      <td>NaT</td>\n",
              "      <td>2020-06-29 06:25:32</td>\n",
              "      <td>2021-10-10 15:58:05</td>\n",
              "      <td>NaN</td>\n",
              "    </tr>\n",
              "    <tr>\n",
              "      <th>1</th>\n",
              "      <td>33.0</td>\n",
              "      <td>https://nayoo.co/khonkaen/posts/33</td>\n",
              "      <td>post</td>\n",
              "      <td>secondhand</td>\n",
              "      <td>sale</td>\n",
              "      <td>NaN</td>\n",
              "      <td>NaN</td>\n",
              "      <td>จันทร์ประเสริฐแกรนด์</td>\n",
              "      <td>NaN</td>\n",
              "      <td>6.0</td>\n",
              "      <td>...</td>\n",
              "      <td>NaN</td>\n",
              "      <td>NaN</td>\n",
              "      <td>NaN</td>\n",
              "      <td>NaN</td>\n",
              "      <td>985.0</td>\n",
              "      <td>985.0</td>\n",
              "      <td>NaT</td>\n",
              "      <td>2020-06-29 06:25:32</td>\n",
              "      <td>2021-10-11 07:41:34</td>\n",
              "      <td>NaN</td>\n",
              "    </tr>\n",
              "    <tr>\n",
              "      <th>2</th>\n",
              "      <td>495.0</td>\n",
              "      <td>https://nayoo.co/khonkaen/posts/495</td>\n",
              "      <td>post</td>\n",
              "      <td>secondhand</td>\n",
              "      <td>sale</td>\n",
              "      <td>NaN</td>\n",
              "      <td>NaN</td>\n",
              "      <td>NaN</td>\n",
              "      <td>NaN</td>\n",
              "      <td>6.0</td>\n",
              "      <td>...</td>\n",
              "      <td>NaN</td>\n",
              "      <td>NaN</td>\n",
              "      <td>NaN</td>\n",
              "      <td>NaN</td>\n",
              "      <td>1834.0</td>\n",
              "      <td>1834.0</td>\n",
              "      <td>NaT</td>\n",
              "      <td>2020-07-03 04:23:01</td>\n",
              "      <td>2021-09-02 00:02:12</td>\n",
              "      <td>NaN</td>\n",
              "    </tr>\n",
              "  </tbody>\n",
              "</table>\n",
              "<p>3 rows × 183 columns</p>\n",
              "</div>\n",
              "      <button class=\"colab-df-convert\" onclick=\"convertToInteractive('df-746d66a3-6e27-416e-b34c-3c39dd3f3a6a')\"\n",
              "              title=\"Convert this dataframe to an interactive table.\"\n",
              "              style=\"display:none;\">\n",
              "        \n",
              "  <svg xmlns=\"http://www.w3.org/2000/svg\" height=\"24px\"viewBox=\"0 0 24 24\"\n",
              "       width=\"24px\">\n",
              "    <path d=\"M0 0h24v24H0V0z\" fill=\"none\"/>\n",
              "    <path d=\"M18.56 5.44l.94 2.06.94-2.06 2.06-.94-2.06-.94-.94-2.06-.94 2.06-2.06.94zm-11 1L8.5 8.5l.94-2.06 2.06-.94-2.06-.94L8.5 2.5l-.94 2.06-2.06.94zm10 10l.94 2.06.94-2.06 2.06-.94-2.06-.94-.94-2.06-.94 2.06-2.06.94z\"/><path d=\"M17.41 7.96l-1.37-1.37c-.4-.4-.92-.59-1.43-.59-.52 0-1.04.2-1.43.59L10.3 9.45l-7.72 7.72c-.78.78-.78 2.05 0 2.83L4 21.41c.39.39.9.59 1.41.59.51 0 1.02-.2 1.41-.59l7.78-7.78 2.81-2.81c.8-.78.8-2.07 0-2.86zM5.41 20L4 18.59l7.72-7.72 1.47 1.35L5.41 20z\"/>\n",
              "  </svg>\n",
              "      </button>\n",
              "      \n",
              "  <style>\n",
              "    .colab-df-container {\n",
              "      display:flex;\n",
              "      flex-wrap:wrap;\n",
              "      gap: 12px;\n",
              "    }\n",
              "\n",
              "    .colab-df-convert {\n",
              "      background-color: #E8F0FE;\n",
              "      border: none;\n",
              "      border-radius: 50%;\n",
              "      cursor: pointer;\n",
              "      display: none;\n",
              "      fill: #1967D2;\n",
              "      height: 32px;\n",
              "      padding: 0 0 0 0;\n",
              "      width: 32px;\n",
              "    }\n",
              "\n",
              "    .colab-df-convert:hover {\n",
              "      background-color: #E2EBFA;\n",
              "      box-shadow: 0px 1px 2px rgba(60, 64, 67, 0.3), 0px 1px 3px 1px rgba(60, 64, 67, 0.15);\n",
              "      fill: #174EA6;\n",
              "    }\n",
              "\n",
              "    [theme=dark] .colab-df-convert {\n",
              "      background-color: #3B4455;\n",
              "      fill: #D2E3FC;\n",
              "    }\n",
              "\n",
              "    [theme=dark] .colab-df-convert:hover {\n",
              "      background-color: #434B5C;\n",
              "      box-shadow: 0px 1px 3px 1px rgba(0, 0, 0, 0.15);\n",
              "      filter: drop-shadow(0px 1px 2px rgba(0, 0, 0, 0.3));\n",
              "      fill: #FFFFFF;\n",
              "    }\n",
              "  </style>\n",
              "\n",
              "      <script>\n",
              "        const buttonEl =\n",
              "          document.querySelector('#df-746d66a3-6e27-416e-b34c-3c39dd3f3a6a button.colab-df-convert');\n",
              "        buttonEl.style.display =\n",
              "          google.colab.kernel.accessAllowed ? 'block' : 'none';\n",
              "\n",
              "        async function convertToInteractive(key) {\n",
              "          const element = document.querySelector('#df-746d66a3-6e27-416e-b34c-3c39dd3f3a6a');\n",
              "          const dataTable =\n",
              "            await google.colab.kernel.invokeFunction('convertToInteractive',\n",
              "                                                     [key], {});\n",
              "          if (!dataTable) return;\n",
              "\n",
              "          const docLinkHtml = 'Like what you see? Visit the ' +\n",
              "            '<a target=\"_blank\" href=https://colab.research.google.com/notebooks/data_table.ipynb>data table notebook</a>'\n",
              "            + ' to learn more about interactive tables.';\n",
              "          element.innerHTML = '';\n",
              "          dataTable['output_type'] = 'display_data';\n",
              "          await google.colab.output.renderOutput(dataTable, element);\n",
              "          const docLink = document.createElement('div');\n",
              "          docLink.innerHTML = docLinkHtml;\n",
              "          element.appendChild(docLink);\n",
              "        }\n",
              "      </script>\n",
              "    </div>\n",
              "  </div>\n",
              "  "
            ]
          },
          "metadata": {},
          "execution_count": 57
        }
      ]
    },
    {
      "cell_type": "code",
      "source": [
        "this_seven = seven_id['25']\n",
        "this_seven "
      ],
      "metadata": {
        "id": "c2pbPvDqvVfq"
      },
      "execution_count": null,
      "outputs": []
    },
    {
      "cell_type": "code",
      "source": [
        "for i in home.columns:\n",
        "    print(i)"
      ],
      "metadata": {
        "id": "d9edMU3MSWe0"
      },
      "execution_count": null,
      "outputs": []
    },
    {
      "cell_type": "code",
      "source": [
        "this_home = home[home['post_id']==25]\n",
        "this_home"
      ],
      "metadata": {
        "id": "Nq1Mbm45wnXN",
        "colab": {
          "base_uri": "https://localhost:8080/",
          "height": 209
        },
        "outputId": "e5cc3972-63b1-4793-e19f-11a7628924ba"
      },
      "execution_count": 24,
      "outputs": [
        {
          "output_type": "execute_result",
          "data": {
            "text/plain": [
              "   post_id    https://nayoo.co/khonkaen/posts/  type   post_type listing_type  \\\n",
              "0     25.0  https://nayoo.co/khonkaen/posts/25  post  secondhand         sale   \n",
              "\n",
              "   parent_id  draft_for          project_name  \\\n",
              "0        NaN        NaN  กันยารัตน์ เดอวินเทจ   \n",
              "\n",
              "                            contact_name  province_id  ...  cable_max  \\\n",
              "0  บริษัท กันยารัตน์ พร็อพเพอร์ตี้ จำกัด          6.0  ...        NaN   \n",
              "\n",
              "  cable_free  cable_none cable_ask position_previous  position_current  \\\n",
              "0        NaN         NaN       NaN             991.0             991.0   \n",
              "\n",
              "  sold_out_at          created_at          updated_at  deleted_at  \n",
              "0         NaT 2020-06-29 06:25:32 2021-10-10 15:58:05         NaN  \n",
              "\n",
              "[1 rows x 183 columns]"
            ],
            "text/html": [
              "\n",
              "  <div id=\"df-684def4c-4a13-4df5-aba2-2d475822f3a5\">\n",
              "    <div class=\"colab-df-container\">\n",
              "      <div>\n",
              "<style scoped>\n",
              "    .dataframe tbody tr th:only-of-type {\n",
              "        vertical-align: middle;\n",
              "    }\n",
              "\n",
              "    .dataframe tbody tr th {\n",
              "        vertical-align: top;\n",
              "    }\n",
              "\n",
              "    .dataframe thead th {\n",
              "        text-align: right;\n",
              "    }\n",
              "</style>\n",
              "<table border=\"1\" class=\"dataframe\">\n",
              "  <thead>\n",
              "    <tr style=\"text-align: right;\">\n",
              "      <th></th>\n",
              "      <th>post_id</th>\n",
              "      <th>https://nayoo.co/khonkaen/posts/</th>\n",
              "      <th>type</th>\n",
              "      <th>post_type</th>\n",
              "      <th>listing_type</th>\n",
              "      <th>parent_id</th>\n",
              "      <th>draft_for</th>\n",
              "      <th>project_name</th>\n",
              "      <th>contact_name</th>\n",
              "      <th>province_id</th>\n",
              "      <th>...</th>\n",
              "      <th>cable_max</th>\n",
              "      <th>cable_free</th>\n",
              "      <th>cable_none</th>\n",
              "      <th>cable_ask</th>\n",
              "      <th>position_previous</th>\n",
              "      <th>position_current</th>\n",
              "      <th>sold_out_at</th>\n",
              "      <th>created_at</th>\n",
              "      <th>updated_at</th>\n",
              "      <th>deleted_at</th>\n",
              "    </tr>\n",
              "  </thead>\n",
              "  <tbody>\n",
              "    <tr>\n",
              "      <th>0</th>\n",
              "      <td>25.0</td>\n",
              "      <td>https://nayoo.co/khonkaen/posts/25</td>\n",
              "      <td>post</td>\n",
              "      <td>secondhand</td>\n",
              "      <td>sale</td>\n",
              "      <td>NaN</td>\n",
              "      <td>NaN</td>\n",
              "      <td>กันยารัตน์ เดอวินเทจ</td>\n",
              "      <td>บริษัท กันยารัตน์ พร็อพเพอร์ตี้ จำกัด</td>\n",
              "      <td>6.0</td>\n",
              "      <td>...</td>\n",
              "      <td>NaN</td>\n",
              "      <td>NaN</td>\n",
              "      <td>NaN</td>\n",
              "      <td>NaN</td>\n",
              "      <td>991.0</td>\n",
              "      <td>991.0</td>\n",
              "      <td>NaT</td>\n",
              "      <td>2020-06-29 06:25:32</td>\n",
              "      <td>2021-10-10 15:58:05</td>\n",
              "      <td>NaN</td>\n",
              "    </tr>\n",
              "  </tbody>\n",
              "</table>\n",
              "<p>1 rows × 183 columns</p>\n",
              "</div>\n",
              "      <button class=\"colab-df-convert\" onclick=\"convertToInteractive('df-684def4c-4a13-4df5-aba2-2d475822f3a5')\"\n",
              "              title=\"Convert this dataframe to an interactive table.\"\n",
              "              style=\"display:none;\">\n",
              "        \n",
              "  <svg xmlns=\"http://www.w3.org/2000/svg\" height=\"24px\"viewBox=\"0 0 24 24\"\n",
              "       width=\"24px\">\n",
              "    <path d=\"M0 0h24v24H0V0z\" fill=\"none\"/>\n",
              "    <path d=\"M18.56 5.44l.94 2.06.94-2.06 2.06-.94-2.06-.94-.94-2.06-.94 2.06-2.06.94zm-11 1L8.5 8.5l.94-2.06 2.06-.94-2.06-.94L8.5 2.5l-.94 2.06-2.06.94zm10 10l.94 2.06.94-2.06 2.06-.94-2.06-.94-.94-2.06-.94 2.06-2.06.94z\"/><path d=\"M17.41 7.96l-1.37-1.37c-.4-.4-.92-.59-1.43-.59-.52 0-1.04.2-1.43.59L10.3 9.45l-7.72 7.72c-.78.78-.78 2.05 0 2.83L4 21.41c.39.39.9.59 1.41.59.51 0 1.02-.2 1.41-.59l7.78-7.78 2.81-2.81c.8-.78.8-2.07 0-2.86zM5.41 20L4 18.59l7.72-7.72 1.47 1.35L5.41 20z\"/>\n",
              "  </svg>\n",
              "      </button>\n",
              "      \n",
              "  <style>\n",
              "    .colab-df-container {\n",
              "      display:flex;\n",
              "      flex-wrap:wrap;\n",
              "      gap: 12px;\n",
              "    }\n",
              "\n",
              "    .colab-df-convert {\n",
              "      background-color: #E8F0FE;\n",
              "      border: none;\n",
              "      border-radius: 50%;\n",
              "      cursor: pointer;\n",
              "      display: none;\n",
              "      fill: #1967D2;\n",
              "      height: 32px;\n",
              "      padding: 0 0 0 0;\n",
              "      width: 32px;\n",
              "    }\n",
              "\n",
              "    .colab-df-convert:hover {\n",
              "      background-color: #E2EBFA;\n",
              "      box-shadow: 0px 1px 2px rgba(60, 64, 67, 0.3), 0px 1px 3px 1px rgba(60, 64, 67, 0.15);\n",
              "      fill: #174EA6;\n",
              "    }\n",
              "\n",
              "    [theme=dark] .colab-df-convert {\n",
              "      background-color: #3B4455;\n",
              "      fill: #D2E3FC;\n",
              "    }\n",
              "\n",
              "    [theme=dark] .colab-df-convert:hover {\n",
              "      background-color: #434B5C;\n",
              "      box-shadow: 0px 1px 3px 1px rgba(0, 0, 0, 0.15);\n",
              "      filter: drop-shadow(0px 1px 2px rgba(0, 0, 0, 0.3));\n",
              "      fill: #FFFFFF;\n",
              "    }\n",
              "  </style>\n",
              "\n",
              "      <script>\n",
              "        const buttonEl =\n",
              "          document.querySelector('#df-684def4c-4a13-4df5-aba2-2d475822f3a5 button.colab-df-convert');\n",
              "        buttonEl.style.display =\n",
              "          google.colab.kernel.accessAllowed ? 'block' : 'none';\n",
              "\n",
              "        async function convertToInteractive(key) {\n",
              "          const element = document.querySelector('#df-684def4c-4a13-4df5-aba2-2d475822f3a5');\n",
              "          const dataTable =\n",
              "            await google.colab.kernel.invokeFunction('convertToInteractive',\n",
              "                                                     [key], {});\n",
              "          if (!dataTable) return;\n",
              "\n",
              "          const docLinkHtml = 'Like what you see? Visit the ' +\n",
              "            '<a target=\"_blank\" href=https://colab.research.google.com/notebooks/data_table.ipynb>data table notebook</a>'\n",
              "            + ' to learn more about interactive tables.';\n",
              "          element.innerHTML = '';\n",
              "          dataTable['output_type'] = 'display_data';\n",
              "          await google.colab.output.renderOutput(dataTable, element);\n",
              "          const docLink = document.createElement('div');\n",
              "          docLink.innerHTML = docLinkHtml;\n",
              "          element.appendChild(docLink);\n",
              "        }\n",
              "      </script>\n",
              "    </div>\n",
              "  </div>\n",
              "  "
            ]
          },
          "metadata": {},
          "execution_count": 24
        }
      ]
    },
    {
      "cell_type": "code",
      "source": [
        "this_home['latitude'][0]"
      ],
      "metadata": {
        "id": "wyFyFhTewzZs",
        "colab": {
          "base_uri": "https://localhost:8080/"
        },
        "outputId": "cb860519-57df-4039-e0e2-c4ee330a345b"
      },
      "execution_count": 25,
      "outputs": [
        {
          "output_type": "execute_result",
          "data": {
            "text/plain": [
              "16.4101787"
            ]
          },
          "metadata": {},
          "execution_count": 25
        }
      ]
    },
    {
      "cell_type": "code",
      "source": [
        "this_home['longitude'][0]"
      ],
      "metadata": {
        "id": "upDsFi5exG9f",
        "colab": {
          "base_uri": "https://localhost:8080/"
        },
        "outputId": "4b58c868-b8dc-4d29-f049-2e0cb0100af0"
      },
      "execution_count": 26,
      "outputs": [
        {
          "output_type": "execute_result",
          "data": {
            "text/plain": [
              "102.8576126"
            ]
          },
          "metadata": {},
          "execution_count": 26
        }
      ]
    },
    {
      "cell_type": "code",
      "source": [
        "this_seven[0]"
      ],
      "metadata": {
        "id": "48CHRWbeyfhl",
        "colab": {
          "base_uri": "https://localhost:8080/"
        },
        "outputId": "acb2817a-2934-4483-a502-46178cc4c477"
      },
      "execution_count": 27,
      "outputs": [
        {
          "output_type": "execute_result",
          "data": {
            "text/plain": [
              "{'lat': 16.4229267, 'lng': 102.8712313}"
            ]
          },
          "metadata": {},
          "execution_count": 27
        }
      ]
    },
    {
      "cell_type": "code",
      "source": [
        "this_seven[0]['lat']"
      ],
      "metadata": {
        "id": "Cy936B42yp1g",
        "colab": {
          "base_uri": "https://localhost:8080/"
        },
        "outputId": "b2d96b7e-c67f-4344-98fb-48740fbb7c18"
      },
      "execution_count": 28,
      "outputs": [
        {
          "output_type": "execute_result",
          "data": {
            "text/plain": [
              "16.4229267"
            ]
          },
          "metadata": {},
          "execution_count": 28
        }
      ]
    },
    {
      "cell_type": "code",
      "source": [
        "import geopy.distance"
      ],
      "metadata": {
        "id": "JhT13h4pxz6A"
      },
      "execution_count": 29,
      "outputs": []
    },
    {
      "cell_type": "code",
      "source": [
        "loc1 = [this_home['latitude'][0],this_home['longitude'][0]]\n",
        "loc2 = [this_seven[0]['lat'],this_seven[0]['lng']]"
      ],
      "metadata": {
        "id": "HJRUtaZtzfkG"
      },
      "execution_count": 30,
      "outputs": []
    },
    {
      "cell_type": "code",
      "source": [
        "geopy.distance.geodesic(loc1,loc2).m"
      ],
      "metadata": {
        "id": "UKo5e-mBx8bQ",
        "colab": {
          "base_uri": "https://localhost:8080/"
        },
        "outputId": "abd0dc3c-773d-43b2-f534-b25b8f9847bf"
      },
      "execution_count": 67,
      "outputs": [
        {
          "output_type": "execute_result",
          "data": {
            "text/plain": [
              "2026.3410640485051"
            ]
          },
          "metadata": {},
          "execution_count": 67
        }
      ]
    },
    {
      "cell_type": "markdown",
      "source": [
        "# HW 4"
      ],
      "metadata": {
        "id": "J8k6c9690Ywd"
      }
    },
    {
      "cell_type": "code",
      "source": [
        "seven_id"
      ],
      "metadata": {
        "id": "0FP4n9LMZLEU"
      },
      "execution_count": null,
      "outputs": []
    },
    {
      "cell_type": "code",
      "source": [
        "type(seven_id)"
      ],
      "metadata": {
        "id": "fegm4gRdWq_z",
        "colab": {
          "base_uri": "https://localhost:8080/"
        },
        "outputId": "fea2b28b-32a2-44a1-f3ef-a106b3610dd5"
      },
      "execution_count": 32,
      "outputs": [
        {
          "output_type": "execute_result",
          "data": {
            "text/plain": [
              "dict"
            ]
          },
          "metadata": {},
          "execution_count": 32
        }
      ]
    },
    {
      "cell_type": "code",
      "source": [
        "seven_df = pd.DataFrame.from_dict(seven_id,  orient='index').reset_index()\n",
        "seven_df.rename(columns={'index':'id'}, inplace=True)"
      ],
      "metadata": {
        "id": "qzMnzr5HYBA_"
      },
      "execution_count": null,
      "outputs": []
    },
    {
      "cell_type": "code",
      "source": [
        "h = home[['post_id','latitude','longitude']]"
      ],
      "metadata": {
        "id": "9eQjEtQDpnyN"
      },
      "execution_count": null,
      "outputs": []
    },
    {
      "cell_type": "code",
      "source": [
        "h.set_index('post_id').join(seven_df.set_index('id'))"
      ],
      "metadata": {
        "id": "ZIgiKNl8zYQ4"
      },
      "execution_count": null,
      "outputs": []
    },
    {
      "cell_type": "code",
      "source": [
        "from pandas.io.json import json_normalize"
      ],
      "metadata": {
        "id": "xJCaS3ruAOcE"
      },
      "execution_count": 34,
      "outputs": []
    },
    {
      "cell_type": "markdown",
      "source": [
        "# เฉลย  HW 4"
      ],
      "metadata": {
        "id": "oxFkuHITC6l6"
      }
    },
    {
      "cell_type": "code",
      "source": [
        "id =25"
      ],
      "metadata": {
        "id": "8wo68z96D79f"
      },
      "execution_count": 98,
      "outputs": []
    },
    {
      "cell_type": "code",
      "source": [
        "this_home = home[home['post_id']==(id)] #เพื่อที่จะวนลูป int\n",
        "this_home"
      ],
      "metadata": {
        "id": "FFsmhSkBC0XM"
      },
      "execution_count": null,
      "outputs": []
    },
    {
      "cell_type": "code",
      "source": [
        "# กำหนด lat lng ของบ้านก่อน\n",
        "h_lat = this_home['latitude'].values[0]\n",
        "h_long = this_home['longitude'].values[0]"
      ],
      "metadata": {
        "id": "ZnQ4uviYDaBg"
      },
      "execution_count": 128,
      "outputs": []
    },
    {
      "cell_type": "code",
      "source": [
        "this_seven = seven_id[str(id)]"
      ],
      "metadata": {
        "id": "ATQSAZaVDzHm"
      },
      "execution_count": 107,
      "outputs": []
    },
    {
      "cell_type": "code",
      "source": [
        "this_seven "
      ],
      "metadata": {
        "id": "dzL3i_r6Lztq"
      },
      "execution_count": null,
      "outputs": []
    },
    {
      "cell_type": "markdown",
      "source": [
        "### คำนวณระยะทางระหว่างแต่ละเซเว่นกับบ้าน"
      ],
      "metadata": {
        "id": "ja2Th_VJE8dz"
      }
    },
    {
      "cell_type": "code",
      "source": [
        "seven_dist=list() # สร้าง list ว่างเอามาเก็บ\n",
        "loc1 = [h_lat,h_long] # โลบ้านไม่เปลี่ยน เซตให้อยู่นอกลูป\n",
        "for seven in this_seven:\n",
        "   loc2 = [seven['lat'],seven['lng']]\n",
        "   dist = geopy.distance.geodesic(loc1,loc2).m\n",
        "   seven_dist.append(dist)\n",
        "\n",
        "seven_dist"
      ],
      "metadata": {
        "colab": {
          "base_uri": "https://localhost:8080/"
        },
        "id": "nlkxLMYyEr9n",
        "outputId": "31544bcc-e6b7-4284-db5d-816735c216d0"
      },
      "execution_count": 142,
      "outputs": [
        {
          "output_type": "execute_result",
          "data": {
            "text/plain": [
              "[1164.3865278588064,\n",
              " 1990.3311226791807,\n",
              " 2517.35314998564,\n",
              " 163.5901933125848,\n",
              " 370.5869144401129,\n",
              " 190.46512239421477,\n",
              " 1590.748948682938]"
            ]
          },
          "metadata": {},
          "execution_count": 142
        }
      ]
    },
    {
      "cell_type": "code",
      "source": [
        "def cal_seven_radius(seven_dist_list, radius):\n",
        "  num =0 \n",
        "  for seven in seven_dist_list:\n",
        "       if seven < radius:\n",
        "          num = num + 1\n",
        "       return num"
      ],
      "metadata": {
        "id": "8GfXz3CUJ-gA"
      },
      "execution_count": 143,
      "outputs": []
    },
    {
      "cell_type": "code",
      "source": [
        "cal_seven_radius(seven_dist,500)"
      ],
      "metadata": {
        "colab": {
          "base_uri": "https://localhost:8080/"
        },
        "id": "0yKY6v4TKwDV",
        "outputId": "7dcd2f23-37bc-4caa-e7de-c2346664f160"
      },
      "execution_count": 144,
      "outputs": [
        {
          "output_type": "execute_result",
          "data": {
            "text/plain": [
              "0"
            ]
          },
          "metadata": {},
          "execution_count": 144
        }
      ]
    },
    {
      "cell_type": "code",
      "source": [
        "import numpy as np"
      ],
      "metadata": {
        "id": "SLB5jTQQUwK3"
      },
      "execution_count": 110,
      "outputs": []
    },
    {
      "cell_type": "code",
      "source": [
        "np.array(seven_dist) < 500 "
      ],
      "metadata": {
        "colab": {
          "base_uri": "https://localhost:8080/"
        },
        "id": "ytdeqTA2Gjqr",
        "outputId": "9c3f7d10-5ed5-4976-ac1b-19dbc1486aa7"
      },
      "execution_count": 111,
      "outputs": [
        {
          "output_type": "execute_result",
          "data": {
            "text/plain": [
              "array([False, False, False,  True, False, False, False, False, False,\n",
              "       False, False, False, False, False, False, False, False])"
            ]
          },
          "metadata": {},
          "execution_count": 111
        }
      ]
    },
    {
      "cell_type": "code",
      "source": [
        "sum(np.array(seven_dist) < 250)"
      ],
      "metadata": {
        "colab": {
          "base_uri": "https://localhost:8080/"
        },
        "id": "YoEkYnXgHn9M",
        "outputId": "ebeb1196-d3dc-4346-d5e8-9e3bd3b85a2d"
      },
      "execution_count": 112,
      "outputs": [
        {
          "output_type": "execute_result",
          "data": {
            "text/plain": [
              "0"
            ]
          },
          "metadata": {},
          "execution_count": 112
        }
      ]
    },
    {
      "cell_type": "code",
      "source": [
        "sum(np.array(seven_dist) < 500)"
      ],
      "metadata": {
        "colab": {
          "base_uri": "https://localhost:8080/"
        },
        "id": "ixCtyfbgFB6D",
        "outputId": "118212ce-d9e4-4179-abdd-e1fa995ad729"
      },
      "execution_count": 113,
      "outputs": [
        {
          "output_type": "execute_result",
          "data": {
            "text/plain": [
              "1"
            ]
          },
          "metadata": {},
          "execution_count": 113
        }
      ]
    },
    {
      "cell_type": "code",
      "source": [
        "sum(np.array(seven_dist) < 2000)"
      ],
      "metadata": {
        "colab": {
          "base_uri": "https://localhost:8080/"
        },
        "id": "F4E_7UnqHKO0",
        "outputId": "89937412-792d-4ede-e1d0-44b28c413190"
      },
      "execution_count": 114,
      "outputs": [
        {
          "output_type": "execute_result",
          "data": {
            "text/plain": [
              "3"
            ]
          },
          "metadata": {},
          "execution_count": 114
        }
      ]
    },
    {
      "cell_type": "code",
      "source": [
        "record_list = list()"
      ],
      "metadata": {
        "id": "NFreqGJuJEYq"
      },
      "execution_count": 115,
      "outputs": []
    },
    {
      "cell_type": "code",
      "source": [
        "record_dict = {}\n",
        "record_dict['id'] = int(id)\n",
        "record_dict['d250-7/11'] = sum(np.array(seven_dist) < 250)\n",
        "record_dict['d500-7/11'] = sum(np.array(seven_dist) < 500)\n",
        "record_dict['d750-7/11'] = sum(np.array(seven_dist) < 750)\n",
        "record_dict['d1000-7/11'] = sum(np.array(seven_dist) < 1000)\n",
        "record_dict['d1250-7/11'] = sum(np.array(seven_dist) < 1250)\n",
        "record_dict['d1500-7/11'] = sum(np.array(seven_dist) < 1500)"
      ],
      "metadata": {
        "id": "rJ-mI7cyH_Vb"
      },
      "execution_count": 118,
      "outputs": []
    },
    {
      "cell_type": "code",
      "source": [
        "record_dict"
      ],
      "metadata": {
        "colab": {
          "base_uri": "https://localhost:8080/"
        },
        "id": "VAuC-kHVJCDK",
        "outputId": "c587d134-b4cf-4423-f510-6c30266136d5"
      },
      "execution_count": 119,
      "outputs": [
        {
          "output_type": "execute_result",
          "data": {
            "text/plain": [
              "{'id': 25,\n",
              " 'd250-7/11': 0,\n",
              " 'd500-7/11': 1,\n",
              " 'd750-7/11': 1,\n",
              " 'd1000-7/11': 1,\n",
              " 'd1250-7/11': 1,\n",
              " 'd1500-7/11': 2}"
            ]
          },
          "metadata": {},
          "execution_count": 119
        }
      ]
    },
    {
      "cell_type": "code",
      "source": [
        "record_list.append(record_dict)"
      ],
      "metadata": {
        "id": "vrrOewqhJHK2"
      },
      "execution_count": 120,
      "outputs": []
    },
    {
      "cell_type": "code",
      "source": [
        "pd.DataFrame(record_list)"
      ],
      "metadata": {
        "colab": {
          "base_uri": "https://localhost:8080/",
          "height": 81
        },
        "id": "kD5VyMDSJcCO",
        "outputId": "f9600991-d48f-4680-cd2e-f430f391574c"
      },
      "execution_count": 121,
      "outputs": [
        {
          "output_type": "execute_result",
          "data": {
            "text/plain": [
              "   id  d250-7/11  d500-7/11  d750-7/11  d1000-7/11  d1250-7/11  d1500-7/11\n",
              "0  25          0          1          1           1           1           2"
            ],
            "text/html": [
              "\n",
              "  <div id=\"df-620ec26c-9e2d-473e-a5af-40fabff366b3\">\n",
              "    <div class=\"colab-df-container\">\n",
              "      <div>\n",
              "<style scoped>\n",
              "    .dataframe tbody tr th:only-of-type {\n",
              "        vertical-align: middle;\n",
              "    }\n",
              "\n",
              "    .dataframe tbody tr th {\n",
              "        vertical-align: top;\n",
              "    }\n",
              "\n",
              "    .dataframe thead th {\n",
              "        text-align: right;\n",
              "    }\n",
              "</style>\n",
              "<table border=\"1\" class=\"dataframe\">\n",
              "  <thead>\n",
              "    <tr style=\"text-align: right;\">\n",
              "      <th></th>\n",
              "      <th>id</th>\n",
              "      <th>d250-7/11</th>\n",
              "      <th>d500-7/11</th>\n",
              "      <th>d750-7/11</th>\n",
              "      <th>d1000-7/11</th>\n",
              "      <th>d1250-7/11</th>\n",
              "      <th>d1500-7/11</th>\n",
              "    </tr>\n",
              "  </thead>\n",
              "  <tbody>\n",
              "    <tr>\n",
              "      <th>0</th>\n",
              "      <td>25</td>\n",
              "      <td>0</td>\n",
              "      <td>1</td>\n",
              "      <td>1</td>\n",
              "      <td>1</td>\n",
              "      <td>1</td>\n",
              "      <td>2</td>\n",
              "    </tr>\n",
              "  </tbody>\n",
              "</table>\n",
              "</div>\n",
              "      <button class=\"colab-df-convert\" onclick=\"convertToInteractive('df-620ec26c-9e2d-473e-a5af-40fabff366b3')\"\n",
              "              title=\"Convert this dataframe to an interactive table.\"\n",
              "              style=\"display:none;\">\n",
              "        \n",
              "  <svg xmlns=\"http://www.w3.org/2000/svg\" height=\"24px\"viewBox=\"0 0 24 24\"\n",
              "       width=\"24px\">\n",
              "    <path d=\"M0 0h24v24H0V0z\" fill=\"none\"/>\n",
              "    <path d=\"M18.56 5.44l.94 2.06.94-2.06 2.06-.94-2.06-.94-.94-2.06-.94 2.06-2.06.94zm-11 1L8.5 8.5l.94-2.06 2.06-.94-2.06-.94L8.5 2.5l-.94 2.06-2.06.94zm10 10l.94 2.06.94-2.06 2.06-.94-2.06-.94-.94-2.06-.94 2.06-2.06.94z\"/><path d=\"M17.41 7.96l-1.37-1.37c-.4-.4-.92-.59-1.43-.59-.52 0-1.04.2-1.43.59L10.3 9.45l-7.72 7.72c-.78.78-.78 2.05 0 2.83L4 21.41c.39.39.9.59 1.41.59.51 0 1.02-.2 1.41-.59l7.78-7.78 2.81-2.81c.8-.78.8-2.07 0-2.86zM5.41 20L4 18.59l7.72-7.72 1.47 1.35L5.41 20z\"/>\n",
              "  </svg>\n",
              "      </button>\n",
              "      \n",
              "  <style>\n",
              "    .colab-df-container {\n",
              "      display:flex;\n",
              "      flex-wrap:wrap;\n",
              "      gap: 12px;\n",
              "    }\n",
              "\n",
              "    .colab-df-convert {\n",
              "      background-color: #E8F0FE;\n",
              "      border: none;\n",
              "      border-radius: 50%;\n",
              "      cursor: pointer;\n",
              "      display: none;\n",
              "      fill: #1967D2;\n",
              "      height: 32px;\n",
              "      padding: 0 0 0 0;\n",
              "      width: 32px;\n",
              "    }\n",
              "\n",
              "    .colab-df-convert:hover {\n",
              "      background-color: #E2EBFA;\n",
              "      box-shadow: 0px 1px 2px rgba(60, 64, 67, 0.3), 0px 1px 3px 1px rgba(60, 64, 67, 0.15);\n",
              "      fill: #174EA6;\n",
              "    }\n",
              "\n",
              "    [theme=dark] .colab-df-convert {\n",
              "      background-color: #3B4455;\n",
              "      fill: #D2E3FC;\n",
              "    }\n",
              "\n",
              "    [theme=dark] .colab-df-convert:hover {\n",
              "      background-color: #434B5C;\n",
              "      box-shadow: 0px 1px 3px 1px rgba(0, 0, 0, 0.15);\n",
              "      filter: drop-shadow(0px 1px 2px rgba(0, 0, 0, 0.3));\n",
              "      fill: #FFFFFF;\n",
              "    }\n",
              "  </style>\n",
              "\n",
              "      <script>\n",
              "        const buttonEl =\n",
              "          document.querySelector('#df-620ec26c-9e2d-473e-a5af-40fabff366b3 button.colab-df-convert');\n",
              "        buttonEl.style.display =\n",
              "          google.colab.kernel.accessAllowed ? 'block' : 'none';\n",
              "\n",
              "        async function convertToInteractive(key) {\n",
              "          const element = document.querySelector('#df-620ec26c-9e2d-473e-a5af-40fabff366b3');\n",
              "          const dataTable =\n",
              "            await google.colab.kernel.invokeFunction('convertToInteractive',\n",
              "                                                     [key], {});\n",
              "          if (!dataTable) return;\n",
              "\n",
              "          const docLinkHtml = 'Like what you see? Visit the ' +\n",
              "            '<a target=\"_blank\" href=https://colab.research.google.com/notebooks/data_table.ipynb>data table notebook</a>'\n",
              "            + ' to learn more about interactive tables.';\n",
              "          element.innerHTML = '';\n",
              "          dataTable['output_type'] = 'display_data';\n",
              "          await google.colab.output.renderOutput(dataTable, element);\n",
              "          const docLink = document.createElement('div');\n",
              "          docLink.innerHTML = docLinkHtml;\n",
              "          element.appendChild(docLink);\n",
              "        }\n",
              "      </script>\n",
              "    </div>\n",
              "  </div>\n",
              "  "
            ]
          },
          "metadata": {},
          "execution_count": 121
        }
      ]
    },
    {
      "cell_type": "code",
      "source": [
        "record_list = list() # เก็บ record ของแต่ละ id เริ่มจาก list ที่ไม่มีอะไรก่อน\n",
        "for id in home['post_id']:\n",
        "     print(id)\n",
        "     this_home = home[home['post_id']==(id)]\n",
        "     h_lat = this_home['latitude'].values[0]\n",
        "     h_long = this_home['longitude'].values[0]\n",
        "     this_seven = seven_id[str(int(id))]\n",
        "     seven_dist=list() \n",
        "     loc1 = [h_lat,h_long] \n",
        "     for seven in this_seven:\n",
        "          loc2 = [seven['lat'],seven['lng']]\n",
        "          dist = geopy.distance.geodesic(loc1,loc2).m\n",
        "          seven_dist.append(dist)\n",
        "\n",
        "     record_dict = {}\n",
        "     record_dict['id'] = id\n",
        "     record_dict['d250-7/11'] = sum(np.array(seven_dist) < 250)\n",
        "     record_dict['d500-7/11'] = sum(np.array(seven_dist) < 500)\n",
        "     record_dict['d750-7/11'] = sum(np.array(seven_dist) < 750)\n",
        "     record_dict['d1000-7/11'] = sum(np.array(seven_dist) < 1000)\n",
        "     record_dict['d1250-7/11'] = sum(np.array(seven_dist) < 1250)\n",
        "     record_dict['d1500-7/11'] = sum(np.array(seven_dist) < 1500)\n",
        "     record_list.append(record_dict)\n",
        "\n",
        "final_table = pd.DataFrame(record_list)"
      ],
      "metadata": {
        "id": "2Khdtl7fJg62"
      },
      "execution_count": null,
      "outputs": []
    },
    {
      "cell_type": "code",
      "source": [
        "final_table"
      ],
      "metadata": {
        "colab": {
          "base_uri": "https://localhost:8080/",
          "height": 424
        },
        "id": "nL8CnvyfOOTz",
        "outputId": "21d949bd-a7ff-406f-c979-02fce23fb669"
      },
      "execution_count": 146,
      "outputs": [
        {
          "output_type": "execute_result",
          "data": {
            "text/plain": [
              "         id  d250-7/11  d500-7/11  d750-7/11  d1000-7/11  d1250-7/11  \\\n",
              "0      25.0          0          1          1           1           1   \n",
              "1      33.0          0          1          2           3           5   \n",
              "2     495.0          0          0          0           2           2   \n",
              "3     564.0          0          0          2           4           8   \n",
              "4     566.0          0          1          2           3           4   \n",
              "..      ...        ...        ...        ...         ...         ...   \n",
              "95  19495.0          0          2          3           7          10   \n",
              "96  19496.0          0          0          0           1           4   \n",
              "97  20164.0          1          1          2           4           7   \n",
              "98     31.0          0          0          1           3           3   \n",
              "99    570.0          2          3          3           3           4   \n",
              "\n",
              "    d1500-7/11  \n",
              "0            2  \n",
              "1            5  \n",
              "2            3  \n",
              "3           12  \n",
              "4            4  \n",
              "..         ...  \n",
              "95          14  \n",
              "96           9  \n",
              "97           9  \n",
              "98           4  \n",
              "99           4  \n",
              "\n",
              "[100 rows x 7 columns]"
            ],
            "text/html": [
              "\n",
              "  <div id=\"df-2e5077df-52ed-49e6-8b0d-f4f2b55c076c\">\n",
              "    <div class=\"colab-df-container\">\n",
              "      <div>\n",
              "<style scoped>\n",
              "    .dataframe tbody tr th:only-of-type {\n",
              "        vertical-align: middle;\n",
              "    }\n",
              "\n",
              "    .dataframe tbody tr th {\n",
              "        vertical-align: top;\n",
              "    }\n",
              "\n",
              "    .dataframe thead th {\n",
              "        text-align: right;\n",
              "    }\n",
              "</style>\n",
              "<table border=\"1\" class=\"dataframe\">\n",
              "  <thead>\n",
              "    <tr style=\"text-align: right;\">\n",
              "      <th></th>\n",
              "      <th>id</th>\n",
              "      <th>d250-7/11</th>\n",
              "      <th>d500-7/11</th>\n",
              "      <th>d750-7/11</th>\n",
              "      <th>d1000-7/11</th>\n",
              "      <th>d1250-7/11</th>\n",
              "      <th>d1500-7/11</th>\n",
              "    </tr>\n",
              "  </thead>\n",
              "  <tbody>\n",
              "    <tr>\n",
              "      <th>0</th>\n",
              "      <td>25.0</td>\n",
              "      <td>0</td>\n",
              "      <td>1</td>\n",
              "      <td>1</td>\n",
              "      <td>1</td>\n",
              "      <td>1</td>\n",
              "      <td>2</td>\n",
              "    </tr>\n",
              "    <tr>\n",
              "      <th>1</th>\n",
              "      <td>33.0</td>\n",
              "      <td>0</td>\n",
              "      <td>1</td>\n",
              "      <td>2</td>\n",
              "      <td>3</td>\n",
              "      <td>5</td>\n",
              "      <td>5</td>\n",
              "    </tr>\n",
              "    <tr>\n",
              "      <th>2</th>\n",
              "      <td>495.0</td>\n",
              "      <td>0</td>\n",
              "      <td>0</td>\n",
              "      <td>0</td>\n",
              "      <td>2</td>\n",
              "      <td>2</td>\n",
              "      <td>3</td>\n",
              "    </tr>\n",
              "    <tr>\n",
              "      <th>3</th>\n",
              "      <td>564.0</td>\n",
              "      <td>0</td>\n",
              "      <td>0</td>\n",
              "      <td>2</td>\n",
              "      <td>4</td>\n",
              "      <td>8</td>\n",
              "      <td>12</td>\n",
              "    </tr>\n",
              "    <tr>\n",
              "      <th>4</th>\n",
              "      <td>566.0</td>\n",
              "      <td>0</td>\n",
              "      <td>1</td>\n",
              "      <td>2</td>\n",
              "      <td>3</td>\n",
              "      <td>4</td>\n",
              "      <td>4</td>\n",
              "    </tr>\n",
              "    <tr>\n",
              "      <th>...</th>\n",
              "      <td>...</td>\n",
              "      <td>...</td>\n",
              "      <td>...</td>\n",
              "      <td>...</td>\n",
              "      <td>...</td>\n",
              "      <td>...</td>\n",
              "      <td>...</td>\n",
              "    </tr>\n",
              "    <tr>\n",
              "      <th>95</th>\n",
              "      <td>19495.0</td>\n",
              "      <td>0</td>\n",
              "      <td>2</td>\n",
              "      <td>3</td>\n",
              "      <td>7</td>\n",
              "      <td>10</td>\n",
              "      <td>14</td>\n",
              "    </tr>\n",
              "    <tr>\n",
              "      <th>96</th>\n",
              "      <td>19496.0</td>\n",
              "      <td>0</td>\n",
              "      <td>0</td>\n",
              "      <td>0</td>\n",
              "      <td>1</td>\n",
              "      <td>4</td>\n",
              "      <td>9</td>\n",
              "    </tr>\n",
              "    <tr>\n",
              "      <th>97</th>\n",
              "      <td>20164.0</td>\n",
              "      <td>1</td>\n",
              "      <td>1</td>\n",
              "      <td>2</td>\n",
              "      <td>4</td>\n",
              "      <td>7</td>\n",
              "      <td>9</td>\n",
              "    </tr>\n",
              "    <tr>\n",
              "      <th>98</th>\n",
              "      <td>31.0</td>\n",
              "      <td>0</td>\n",
              "      <td>0</td>\n",
              "      <td>1</td>\n",
              "      <td>3</td>\n",
              "      <td>3</td>\n",
              "      <td>4</td>\n",
              "    </tr>\n",
              "    <tr>\n",
              "      <th>99</th>\n",
              "      <td>570.0</td>\n",
              "      <td>2</td>\n",
              "      <td>3</td>\n",
              "      <td>3</td>\n",
              "      <td>3</td>\n",
              "      <td>4</td>\n",
              "      <td>4</td>\n",
              "    </tr>\n",
              "  </tbody>\n",
              "</table>\n",
              "<p>100 rows × 7 columns</p>\n",
              "</div>\n",
              "      <button class=\"colab-df-convert\" onclick=\"convertToInteractive('df-2e5077df-52ed-49e6-8b0d-f4f2b55c076c')\"\n",
              "              title=\"Convert this dataframe to an interactive table.\"\n",
              "              style=\"display:none;\">\n",
              "        \n",
              "  <svg xmlns=\"http://www.w3.org/2000/svg\" height=\"24px\"viewBox=\"0 0 24 24\"\n",
              "       width=\"24px\">\n",
              "    <path d=\"M0 0h24v24H0V0z\" fill=\"none\"/>\n",
              "    <path d=\"M18.56 5.44l.94 2.06.94-2.06 2.06-.94-2.06-.94-.94-2.06-.94 2.06-2.06.94zm-11 1L8.5 8.5l.94-2.06 2.06-.94-2.06-.94L8.5 2.5l-.94 2.06-2.06.94zm10 10l.94 2.06.94-2.06 2.06-.94-2.06-.94-.94-2.06-.94 2.06-2.06.94z\"/><path d=\"M17.41 7.96l-1.37-1.37c-.4-.4-.92-.59-1.43-.59-.52 0-1.04.2-1.43.59L10.3 9.45l-7.72 7.72c-.78.78-.78 2.05 0 2.83L4 21.41c.39.39.9.59 1.41.59.51 0 1.02-.2 1.41-.59l7.78-7.78 2.81-2.81c.8-.78.8-2.07 0-2.86zM5.41 20L4 18.59l7.72-7.72 1.47 1.35L5.41 20z\"/>\n",
              "  </svg>\n",
              "      </button>\n",
              "      \n",
              "  <style>\n",
              "    .colab-df-container {\n",
              "      display:flex;\n",
              "      flex-wrap:wrap;\n",
              "      gap: 12px;\n",
              "    }\n",
              "\n",
              "    .colab-df-convert {\n",
              "      background-color: #E8F0FE;\n",
              "      border: none;\n",
              "      border-radius: 50%;\n",
              "      cursor: pointer;\n",
              "      display: none;\n",
              "      fill: #1967D2;\n",
              "      height: 32px;\n",
              "      padding: 0 0 0 0;\n",
              "      width: 32px;\n",
              "    }\n",
              "\n",
              "    .colab-df-convert:hover {\n",
              "      background-color: #E2EBFA;\n",
              "      box-shadow: 0px 1px 2px rgba(60, 64, 67, 0.3), 0px 1px 3px 1px rgba(60, 64, 67, 0.15);\n",
              "      fill: #174EA6;\n",
              "    }\n",
              "\n",
              "    [theme=dark] .colab-df-convert {\n",
              "      background-color: #3B4455;\n",
              "      fill: #D2E3FC;\n",
              "    }\n",
              "\n",
              "    [theme=dark] .colab-df-convert:hover {\n",
              "      background-color: #434B5C;\n",
              "      box-shadow: 0px 1px 3px 1px rgba(0, 0, 0, 0.15);\n",
              "      filter: drop-shadow(0px 1px 2px rgba(0, 0, 0, 0.3));\n",
              "      fill: #FFFFFF;\n",
              "    }\n",
              "  </style>\n",
              "\n",
              "      <script>\n",
              "        const buttonEl =\n",
              "          document.querySelector('#df-2e5077df-52ed-49e6-8b0d-f4f2b55c076c button.colab-df-convert');\n",
              "        buttonEl.style.display =\n",
              "          google.colab.kernel.accessAllowed ? 'block' : 'none';\n",
              "\n",
              "        async function convertToInteractive(key) {\n",
              "          const element = document.querySelector('#df-2e5077df-52ed-49e6-8b0d-f4f2b55c076c');\n",
              "          const dataTable =\n",
              "            await google.colab.kernel.invokeFunction('convertToInteractive',\n",
              "                                                     [key], {});\n",
              "          if (!dataTable) return;\n",
              "\n",
              "          const docLinkHtml = 'Like what you see? Visit the ' +\n",
              "            '<a target=\"_blank\" href=https://colab.research.google.com/notebooks/data_table.ipynb>data table notebook</a>'\n",
              "            + ' to learn more about interactive tables.';\n",
              "          element.innerHTML = '';\n",
              "          dataTable['output_type'] = 'display_data';\n",
              "          await google.colab.output.renderOutput(dataTable, element);\n",
              "          const docLink = document.createElement('div');\n",
              "          docLink.innerHTML = docLinkHtml;\n",
              "          element.appendChild(docLink);\n",
              "        }\n",
              "      </script>\n",
              "    </div>\n",
              "  </div>\n",
              "  "
            ]
          },
          "metadata": {},
          "execution_count": 146
        }
      ]
    },
    {
      "cell_type": "markdown",
      "source": [
        "# Quiz"
      ],
      "metadata": {
        "id": "AlSkD-1CS6Gs"
      }
    },
    {
      "cell_type": "code",
      "source": [
        "for i in home.columns:\n",
        "    print(i)"
      ],
      "metadata": {
        "colab": {
          "base_uri": "https://localhost:8080/"
        },
        "id": "CHubYdRIS8zf",
        "outputId": "58f0c478-e7a3-44d7-e74a-0018ac20a619"
      },
      "execution_count": 149,
      "outputs": [
        {
          "output_type": "stream",
          "name": "stdout",
          "text": [
            "post_id\n",
            "https://nayoo.co/khonkaen/posts/\n",
            "type\n",
            "post_type\n",
            "listing_type\n",
            "parent_id\n",
            "draft_for\n",
            "project_name\n",
            "contact_name\n",
            "province_id\n",
            "district_id\n",
            "district\n",
            "sub_district_id\n",
            "sub_district\n",
            "บ้านเดี่ยว/บ้านแฝด\n",
            "ต่อเติม\n",
            "renovate\n",
            "brand\n",
            "zip_code\n",
            "zone_id\n",
            "zone\n",
            "property_type_id\n",
            "category\n",
            "company_id\n",
            "user_id\n",
            "user\n",
            "cover_image\n",
            "cover_image_path\n",
            "address_number\n",
            "village_number\n",
            "alley\n",
            "street\n",
            "route\n",
            "name_th\n",
            "name_en\n",
            "description\n",
            "excerpt\n",
            "other_accommodation\n",
            "logo_image_path\n",
            "map_image_path\n",
            "latitude\n",
            "longitude\n",
            "quality\n",
            "quality_previous\n",
            "standard_quality\n",
            "create_quality\n",
            "update_quality\n",
            "quality_calculate_date\n",
            "pin_score\n",
            "approved\n",
            "status\n",
            "status_chat\n",
            "reject_reason\n",
            "is_review\n",
            "total_ctr\n",
            "total_mobile_ctr\n",
            "total_email_ctr\n",
            "total_line_ctr\n",
            "total_facebook_ctr\n",
            "starting_price\n",
            "ending_price\n",
            "number_of_rai\n",
            "number_of_ngan\n",
            "number_of_va\n",
            "construct_year\n",
            "plan_image_path\n",
            "post_number\n",
            "model\n",
            "sell_price\n",
            "rent_price\n",
            "expire_date\n",
            "expired\n",
            "close_reason\n",
            "number_of_unit\n",
            "number_of_story\n",
            "number_of_bedroom\n",
            "number_of_bathroom\n",
            "usable_area\n",
            "central_cost\n",
            "direction\n",
            "furniture\n",
            "rent_status\n",
            "accept_agent\n",
            "number_of_parking\n",
            "area\n",
            "building_number\n",
            "number_of_building\n",
            "floor_number\n",
            "parking_percentage\n",
            "number_of_lift\n",
            "line_group_id\n",
            "line_group_name\n",
            "line_group_image\n",
            "minimum_contract_month\n",
            "has_lift\n",
            "can_pet\n",
            "can_smoke\n",
            "has_ac\n",
            "has_wardrobe\n",
            "has_single_bed\n",
            "has_double_bed\n",
            "has_makeup_desk\n",
            "has_desk\n",
            "has_sofa\n",
            "has_sink\n",
            "has_tv\n",
            "has_refrig\n",
            "has_heater\n",
            "has_cable_tv\n",
            "has_wifi\n",
            "has_lan\n",
            "has_other\n",
            "water_as_use\n",
            "water_as_use_unit_price\n",
            "water_as_use_minimum\n",
            "water_as_normal\n",
            "water_per_person\n",
            "water_per_person_price\n",
            "water_per_person_maximum\n",
            "water_per_person_over_price\n",
            "water_per_room\n",
            "water_per_room_price\n",
            "water_per_room_maximum\n",
            "water_per_room_over_price\n",
            "water_included\n",
            "water_ask\n",
            "electric_as_use\n",
            "electric_as_use_unit_price\n",
            "electric_as_use_minimum\n",
            "electric_as_normal\n",
            "electric_included\n",
            "electric_ask\n",
            "waranty_fixed\n",
            "waranty_fixed_price\n",
            "waranty_range\n",
            "waranty_min\n",
            "waranty_max\n",
            "waranty_as_month\n",
            "waranty_ask\n",
            "advance_fixed\n",
            "advance_fixed_price\n",
            "advance_range\n",
            "advance_min\n",
            "advance_max\n",
            "advance_as_month\n",
            "advance_ask\n",
            "central_cost_fixed\n",
            "central_cost_range\n",
            "central_cost_min\n",
            "central_cost_max\n",
            "central_cost_none\n",
            "central_cost_ask\n",
            "internet_fixed\n",
            "internet_fixed_price\n",
            "central_cost_fixed_price\n",
            "internet_range\n",
            "internet_min\n",
            "internet_max\n",
            "internet_free\n",
            "internet_none\n",
            "internet_ask\n",
            "parking_fixed\n",
            "parking_fixed_price\n",
            "parking_range\n",
            "parking_min\n",
            "parking_max\n",
            "parking_free\n",
            "parking_none\n",
            "parking_ask\n",
            "cable_fixed\n",
            "cable_fixed_price\n",
            "cable_range\n",
            "cable_min\n",
            "cable_max\n",
            "cable_free\n",
            "cable_none\n",
            "cable_ask\n",
            "position_previous\n",
            "position_current\n",
            "sold_out_at\n",
            "created_at\n",
            "updated_at\n",
            "deleted_at\n"
          ]
        }
      ]
    },
    {
      "cell_type": "code",
      "source": [
        "final_table.columns"
      ],
      "metadata": {
        "colab": {
          "base_uri": "https://localhost:8080/"
        },
        "id": "ioLaX57zUjrj",
        "outputId": "8cfaf7d0-d161-4cbe-ab62-5b963a8299ea"
      },
      "execution_count": 150,
      "outputs": [
        {
          "output_type": "execute_result",
          "data": {
            "text/plain": [
              "Index(['id', 'd250-7/11', 'd500-7/11', 'd750-7/11', 'd1000-7/11', 'd1250-7/11',\n",
              "       'd1500-7/11'],\n",
              "      dtype='object')"
            ]
          },
          "metadata": {},
          "execution_count": 150
        }
      ]
    },
    {
      "cell_type": "code",
      "source": [
        "final = home.merge(final_table,left_on='post_id', right_on='id')[['post_id','number_of_rai','number_of_ngan','number_of_va','number_of_story','number_of_bedroom',\n",
        "                                                          'number_of_bathroom','direction','furniture','usable_area','number_of_parking','project_name','district','zone','street','sell_price', 'd250-7/11', 'd500-7/11', 'd750-7/11', 'd1000-7/11', 'd1250-7/11',\n",
        "       'd1500-7/11']]\n",
        "final"
      ],
      "metadata": {
        "colab": {
          "base_uri": "https://localhost:8080/",
          "height": 817
        },
        "id": "6or4WnzAST63",
        "outputId": "6795fd86-dfb7-4c44-c2c0-a424aa68d440"
      },
      "execution_count": 157,
      "outputs": [
        {
          "output_type": "execute_result",
          "data": {
            "text/plain": [
              "    post_id  number_of_rai  number_of_ngan  number_of_va  number_of_story  \\\n",
              "0      25.0            0.0             0.0          63.8              1.0   \n",
              "1      33.0            0.0             0.0          61.1              1.0   \n",
              "2     495.0            NaN             3.0          12.8              NaN   \n",
              "3     564.0            NaN             NaN          85.0              NaN   \n",
              "4     566.0            NaN             NaN          65.0              NaN   \n",
              "..      ...            ...             ...           ...              ...   \n",
              "95  19495.0            0.0             1.0          76.2              2.0   \n",
              "96  19496.0            0.0             2.0          56.8              1.0   \n",
              "97  20164.0            0.0             1.0           2.0              1.0   \n",
              "98     31.0            0.0             0.0          55.8              2.0   \n",
              "99    570.0            0.0             0.0          83.0              NaN   \n",
              "\n",
              "    number_of_bedroom  number_of_bathroom  direction  furniture  usable_area  \\\n",
              "0                 3.0                 2.0        0.0        0.0        135.0   \n",
              "1                 2.0                 2.0        0.0        0.0        112.0   \n",
              "2                 0.0                 NaN        0.0        0.0          0.0   \n",
              "3                 0.0                 NaN        0.0        0.0          0.0   \n",
              "4                 0.0                 NaN        0.0        0.0          0.0   \n",
              "..                ...                 ...        ...        ...          ...   \n",
              "95                0.0                 0.0        0.0        0.0        193.0   \n",
              "96                0.0                 0.0        0.0        0.0          0.0   \n",
              "97                4.0                 2.0        0.0        0.0          0.0   \n",
              "98                3.0                 2.0        0.0        0.0        188.0   \n",
              "99                0.0                 NaN        0.0        0.0          0.0   \n",
              "\n",
              "    ...      district                              zone  \\\n",
              "0   ...  เมืองขอนแก่น                 โนนทัน-บึงแก่นนคร   \n",
              "1   ...  เมืองขอนแก่น      กลางเมือง-เมืองเก่า-กุดกว้าง   \n",
              "2   ...  เมืองขอนแก่น                 โนนทัน-บึงแก่นนคร   \n",
              "3   ...  เมืองขอนแก่น       ทุ่งสร้าง-ศรีจันทร์-ราชมงคล   \n",
              "4   ...  เมืองขอนแก่น       ทุ่งสร้าง-ศรีจันทร์-ราชมงคล   \n",
              "..  ...           ...                               ...   \n",
              "95  ...  เมืองขอนแก่น      สามเหลี่ยม-กังสดาล-ม.ขอนแก่น   \n",
              "96  ...  เมืองขอนแก่น                 โนนทัน-บึงแก่นนคร   \n",
              "97  ...  เมืองขอนแก่น      สามเหลี่ยม-กังสดาล-ม.ขอนแก่น   \n",
              "98  ...  เมืองขอนแก่น  โนนม่วง-มข.-เลี่ยงเมือง-โนนเรือง   \n",
              "99  ...  เมืองขอนแก่น         ศิลา-โกทา-หนองไผ่-บ้านดอน   \n",
              "\n",
              "                       street sell_price d250-7/11  d500-7/11  d750-7/11  \\\n",
              "0                         NaN  2700000.0         0          1          1   \n",
              "1                         NaN  2600000.0         0          1          2   \n",
              "2                     โพธิสาร  5900000.0         0          0          0   \n",
              "3                         NaN  4400000.0         0          0          2   \n",
              "4                   ศรีจันทร์  2750000.0         0          1          2   \n",
              "..                        ...        ...       ...        ...        ...   \n",
              "95                        NaN  5500000.0         0          2          3   \n",
              "96                        NaN  7911000.0         0          0          0   \n",
              "97                        NaN  2990000.0         1          1          2   \n",
              "98  ถนนมิตรภาพ(ทล.2) กม.6+150  4000000.0         0          0          1   \n",
              "99                        NaN  1375000.0         2          3          3   \n",
              "\n",
              "    d1000-7/11  d1250-7/11  d1500-7/11  \n",
              "0            1           1           2  \n",
              "1            3           5           5  \n",
              "2            2           2           3  \n",
              "3            4           8          12  \n",
              "4            3           4           4  \n",
              "..         ...         ...         ...  \n",
              "95           7          10          14  \n",
              "96           1           4           9  \n",
              "97           4           7           9  \n",
              "98           3           3           4  \n",
              "99           3           4           4  \n",
              "\n",
              "[100 rows x 22 columns]"
            ],
            "text/html": [
              "\n",
              "  <div id=\"df-1affee96-d11d-4e1c-9542-1d5cd5af7aad\">\n",
              "    <div class=\"colab-df-container\">\n",
              "      <div>\n",
              "<style scoped>\n",
              "    .dataframe tbody tr th:only-of-type {\n",
              "        vertical-align: middle;\n",
              "    }\n",
              "\n",
              "    .dataframe tbody tr th {\n",
              "        vertical-align: top;\n",
              "    }\n",
              "\n",
              "    .dataframe thead th {\n",
              "        text-align: right;\n",
              "    }\n",
              "</style>\n",
              "<table border=\"1\" class=\"dataframe\">\n",
              "  <thead>\n",
              "    <tr style=\"text-align: right;\">\n",
              "      <th></th>\n",
              "      <th>post_id</th>\n",
              "      <th>number_of_rai</th>\n",
              "      <th>number_of_ngan</th>\n",
              "      <th>number_of_va</th>\n",
              "      <th>number_of_story</th>\n",
              "      <th>number_of_bedroom</th>\n",
              "      <th>number_of_bathroom</th>\n",
              "      <th>direction</th>\n",
              "      <th>furniture</th>\n",
              "      <th>usable_area</th>\n",
              "      <th>...</th>\n",
              "      <th>district</th>\n",
              "      <th>zone</th>\n",
              "      <th>street</th>\n",
              "      <th>sell_price</th>\n",
              "      <th>d250-7/11</th>\n",
              "      <th>d500-7/11</th>\n",
              "      <th>d750-7/11</th>\n",
              "      <th>d1000-7/11</th>\n",
              "      <th>d1250-7/11</th>\n",
              "      <th>d1500-7/11</th>\n",
              "    </tr>\n",
              "  </thead>\n",
              "  <tbody>\n",
              "    <tr>\n",
              "      <th>0</th>\n",
              "      <td>25.0</td>\n",
              "      <td>0.0</td>\n",
              "      <td>0.0</td>\n",
              "      <td>63.8</td>\n",
              "      <td>1.0</td>\n",
              "      <td>3.0</td>\n",
              "      <td>2.0</td>\n",
              "      <td>0.0</td>\n",
              "      <td>0.0</td>\n",
              "      <td>135.0</td>\n",
              "      <td>...</td>\n",
              "      <td>เมืองขอนแก่น</td>\n",
              "      <td>โนนทัน-บึงแก่นนคร</td>\n",
              "      <td>NaN</td>\n",
              "      <td>2700000.0</td>\n",
              "      <td>0</td>\n",
              "      <td>1</td>\n",
              "      <td>1</td>\n",
              "      <td>1</td>\n",
              "      <td>1</td>\n",
              "      <td>2</td>\n",
              "    </tr>\n",
              "    <tr>\n",
              "      <th>1</th>\n",
              "      <td>33.0</td>\n",
              "      <td>0.0</td>\n",
              "      <td>0.0</td>\n",
              "      <td>61.1</td>\n",
              "      <td>1.0</td>\n",
              "      <td>2.0</td>\n",
              "      <td>2.0</td>\n",
              "      <td>0.0</td>\n",
              "      <td>0.0</td>\n",
              "      <td>112.0</td>\n",
              "      <td>...</td>\n",
              "      <td>เมืองขอนแก่น</td>\n",
              "      <td>กลางเมือง-เมืองเก่า-กุดกว้าง</td>\n",
              "      <td>NaN</td>\n",
              "      <td>2600000.0</td>\n",
              "      <td>0</td>\n",
              "      <td>1</td>\n",
              "      <td>2</td>\n",
              "      <td>3</td>\n",
              "      <td>5</td>\n",
              "      <td>5</td>\n",
              "    </tr>\n",
              "    <tr>\n",
              "      <th>2</th>\n",
              "      <td>495.0</td>\n",
              "      <td>NaN</td>\n",
              "      <td>3.0</td>\n",
              "      <td>12.8</td>\n",
              "      <td>NaN</td>\n",
              "      <td>0.0</td>\n",
              "      <td>NaN</td>\n",
              "      <td>0.0</td>\n",
              "      <td>0.0</td>\n",
              "      <td>0.0</td>\n",
              "      <td>...</td>\n",
              "      <td>เมืองขอนแก่น</td>\n",
              "      <td>โนนทัน-บึงแก่นนคร</td>\n",
              "      <td>โพธิสาร</td>\n",
              "      <td>5900000.0</td>\n",
              "      <td>0</td>\n",
              "      <td>0</td>\n",
              "      <td>0</td>\n",
              "      <td>2</td>\n",
              "      <td>2</td>\n",
              "      <td>3</td>\n",
              "    </tr>\n",
              "    <tr>\n",
              "      <th>3</th>\n",
              "      <td>564.0</td>\n",
              "      <td>NaN</td>\n",
              "      <td>NaN</td>\n",
              "      <td>85.0</td>\n",
              "      <td>NaN</td>\n",
              "      <td>0.0</td>\n",
              "      <td>NaN</td>\n",
              "      <td>0.0</td>\n",
              "      <td>0.0</td>\n",
              "      <td>0.0</td>\n",
              "      <td>...</td>\n",
              "      <td>เมืองขอนแก่น</td>\n",
              "      <td>ทุ่งสร้าง-ศรีจันทร์-ราชมงคล</td>\n",
              "      <td>NaN</td>\n",
              "      <td>4400000.0</td>\n",
              "      <td>0</td>\n",
              "      <td>0</td>\n",
              "      <td>2</td>\n",
              "      <td>4</td>\n",
              "      <td>8</td>\n",
              "      <td>12</td>\n",
              "    </tr>\n",
              "    <tr>\n",
              "      <th>4</th>\n",
              "      <td>566.0</td>\n",
              "      <td>NaN</td>\n",
              "      <td>NaN</td>\n",
              "      <td>65.0</td>\n",
              "      <td>NaN</td>\n",
              "      <td>0.0</td>\n",
              "      <td>NaN</td>\n",
              "      <td>0.0</td>\n",
              "      <td>0.0</td>\n",
              "      <td>0.0</td>\n",
              "      <td>...</td>\n",
              "      <td>เมืองขอนแก่น</td>\n",
              "      <td>ทุ่งสร้าง-ศรีจันทร์-ราชมงคล</td>\n",
              "      <td>ศรีจันทร์</td>\n",
              "      <td>2750000.0</td>\n",
              "      <td>0</td>\n",
              "      <td>1</td>\n",
              "      <td>2</td>\n",
              "      <td>3</td>\n",
              "      <td>4</td>\n",
              "      <td>4</td>\n",
              "    </tr>\n",
              "    <tr>\n",
              "      <th>...</th>\n",
              "      <td>...</td>\n",
              "      <td>...</td>\n",
              "      <td>...</td>\n",
              "      <td>...</td>\n",
              "      <td>...</td>\n",
              "      <td>...</td>\n",
              "      <td>...</td>\n",
              "      <td>...</td>\n",
              "      <td>...</td>\n",
              "      <td>...</td>\n",
              "      <td>...</td>\n",
              "      <td>...</td>\n",
              "      <td>...</td>\n",
              "      <td>...</td>\n",
              "      <td>...</td>\n",
              "      <td>...</td>\n",
              "      <td>...</td>\n",
              "      <td>...</td>\n",
              "      <td>...</td>\n",
              "      <td>...</td>\n",
              "      <td>...</td>\n",
              "    </tr>\n",
              "    <tr>\n",
              "      <th>95</th>\n",
              "      <td>19495.0</td>\n",
              "      <td>0.0</td>\n",
              "      <td>1.0</td>\n",
              "      <td>76.2</td>\n",
              "      <td>2.0</td>\n",
              "      <td>0.0</td>\n",
              "      <td>0.0</td>\n",
              "      <td>0.0</td>\n",
              "      <td>0.0</td>\n",
              "      <td>193.0</td>\n",
              "      <td>...</td>\n",
              "      <td>เมืองขอนแก่น</td>\n",
              "      <td>สามเหลี่ยม-กังสดาล-ม.ขอนแก่น</td>\n",
              "      <td>NaN</td>\n",
              "      <td>5500000.0</td>\n",
              "      <td>0</td>\n",
              "      <td>2</td>\n",
              "      <td>3</td>\n",
              "      <td>7</td>\n",
              "      <td>10</td>\n",
              "      <td>14</td>\n",
              "    </tr>\n",
              "    <tr>\n",
              "      <th>96</th>\n",
              "      <td>19496.0</td>\n",
              "      <td>0.0</td>\n",
              "      <td>2.0</td>\n",
              "      <td>56.8</td>\n",
              "      <td>1.0</td>\n",
              "      <td>0.0</td>\n",
              "      <td>0.0</td>\n",
              "      <td>0.0</td>\n",
              "      <td>0.0</td>\n",
              "      <td>0.0</td>\n",
              "      <td>...</td>\n",
              "      <td>เมืองขอนแก่น</td>\n",
              "      <td>โนนทัน-บึงแก่นนคร</td>\n",
              "      <td>NaN</td>\n",
              "      <td>7911000.0</td>\n",
              "      <td>0</td>\n",
              "      <td>0</td>\n",
              "      <td>0</td>\n",
              "      <td>1</td>\n",
              "      <td>4</td>\n",
              "      <td>9</td>\n",
              "    </tr>\n",
              "    <tr>\n",
              "      <th>97</th>\n",
              "      <td>20164.0</td>\n",
              "      <td>0.0</td>\n",
              "      <td>1.0</td>\n",
              "      <td>2.0</td>\n",
              "      <td>1.0</td>\n",
              "      <td>4.0</td>\n",
              "      <td>2.0</td>\n",
              "      <td>0.0</td>\n",
              "      <td>0.0</td>\n",
              "      <td>0.0</td>\n",
              "      <td>...</td>\n",
              "      <td>เมืองขอนแก่น</td>\n",
              "      <td>สามเหลี่ยม-กังสดาล-ม.ขอนแก่น</td>\n",
              "      <td>NaN</td>\n",
              "      <td>2990000.0</td>\n",
              "      <td>1</td>\n",
              "      <td>1</td>\n",
              "      <td>2</td>\n",
              "      <td>4</td>\n",
              "      <td>7</td>\n",
              "      <td>9</td>\n",
              "    </tr>\n",
              "    <tr>\n",
              "      <th>98</th>\n",
              "      <td>31.0</td>\n",
              "      <td>0.0</td>\n",
              "      <td>0.0</td>\n",
              "      <td>55.8</td>\n",
              "      <td>2.0</td>\n",
              "      <td>3.0</td>\n",
              "      <td>2.0</td>\n",
              "      <td>0.0</td>\n",
              "      <td>0.0</td>\n",
              "      <td>188.0</td>\n",
              "      <td>...</td>\n",
              "      <td>เมืองขอนแก่น</td>\n",
              "      <td>โนนม่วง-มข.-เลี่ยงเมือง-โนนเรือง</td>\n",
              "      <td>ถนนมิตรภาพ(ทล.2) กม.6+150</td>\n",
              "      <td>4000000.0</td>\n",
              "      <td>0</td>\n",
              "      <td>0</td>\n",
              "      <td>1</td>\n",
              "      <td>3</td>\n",
              "      <td>3</td>\n",
              "      <td>4</td>\n",
              "    </tr>\n",
              "    <tr>\n",
              "      <th>99</th>\n",
              "      <td>570.0</td>\n",
              "      <td>0.0</td>\n",
              "      <td>0.0</td>\n",
              "      <td>83.0</td>\n",
              "      <td>NaN</td>\n",
              "      <td>0.0</td>\n",
              "      <td>NaN</td>\n",
              "      <td>0.0</td>\n",
              "      <td>0.0</td>\n",
              "      <td>0.0</td>\n",
              "      <td>...</td>\n",
              "      <td>เมืองขอนแก่น</td>\n",
              "      <td>ศิลา-โกทา-หนองไผ่-บ้านดอน</td>\n",
              "      <td>NaN</td>\n",
              "      <td>1375000.0</td>\n",
              "      <td>2</td>\n",
              "      <td>3</td>\n",
              "      <td>3</td>\n",
              "      <td>3</td>\n",
              "      <td>4</td>\n",
              "      <td>4</td>\n",
              "    </tr>\n",
              "  </tbody>\n",
              "</table>\n",
              "<p>100 rows × 22 columns</p>\n",
              "</div>\n",
              "      <button class=\"colab-df-convert\" onclick=\"convertToInteractive('df-1affee96-d11d-4e1c-9542-1d5cd5af7aad')\"\n",
              "              title=\"Convert this dataframe to an interactive table.\"\n",
              "              style=\"display:none;\">\n",
              "        \n",
              "  <svg xmlns=\"http://www.w3.org/2000/svg\" height=\"24px\"viewBox=\"0 0 24 24\"\n",
              "       width=\"24px\">\n",
              "    <path d=\"M0 0h24v24H0V0z\" fill=\"none\"/>\n",
              "    <path d=\"M18.56 5.44l.94 2.06.94-2.06 2.06-.94-2.06-.94-.94-2.06-.94 2.06-2.06.94zm-11 1L8.5 8.5l.94-2.06 2.06-.94-2.06-.94L8.5 2.5l-.94 2.06-2.06.94zm10 10l.94 2.06.94-2.06 2.06-.94-2.06-.94-.94-2.06-.94 2.06-2.06.94z\"/><path d=\"M17.41 7.96l-1.37-1.37c-.4-.4-.92-.59-1.43-.59-.52 0-1.04.2-1.43.59L10.3 9.45l-7.72 7.72c-.78.78-.78 2.05 0 2.83L4 21.41c.39.39.9.59 1.41.59.51 0 1.02-.2 1.41-.59l7.78-7.78 2.81-2.81c.8-.78.8-2.07 0-2.86zM5.41 20L4 18.59l7.72-7.72 1.47 1.35L5.41 20z\"/>\n",
              "  </svg>\n",
              "      </button>\n",
              "      \n",
              "  <style>\n",
              "    .colab-df-container {\n",
              "      display:flex;\n",
              "      flex-wrap:wrap;\n",
              "      gap: 12px;\n",
              "    }\n",
              "\n",
              "    .colab-df-convert {\n",
              "      background-color: #E8F0FE;\n",
              "      border: none;\n",
              "      border-radius: 50%;\n",
              "      cursor: pointer;\n",
              "      display: none;\n",
              "      fill: #1967D2;\n",
              "      height: 32px;\n",
              "      padding: 0 0 0 0;\n",
              "      width: 32px;\n",
              "    }\n",
              "\n",
              "    .colab-df-convert:hover {\n",
              "      background-color: #E2EBFA;\n",
              "      box-shadow: 0px 1px 2px rgba(60, 64, 67, 0.3), 0px 1px 3px 1px rgba(60, 64, 67, 0.15);\n",
              "      fill: #174EA6;\n",
              "    }\n",
              "\n",
              "    [theme=dark] .colab-df-convert {\n",
              "      background-color: #3B4455;\n",
              "      fill: #D2E3FC;\n",
              "    }\n",
              "\n",
              "    [theme=dark] .colab-df-convert:hover {\n",
              "      background-color: #434B5C;\n",
              "      box-shadow: 0px 1px 3px 1px rgba(0, 0, 0, 0.15);\n",
              "      filter: drop-shadow(0px 1px 2px rgba(0, 0, 0, 0.3));\n",
              "      fill: #FFFFFF;\n",
              "    }\n",
              "  </style>\n",
              "\n",
              "      <script>\n",
              "        const buttonEl =\n",
              "          document.querySelector('#df-1affee96-d11d-4e1c-9542-1d5cd5af7aad button.colab-df-convert');\n",
              "        buttonEl.style.display =\n",
              "          google.colab.kernel.accessAllowed ? 'block' : 'none';\n",
              "\n",
              "        async function convertToInteractive(key) {\n",
              "          const element = document.querySelector('#df-1affee96-d11d-4e1c-9542-1d5cd5af7aad');\n",
              "          const dataTable =\n",
              "            await google.colab.kernel.invokeFunction('convertToInteractive',\n",
              "                                                     [key], {});\n",
              "          if (!dataTable) return;\n",
              "\n",
              "          const docLinkHtml = 'Like what you see? Visit the ' +\n",
              "            '<a target=\"_blank\" href=https://colab.research.google.com/notebooks/data_table.ipynb>data table notebook</a>'\n",
              "            + ' to learn more about interactive tables.';\n",
              "          element.innerHTML = '';\n",
              "          dataTable['output_type'] = 'display_data';\n",
              "          await google.colab.output.renderOutput(dataTable, element);\n",
              "          const docLink = document.createElement('div');\n",
              "          docLink.innerHTML = docLinkHtml;\n",
              "          element.appendChild(docLink);\n",
              "        }\n",
              "      </script>\n",
              "    </div>\n",
              "  </div>\n",
              "  "
            ]
          },
          "metadata": {},
          "execution_count": 157
        }
      ]
    },
    {
      "cell_type": "code",
      "source": [
        "for i in final.columns:\n",
        "    print(i)"
      ],
      "metadata": {
        "colab": {
          "base_uri": "https://localhost:8080/"
        },
        "id": "Q6cD7hiRVBwy",
        "outputId": "1d9e9b28-115d-48aa-d1e3-335367c4acbf"
      },
      "execution_count": 156,
      "outputs": [
        {
          "output_type": "stream",
          "name": "stdout",
          "text": [
            "post_id\n",
            "number_of_rai\n",
            "number_of_ngan\n",
            "number_of_va\n",
            "number_of_story\n",
            "number_of_bedroom\n",
            "number_of_bathroom\n",
            "direction\n",
            "furniture\n",
            "usable_area\n",
            "number_of_parking\n",
            "project_name\n",
            "district\n",
            "zone\n",
            "street\n",
            "sell_price\n",
            "d250-7/11\n",
            "d500-7/11\n",
            "d750-7/11\n",
            "d1000-7/11\n",
            "d1250-7/11\n",
            "d1500-7/11\n"
          ]
        }
      ]
    },
    {
      "cell_type": "code",
      "source": [],
      "metadata": {
        "id": "h5BcZryVVPvG"
      },
      "execution_count": null,
      "outputs": []
    }
  ]
}