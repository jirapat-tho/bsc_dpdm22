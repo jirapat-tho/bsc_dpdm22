{
  "nbformat": 4,
  "nbformat_minor": 0,
  "metadata": {
    "colab": {
      "provenance": [],
      "toc_visible": true,
      "authorship_tag": "ABX9TyPRES610oMgTR6r7shZhaCU",
      "include_colab_link": true
    },
    "kernelspec": {
      "name": "python3",
      "display_name": "Python 3"
    },
    "language_info": {
      "name": "python"
    }
  },
  "cells": [
    {
      "cell_type": "markdown",
      "metadata": {
        "id": "view-in-github",
        "colab_type": "text"
      },
      "source": [
        "<a href=\"https://colab.research.google.com/github/jtmeawno1/bsc_dpdm22/blob/main/Quiz.ipynb\" target=\"_parent\"><img src=\"https://colab.research.google.com/assets/colab-badge.svg\" alt=\"Open In Colab\"/></a>"
      ]
    },
    {
      "cell_type": "code",
      "execution_count": 1,
      "metadata": {
        "colab": {
          "base_uri": "https://localhost:8080/"
        },
        "id": "sTkBrRxFqvp4",
        "outputId": "167433cc-1e3f-4c8b-e7c1-7f711b8b70ff"
      },
      "outputs": [
        {
          "output_type": "stream",
          "name": "stdout",
          "text": [
            "Mounted at /content/drive\n"
          ]
        }
      ],
      "source": [
        "from google.colab import drive \n",
        "drive.mount('/content/drive')"
      ]
    },
    {
      "cell_type": "code",
      "source": [
        "import os\n",
        "os.chdir('/content/drive/MyDrive/bsc_DPDM_data/อุตุ/ความกด(เปอร์เซ็นต์)')\n",
        "\n",
        "!pwd "
      ],
      "metadata": {
        "colab": {
          "base_uri": "https://localhost:8080/"
        },
        "id": "p5l5MoS8q4FE",
        "outputId": "effeae10-1c59-4c56-b3c2-e3f04b7241b9"
      },
      "execution_count": 2,
      "outputs": [
        {
          "output_type": "stream",
          "name": "stdout",
          "text": [
            "/content/drive/MyDrive/bsc_DPDM_data/อุตุ/ความกด(เปอร์เซ็นต์)\n"
          ]
        }
      ]
    },
    {
      "cell_type": "code",
      "source": [
        "!ls"
      ],
      "metadata": {
        "colab": {
          "base_uri": "https://localhost:8080/"
        },
        "id": "BWzENw6Ur9S4",
        "outputId": "cb6620c4-32a3-466c-eab1-2de0fa0be937"
      },
      "execution_count": 3,
      "outputs": [
        {
          "output_type": "stream",
          "name": "stdout",
          "text": [
            "จ.เลย.xlsx  จ.นครพนม.xlsx  จ.สกลนคร.xlsx  จ.หนองคาย.xlsx  จ.ขอนแก่น.xlsx\n"
          ]
        }
      ]
    },
    {
      "cell_type": "code",
      "source": [
        "import pandas as pd"
      ],
      "metadata": {
        "id": "runVfZkSq5xJ"
      },
      "execution_count": 4,
      "outputs": []
    },
    {
      "cell_type": "markdown",
      "source": [
        "# ความกด"
      ],
      "metadata": {
        "id": "KKiI5oFZW-T-"
      }
    },
    {
      "cell_type": "markdown",
      "source": [
        "## เลย"
      ],
      "metadata": {
        "id": "AyFw_1FiUZRS"
      }
    },
    {
      "cell_type": "code",
      "source": [
        "pressure_lei = pd.read_excel('/content/drive/MyDrive/bsc_DPDM_data/อุตุ/ความกด(เปอร์เซ็นต์)/จ.เลย.xlsx',skiprows=3).drop(0, axis=0)\n",
        "pressure_lei.columns.values[3:34] =['1','2','3','4','5','6','7','8','9','10','11','12','13','14','15','16','17','18','19','20','21','22','23','24','25','26','27','28','29','30','31']"
      ],
      "metadata": {
        "id": "mWhZxmhcMn-P"
      },
      "execution_count": 5,
      "outputs": []
    },
    {
      "cell_type": "code",
      "source": [
        "pressure_lei['จังหวัด'] = 'เลย'"
      ],
      "metadata": {
        "id": "lY_P9jpUUc0C"
      },
      "execution_count": 6,
      "outputs": []
    },
    {
      "cell_type": "code",
      "source": [
        "pressure_lei['เดือน'] =pressure_lei['เดือน/ปี'].dt.month"
      ],
      "metadata": {
        "id": "sff731OtUc0C"
      },
      "execution_count": 7,
      "outputs": []
    },
    {
      "cell_type": "code",
      "source": [
        "pressure_lei['ปี'] = pressure_lei['เดือน/ปี'].dt.year"
      ],
      "metadata": {
        "id": "YVguzEewUc0D"
      },
      "execution_count": 8,
      "outputs": []
    },
    {
      "cell_type": "code",
      "source": [
        "pres_lei = pressure_lei[['จังหวัด','สถานี','เดือน','ปี','1','2','3','4','5','6','7','8','9','10','11','12','13','14','15','16','17','18','19','20','21','22','23','24','25','26','27','28','29','30','31']]"
      ],
      "metadata": {
        "colab": {
          "base_uri": "https://localhost:8080/",
          "height": 341
        },
        "outputId": "55cdad22-1cc4-41d9-93d6-6304b23496d3",
        "id": "be-xOGZ_Uc0D"
      },
      "execution_count": 9,
      "outputs": [
        {
          "output_type": "execute_result",
          "data": {
            "text/plain": [
              "  จังหวัด                     สถานี  เดือน    ปี        1        2        3  \\\n",
              "1     เลย  352201-หนองคาย จ.หนองคาย     10  2011  1005.12  1006.51  1007.81   \n",
              "2     เลย  352201-หนองคาย จ.หนองคาย     11  2011  1012.09  1011.32  1010.99   \n",
              "3     เลย  352201-หนองคาย จ.หนองคาย     12  2011  1010.43  1011.81  1012.45   \n",
              "\n",
              "         4        5        6  ...       22       23       24       25  \\\n",
              "1  1008.15  1009.21  1011.28  ...  1010.98  1010.79  1010.25  1011.52   \n",
              "2  1011.47  1010.88  1009.62  ...  1014.21  1014.79  1015.74  1014.36   \n",
              "3  1012.03  1013.29  1013.21  ...  1014.34  1013.75  1013.11  1015.95   \n",
              "\n",
              "        26       27       28       29       30       31  \n",
              "1  1012.04  1012.00  1012.74  1011.69  1011.27  1011.71  \n",
              "2  1013.30  1011.92  1009.86   1010.1  1010.43        -  \n",
              "3  1018.79  1019.39  1017.88  1016.49  1014.97  1015.62  \n",
              "\n",
              "[3 rows x 35 columns]"
            ],
            "text/html": [
              "\n",
              "  <div id=\"df-eafac5c2-cebb-4014-b029-438d983e3758\">\n",
              "    <div class=\"colab-df-container\">\n",
              "      <div>\n",
              "<style scoped>\n",
              "    .dataframe tbody tr th:only-of-type {\n",
              "        vertical-align: middle;\n",
              "    }\n",
              "\n",
              "    .dataframe tbody tr th {\n",
              "        vertical-align: top;\n",
              "    }\n",
              "\n",
              "    .dataframe thead th {\n",
              "        text-align: right;\n",
              "    }\n",
              "</style>\n",
              "<table border=\"1\" class=\"dataframe\">\n",
              "  <thead>\n",
              "    <tr style=\"text-align: right;\">\n",
              "      <th></th>\n",
              "      <th>จังหวัด</th>\n",
              "      <th>สถานี</th>\n",
              "      <th>เดือน</th>\n",
              "      <th>ปี</th>\n",
              "      <th>1</th>\n",
              "      <th>2</th>\n",
              "      <th>3</th>\n",
              "      <th>4</th>\n",
              "      <th>5</th>\n",
              "      <th>6</th>\n",
              "      <th>...</th>\n",
              "      <th>22</th>\n",
              "      <th>23</th>\n",
              "      <th>24</th>\n",
              "      <th>25</th>\n",
              "      <th>26</th>\n",
              "      <th>27</th>\n",
              "      <th>28</th>\n",
              "      <th>29</th>\n",
              "      <th>30</th>\n",
              "      <th>31</th>\n",
              "    </tr>\n",
              "  </thead>\n",
              "  <tbody>\n",
              "    <tr>\n",
              "      <th>1</th>\n",
              "      <td>เลย</td>\n",
              "      <td>352201-หนองคาย จ.หนองคาย</td>\n",
              "      <td>10</td>\n",
              "      <td>2011</td>\n",
              "      <td>1005.12</td>\n",
              "      <td>1006.51</td>\n",
              "      <td>1007.81</td>\n",
              "      <td>1008.15</td>\n",
              "      <td>1009.21</td>\n",
              "      <td>1011.28</td>\n",
              "      <td>...</td>\n",
              "      <td>1010.98</td>\n",
              "      <td>1010.79</td>\n",
              "      <td>1010.25</td>\n",
              "      <td>1011.52</td>\n",
              "      <td>1012.04</td>\n",
              "      <td>1012.00</td>\n",
              "      <td>1012.74</td>\n",
              "      <td>1011.69</td>\n",
              "      <td>1011.27</td>\n",
              "      <td>1011.71</td>\n",
              "    </tr>\n",
              "    <tr>\n",
              "      <th>2</th>\n",
              "      <td>เลย</td>\n",
              "      <td>352201-หนองคาย จ.หนองคาย</td>\n",
              "      <td>11</td>\n",
              "      <td>2011</td>\n",
              "      <td>1012.09</td>\n",
              "      <td>1011.32</td>\n",
              "      <td>1010.99</td>\n",
              "      <td>1011.47</td>\n",
              "      <td>1010.88</td>\n",
              "      <td>1009.62</td>\n",
              "      <td>...</td>\n",
              "      <td>1014.21</td>\n",
              "      <td>1014.79</td>\n",
              "      <td>1015.74</td>\n",
              "      <td>1014.36</td>\n",
              "      <td>1013.30</td>\n",
              "      <td>1011.92</td>\n",
              "      <td>1009.86</td>\n",
              "      <td>1010.1</td>\n",
              "      <td>1010.43</td>\n",
              "      <td>-</td>\n",
              "    </tr>\n",
              "    <tr>\n",
              "      <th>3</th>\n",
              "      <td>เลย</td>\n",
              "      <td>352201-หนองคาย จ.หนองคาย</td>\n",
              "      <td>12</td>\n",
              "      <td>2011</td>\n",
              "      <td>1010.43</td>\n",
              "      <td>1011.81</td>\n",
              "      <td>1012.45</td>\n",
              "      <td>1012.03</td>\n",
              "      <td>1013.29</td>\n",
              "      <td>1013.21</td>\n",
              "      <td>...</td>\n",
              "      <td>1014.34</td>\n",
              "      <td>1013.75</td>\n",
              "      <td>1013.11</td>\n",
              "      <td>1015.95</td>\n",
              "      <td>1018.79</td>\n",
              "      <td>1019.39</td>\n",
              "      <td>1017.88</td>\n",
              "      <td>1016.49</td>\n",
              "      <td>1014.97</td>\n",
              "      <td>1015.62</td>\n",
              "    </tr>\n",
              "  </tbody>\n",
              "</table>\n",
              "<p>3 rows × 35 columns</p>\n",
              "</div>\n",
              "      <button class=\"colab-df-convert\" onclick=\"convertToInteractive('df-eafac5c2-cebb-4014-b029-438d983e3758')\"\n",
              "              title=\"Convert this dataframe to an interactive table.\"\n",
              "              style=\"display:none;\">\n",
              "        \n",
              "  <svg xmlns=\"http://www.w3.org/2000/svg\" height=\"24px\"viewBox=\"0 0 24 24\"\n",
              "       width=\"24px\">\n",
              "    <path d=\"M0 0h24v24H0V0z\" fill=\"none\"/>\n",
              "    <path d=\"M18.56 5.44l.94 2.06.94-2.06 2.06-.94-2.06-.94-.94-2.06-.94 2.06-2.06.94zm-11 1L8.5 8.5l.94-2.06 2.06-.94-2.06-.94L8.5 2.5l-.94 2.06-2.06.94zm10 10l.94 2.06.94-2.06 2.06-.94-2.06-.94-.94-2.06-.94 2.06-2.06.94z\"/><path d=\"M17.41 7.96l-1.37-1.37c-.4-.4-.92-.59-1.43-.59-.52 0-1.04.2-1.43.59L10.3 9.45l-7.72 7.72c-.78.78-.78 2.05 0 2.83L4 21.41c.39.39.9.59 1.41.59.51 0 1.02-.2 1.41-.59l7.78-7.78 2.81-2.81c.8-.78.8-2.07 0-2.86zM5.41 20L4 18.59l7.72-7.72 1.47 1.35L5.41 20z\"/>\n",
              "  </svg>\n",
              "      </button>\n",
              "      \n",
              "  <style>\n",
              "    .colab-df-container {\n",
              "      display:flex;\n",
              "      flex-wrap:wrap;\n",
              "      gap: 12px;\n",
              "    }\n",
              "\n",
              "    .colab-df-convert {\n",
              "      background-color: #E8F0FE;\n",
              "      border: none;\n",
              "      border-radius: 50%;\n",
              "      cursor: pointer;\n",
              "      display: none;\n",
              "      fill: #1967D2;\n",
              "      height: 32px;\n",
              "      padding: 0 0 0 0;\n",
              "      width: 32px;\n",
              "    }\n",
              "\n",
              "    .colab-df-convert:hover {\n",
              "      background-color: #E2EBFA;\n",
              "      box-shadow: 0px 1px 2px rgba(60, 64, 67, 0.3), 0px 1px 3px 1px rgba(60, 64, 67, 0.15);\n",
              "      fill: #174EA6;\n",
              "    }\n",
              "\n",
              "    [theme=dark] .colab-df-convert {\n",
              "      background-color: #3B4455;\n",
              "      fill: #D2E3FC;\n",
              "    }\n",
              "\n",
              "    [theme=dark] .colab-df-convert:hover {\n",
              "      background-color: #434B5C;\n",
              "      box-shadow: 0px 1px 3px 1px rgba(0, 0, 0, 0.15);\n",
              "      filter: drop-shadow(0px 1px 2px rgba(0, 0, 0, 0.3));\n",
              "      fill: #FFFFFF;\n",
              "    }\n",
              "  </style>\n",
              "\n",
              "      <script>\n",
              "        const buttonEl =\n",
              "          document.querySelector('#df-eafac5c2-cebb-4014-b029-438d983e3758 button.colab-df-convert');\n",
              "        buttonEl.style.display =\n",
              "          google.colab.kernel.accessAllowed ? 'block' : 'none';\n",
              "\n",
              "        async function convertToInteractive(key) {\n",
              "          const element = document.querySelector('#df-eafac5c2-cebb-4014-b029-438d983e3758');\n",
              "          const dataTable =\n",
              "            await google.colab.kernel.invokeFunction('convertToInteractive',\n",
              "                                                     [key], {});\n",
              "          if (!dataTable) return;\n",
              "\n",
              "          const docLinkHtml = 'Like what you see? Visit the ' +\n",
              "            '<a target=\"_blank\" href=https://colab.research.google.com/notebooks/data_table.ipynb>data table notebook</a>'\n",
              "            + ' to learn more about interactive tables.';\n",
              "          element.innerHTML = '';\n",
              "          dataTable['output_type'] = 'display_data';\n",
              "          await google.colab.output.renderOutput(dataTable, element);\n",
              "          const docLink = document.createElement('div');\n",
              "          docLink.innerHTML = docLinkHtml;\n",
              "          element.appendChild(docLink);\n",
              "        }\n",
              "      </script>\n",
              "    </div>\n",
              "  </div>\n",
              "  "
            ]
          },
          "metadata": {},
          "execution_count": 9
        }
      ]
    },
    {
      "cell_type": "markdown",
      "source": [
        "## สกลนคร"
      ],
      "metadata": {
        "id": "7gm4Ml1bSkbr"
      }
    },
    {
      "cell_type": "code",
      "source": [
        "pressure_snk = pd.read_excel('/content/drive/MyDrive/bsc_DPDM_data/อุตุ/ความกด(เปอร์เซ็นต์)/จ.สกลนคร.xlsx',skiprows=3).drop(0, axis=0)\n",
        "pressure_snk.columns.values[3:34] =['1','2','3','4','5','6','7','8','9','10','11','12','13','14','15','16','17','18','19','20','21','22','23','24','25','26','27','28','29','30','31']"
      ],
      "metadata": {
        "id": "7GotQcjmM8n_"
      },
      "execution_count": 10,
      "outputs": []
    },
    {
      "cell_type": "code",
      "source": [
        "pressure_snk['จังหวัด'] = 'สกลนคร'"
      ],
      "metadata": {
        "id": "hXKXWTv0TvEn"
      },
      "execution_count": 11,
      "outputs": []
    },
    {
      "cell_type": "code",
      "source": [
        "pressure_snk['เดือน'] = pressure_snk['เดือน/ปี'].dt.month"
      ],
      "metadata": {
        "id": "ncjO1NeTTvEn"
      },
      "execution_count": 12,
      "outputs": []
    },
    {
      "cell_type": "code",
      "source": [
        "pressure_snk['ปี'] = pressure_snk['เดือน/ปี'].dt.year"
      ],
      "metadata": {
        "id": "sJb_um1gTvEn"
      },
      "execution_count": 13,
      "outputs": []
    },
    {
      "cell_type": "code",
      "source": [
        "pres_snk = pressure_snk[['จังหวัด','สถานี','เดือน','ปี','1','2','3','4','5','6','7','8','9','10','11','12','13','14','15','16','17','18','19','20','21','22','23','24','25','26','27','28','29','30','31']]\n",
        "pres_snk.head(3)"
      ],
      "metadata": {
        "colab": {
          "base_uri": "https://localhost:8080/",
          "height": 341
        },
        "outputId": "73af0c5e-1390-46cc-edb0-bb455d44b8aa",
        "id": "bvB4IKSmTvEn"
      },
      "execution_count": 14,
      "outputs": [
        {
          "output_type": "execute_result",
          "data": {
            "text/plain": [
              "  จังหวัด                     สถานี  เดือน    ปี        1        2        3  \\\n",
              "1  สกลนคร  352201-หนองคาย จ.หนองคาย     10  2011  1005.84  1007.16  1007.87   \n",
              "2  สกลนคร  352201-หนองคาย จ.หนองคาย     11  2011  1012.41  1011.47  1011.22   \n",
              "3  สกลนคร  352201-หนองคาย จ.หนองคาย     12  2011  1012.16  1013.74  1013.44   \n",
              "\n",
              "         4        5        6  ...       22       23       24       25  \\\n",
              "1  1008.56  1010.55  1011.83  ...  1011.36  1011.24  1010.80  1012.02   \n",
              "2  1011.16  1010.51  1009.26  ...  1014.41  1015.21  1016.11  1014.65   \n",
              "3  1014.00  1013.28  1012.69  ...  1014.07  1014.22  1017.34  1019.63   \n",
              "\n",
              "        26       27       28       29       30       31  \n",
              "1  1012.36  1012.42  1012.97  1012.52  1011.87  1012.21  \n",
              "2  1012.96  1011.91  1010.10  1010.78  1011.06        -  \n",
              "3  1019.96  1017.56  1017.02   1015.8  1016.96  1017.63  \n",
              "\n",
              "[3 rows x 35 columns]"
            ],
            "text/html": [
              "\n",
              "  <div id=\"df-ed1e0c80-7773-47b4-9664-2c00f51387a6\">\n",
              "    <div class=\"colab-df-container\">\n",
              "      <div>\n",
              "<style scoped>\n",
              "    .dataframe tbody tr th:only-of-type {\n",
              "        vertical-align: middle;\n",
              "    }\n",
              "\n",
              "    .dataframe tbody tr th {\n",
              "        vertical-align: top;\n",
              "    }\n",
              "\n",
              "    .dataframe thead th {\n",
              "        text-align: right;\n",
              "    }\n",
              "</style>\n",
              "<table border=\"1\" class=\"dataframe\">\n",
              "  <thead>\n",
              "    <tr style=\"text-align: right;\">\n",
              "      <th></th>\n",
              "      <th>จังหวัด</th>\n",
              "      <th>สถานี</th>\n",
              "      <th>เดือน</th>\n",
              "      <th>ปี</th>\n",
              "      <th>1</th>\n",
              "      <th>2</th>\n",
              "      <th>3</th>\n",
              "      <th>4</th>\n",
              "      <th>5</th>\n",
              "      <th>6</th>\n",
              "      <th>...</th>\n",
              "      <th>22</th>\n",
              "      <th>23</th>\n",
              "      <th>24</th>\n",
              "      <th>25</th>\n",
              "      <th>26</th>\n",
              "      <th>27</th>\n",
              "      <th>28</th>\n",
              "      <th>29</th>\n",
              "      <th>30</th>\n",
              "      <th>31</th>\n",
              "    </tr>\n",
              "  </thead>\n",
              "  <tbody>\n",
              "    <tr>\n",
              "      <th>1</th>\n",
              "      <td>สกลนคร</td>\n",
              "      <td>352201-หนองคาย จ.หนองคาย</td>\n",
              "      <td>10</td>\n",
              "      <td>2011</td>\n",
              "      <td>1005.84</td>\n",
              "      <td>1007.16</td>\n",
              "      <td>1007.87</td>\n",
              "      <td>1008.56</td>\n",
              "      <td>1010.55</td>\n",
              "      <td>1011.83</td>\n",
              "      <td>...</td>\n",
              "      <td>1011.36</td>\n",
              "      <td>1011.24</td>\n",
              "      <td>1010.80</td>\n",
              "      <td>1012.02</td>\n",
              "      <td>1012.36</td>\n",
              "      <td>1012.42</td>\n",
              "      <td>1012.97</td>\n",
              "      <td>1012.52</td>\n",
              "      <td>1011.87</td>\n",
              "      <td>1012.21</td>\n",
              "    </tr>\n",
              "    <tr>\n",
              "      <th>2</th>\n",
              "      <td>สกลนคร</td>\n",
              "      <td>352201-หนองคาย จ.หนองคาย</td>\n",
              "      <td>11</td>\n",
              "      <td>2011</td>\n",
              "      <td>1012.41</td>\n",
              "      <td>1011.47</td>\n",
              "      <td>1011.22</td>\n",
              "      <td>1011.16</td>\n",
              "      <td>1010.51</td>\n",
              "      <td>1009.26</td>\n",
              "      <td>...</td>\n",
              "      <td>1014.41</td>\n",
              "      <td>1015.21</td>\n",
              "      <td>1016.11</td>\n",
              "      <td>1014.65</td>\n",
              "      <td>1012.96</td>\n",
              "      <td>1011.91</td>\n",
              "      <td>1010.10</td>\n",
              "      <td>1010.78</td>\n",
              "      <td>1011.06</td>\n",
              "      <td>-</td>\n",
              "    </tr>\n",
              "    <tr>\n",
              "      <th>3</th>\n",
              "      <td>สกลนคร</td>\n",
              "      <td>352201-หนองคาย จ.หนองคาย</td>\n",
              "      <td>12</td>\n",
              "      <td>2011</td>\n",
              "      <td>1012.16</td>\n",
              "      <td>1013.74</td>\n",
              "      <td>1013.44</td>\n",
              "      <td>1014.00</td>\n",
              "      <td>1013.28</td>\n",
              "      <td>1012.69</td>\n",
              "      <td>...</td>\n",
              "      <td>1014.07</td>\n",
              "      <td>1014.22</td>\n",
              "      <td>1017.34</td>\n",
              "      <td>1019.63</td>\n",
              "      <td>1019.96</td>\n",
              "      <td>1017.56</td>\n",
              "      <td>1017.02</td>\n",
              "      <td>1015.8</td>\n",
              "      <td>1016.96</td>\n",
              "      <td>1017.63</td>\n",
              "    </tr>\n",
              "  </tbody>\n",
              "</table>\n",
              "<p>3 rows × 35 columns</p>\n",
              "</div>\n",
              "      <button class=\"colab-df-convert\" onclick=\"convertToInteractive('df-ed1e0c80-7773-47b4-9664-2c00f51387a6')\"\n",
              "              title=\"Convert this dataframe to an interactive table.\"\n",
              "              style=\"display:none;\">\n",
              "        \n",
              "  <svg xmlns=\"http://www.w3.org/2000/svg\" height=\"24px\"viewBox=\"0 0 24 24\"\n",
              "       width=\"24px\">\n",
              "    <path d=\"M0 0h24v24H0V0z\" fill=\"none\"/>\n",
              "    <path d=\"M18.56 5.44l.94 2.06.94-2.06 2.06-.94-2.06-.94-.94-2.06-.94 2.06-2.06.94zm-11 1L8.5 8.5l.94-2.06 2.06-.94-2.06-.94L8.5 2.5l-.94 2.06-2.06.94zm10 10l.94 2.06.94-2.06 2.06-.94-2.06-.94-.94-2.06-.94 2.06-2.06.94z\"/><path d=\"M17.41 7.96l-1.37-1.37c-.4-.4-.92-.59-1.43-.59-.52 0-1.04.2-1.43.59L10.3 9.45l-7.72 7.72c-.78.78-.78 2.05 0 2.83L4 21.41c.39.39.9.59 1.41.59.51 0 1.02-.2 1.41-.59l7.78-7.78 2.81-2.81c.8-.78.8-2.07 0-2.86zM5.41 20L4 18.59l7.72-7.72 1.47 1.35L5.41 20z\"/>\n",
              "  </svg>\n",
              "      </button>\n",
              "      \n",
              "  <style>\n",
              "    .colab-df-container {\n",
              "      display:flex;\n",
              "      flex-wrap:wrap;\n",
              "      gap: 12px;\n",
              "    }\n",
              "\n",
              "    .colab-df-convert {\n",
              "      background-color: #E8F0FE;\n",
              "      border: none;\n",
              "      border-radius: 50%;\n",
              "      cursor: pointer;\n",
              "      display: none;\n",
              "      fill: #1967D2;\n",
              "      height: 32px;\n",
              "      padding: 0 0 0 0;\n",
              "      width: 32px;\n",
              "    }\n",
              "\n",
              "    .colab-df-convert:hover {\n",
              "      background-color: #E2EBFA;\n",
              "      box-shadow: 0px 1px 2px rgba(60, 64, 67, 0.3), 0px 1px 3px 1px rgba(60, 64, 67, 0.15);\n",
              "      fill: #174EA6;\n",
              "    }\n",
              "\n",
              "    [theme=dark] .colab-df-convert {\n",
              "      background-color: #3B4455;\n",
              "      fill: #D2E3FC;\n",
              "    }\n",
              "\n",
              "    [theme=dark] .colab-df-convert:hover {\n",
              "      background-color: #434B5C;\n",
              "      box-shadow: 0px 1px 3px 1px rgba(0, 0, 0, 0.15);\n",
              "      filter: drop-shadow(0px 1px 2px rgba(0, 0, 0, 0.3));\n",
              "      fill: #FFFFFF;\n",
              "    }\n",
              "  </style>\n",
              "\n",
              "      <script>\n",
              "        const buttonEl =\n",
              "          document.querySelector('#df-ed1e0c80-7773-47b4-9664-2c00f51387a6 button.colab-df-convert');\n",
              "        buttonEl.style.display =\n",
              "          google.colab.kernel.accessAllowed ? 'block' : 'none';\n",
              "\n",
              "        async function convertToInteractive(key) {\n",
              "          const element = document.querySelector('#df-ed1e0c80-7773-47b4-9664-2c00f51387a6');\n",
              "          const dataTable =\n",
              "            await google.colab.kernel.invokeFunction('convertToInteractive',\n",
              "                                                     [key], {});\n",
              "          if (!dataTable) return;\n",
              "\n",
              "          const docLinkHtml = 'Like what you see? Visit the ' +\n",
              "            '<a target=\"_blank\" href=https://colab.research.google.com/notebooks/data_table.ipynb>data table notebook</a>'\n",
              "            + ' to learn more about interactive tables.';\n",
              "          element.innerHTML = '';\n",
              "          dataTable['output_type'] = 'display_data';\n",
              "          await google.colab.output.renderOutput(dataTable, element);\n",
              "          const docLink = document.createElement('div');\n",
              "          docLink.innerHTML = docLinkHtml;\n",
              "          element.appendChild(docLink);\n",
              "        }\n",
              "      </script>\n",
              "    </div>\n",
              "  </div>\n",
              "  "
            ]
          },
          "metadata": {},
          "execution_count": 14
        }
      ]
    },
    {
      "cell_type": "markdown",
      "source": [
        "## นครพนม"
      ],
      "metadata": {
        "id": "e2WA1db_SpOc"
      }
    },
    {
      "cell_type": "code",
      "source": [
        "pressure_npm = pd.read_excel('/content/drive/MyDrive/bsc_DPDM_data/อุตุ/ความกด(เปอร์เซ็นต์)/จ.นครพนม.xlsx',skiprows=3).drop(0, axis=0)\n",
        "pressure_npm.columns.values[3:34] =['1','2','3','4','5','6','7','8','9','10','11','12','13','14','15','16','17','18','19','20','21','22','23','24','25','26','27','28','29','30','31']"
      ],
      "metadata": {
        "id": "71ky5iM3M_yR"
      },
      "execution_count": 15,
      "outputs": []
    },
    {
      "cell_type": "code",
      "source": [
        "pressure_npm['จังหวัด'] = 'นครพนม'"
      ],
      "metadata": {
        "id": "w0wRG7aCTWuZ"
      },
      "execution_count": 16,
      "outputs": []
    },
    {
      "cell_type": "code",
      "source": [
        "pressure_npm['เดือน'] = pressure_npm['เดือน/ปี'].dt.month"
      ],
      "metadata": {
        "id": "SY7YCEi8TWuZ"
      },
      "execution_count": 17,
      "outputs": []
    },
    {
      "cell_type": "code",
      "source": [
        "pressure_npm['ปี'] = pressure_npm['เดือน/ปี'].dt.year"
      ],
      "metadata": {
        "id": "iCkTNcQDTWuZ"
      },
      "execution_count": 18,
      "outputs": []
    },
    {
      "cell_type": "code",
      "source": [
        "pres_npm = pressure_npm[['จังหวัด','สถานี','เดือน','ปี','1','2','3','4','5','6','7','8','9','10','11','12','13','14','15','16','17','18','19','20','21','22','23','24','25','26','27','28','29','30','31']]\n",
        "pres_npm.head(3)"
      ],
      "metadata": {
        "colab": {
          "base_uri": "https://localhost:8080/",
          "height": 341
        },
        "outputId": "8acd382c-4049-4df1-f861-91c2cdb35b68",
        "id": "MnaYL6-HTWuZ"
      },
      "execution_count": 19,
      "outputs": [
        {
          "output_type": "execute_result",
          "data": {
            "text/plain": [
              "  จังหวัด                     สถานี  เดือน    ปี        1        2        3  \\\n",
              "1  นครพนม  352201-หนองคาย จ.หนองคาย     10  2011  1006.30  1007.38  1008.07   \n",
              "2  นครพนม  352201-หนองคาย จ.หนองคาย     11  2011  1012.28  1011.23  1011.08   \n",
              "3  นครพนม  352201-หนองคาย จ.หนองคาย     12  2011  1012.15  1013.75  1013.24   \n",
              "\n",
              "         4        5        6  ...       22       23       24       25  \\\n",
              "1  1008.44  1010.51  1011.65  ...  1011.24  1011.09  1010.64  1012.01   \n",
              "2  1010.96  1010.57  1009.20  ...  1014.31  1015.49  1016.09  1014.62   \n",
              "3  1013.94  1013.35  1012.62  ...  1014.05  1014.23  1017.58  1019.77   \n",
              "\n",
              "        26       27       28       29       30       31  \n",
              "1  1012.47  1012.46  1012.85  1012.43  1011.69  1012.28  \n",
              "2  1012.80  1011.83  1010.00   1010.6  1011.13        -  \n",
              "3  1019.71  1017.34  1017.01  1015.64  1016.89  1017.73  \n",
              "\n",
              "[3 rows x 35 columns]"
            ],
            "text/html": [
              "\n",
              "  <div id=\"df-2859620a-7004-4539-adcc-6b8e06f29fa2\">\n",
              "    <div class=\"colab-df-container\">\n",
              "      <div>\n",
              "<style scoped>\n",
              "    .dataframe tbody tr th:only-of-type {\n",
              "        vertical-align: middle;\n",
              "    }\n",
              "\n",
              "    .dataframe tbody tr th {\n",
              "        vertical-align: top;\n",
              "    }\n",
              "\n",
              "    .dataframe thead th {\n",
              "        text-align: right;\n",
              "    }\n",
              "</style>\n",
              "<table border=\"1\" class=\"dataframe\">\n",
              "  <thead>\n",
              "    <tr style=\"text-align: right;\">\n",
              "      <th></th>\n",
              "      <th>จังหวัด</th>\n",
              "      <th>สถานี</th>\n",
              "      <th>เดือน</th>\n",
              "      <th>ปี</th>\n",
              "      <th>1</th>\n",
              "      <th>2</th>\n",
              "      <th>3</th>\n",
              "      <th>4</th>\n",
              "      <th>5</th>\n",
              "      <th>6</th>\n",
              "      <th>...</th>\n",
              "      <th>22</th>\n",
              "      <th>23</th>\n",
              "      <th>24</th>\n",
              "      <th>25</th>\n",
              "      <th>26</th>\n",
              "      <th>27</th>\n",
              "      <th>28</th>\n",
              "      <th>29</th>\n",
              "      <th>30</th>\n",
              "      <th>31</th>\n",
              "    </tr>\n",
              "  </thead>\n",
              "  <tbody>\n",
              "    <tr>\n",
              "      <th>1</th>\n",
              "      <td>นครพนม</td>\n",
              "      <td>352201-หนองคาย จ.หนองคาย</td>\n",
              "      <td>10</td>\n",
              "      <td>2011</td>\n",
              "      <td>1006.30</td>\n",
              "      <td>1007.38</td>\n",
              "      <td>1008.07</td>\n",
              "      <td>1008.44</td>\n",
              "      <td>1010.51</td>\n",
              "      <td>1011.65</td>\n",
              "      <td>...</td>\n",
              "      <td>1011.24</td>\n",
              "      <td>1011.09</td>\n",
              "      <td>1010.64</td>\n",
              "      <td>1012.01</td>\n",
              "      <td>1012.47</td>\n",
              "      <td>1012.46</td>\n",
              "      <td>1012.85</td>\n",
              "      <td>1012.43</td>\n",
              "      <td>1011.69</td>\n",
              "      <td>1012.28</td>\n",
              "    </tr>\n",
              "    <tr>\n",
              "      <th>2</th>\n",
              "      <td>นครพนม</td>\n",
              "      <td>352201-หนองคาย จ.หนองคาย</td>\n",
              "      <td>11</td>\n",
              "      <td>2011</td>\n",
              "      <td>1012.28</td>\n",
              "      <td>1011.23</td>\n",
              "      <td>1011.08</td>\n",
              "      <td>1010.96</td>\n",
              "      <td>1010.57</td>\n",
              "      <td>1009.20</td>\n",
              "      <td>...</td>\n",
              "      <td>1014.31</td>\n",
              "      <td>1015.49</td>\n",
              "      <td>1016.09</td>\n",
              "      <td>1014.62</td>\n",
              "      <td>1012.80</td>\n",
              "      <td>1011.83</td>\n",
              "      <td>1010.00</td>\n",
              "      <td>1010.6</td>\n",
              "      <td>1011.13</td>\n",
              "      <td>-</td>\n",
              "    </tr>\n",
              "    <tr>\n",
              "      <th>3</th>\n",
              "      <td>นครพนม</td>\n",
              "      <td>352201-หนองคาย จ.หนองคาย</td>\n",
              "      <td>12</td>\n",
              "      <td>2011</td>\n",
              "      <td>1012.15</td>\n",
              "      <td>1013.75</td>\n",
              "      <td>1013.24</td>\n",
              "      <td>1013.94</td>\n",
              "      <td>1013.35</td>\n",
              "      <td>1012.62</td>\n",
              "      <td>...</td>\n",
              "      <td>1014.05</td>\n",
              "      <td>1014.23</td>\n",
              "      <td>1017.58</td>\n",
              "      <td>1019.77</td>\n",
              "      <td>1019.71</td>\n",
              "      <td>1017.34</td>\n",
              "      <td>1017.01</td>\n",
              "      <td>1015.64</td>\n",
              "      <td>1016.89</td>\n",
              "      <td>1017.73</td>\n",
              "    </tr>\n",
              "  </tbody>\n",
              "</table>\n",
              "<p>3 rows × 35 columns</p>\n",
              "</div>\n",
              "      <button class=\"colab-df-convert\" onclick=\"convertToInteractive('df-2859620a-7004-4539-adcc-6b8e06f29fa2')\"\n",
              "              title=\"Convert this dataframe to an interactive table.\"\n",
              "              style=\"display:none;\">\n",
              "        \n",
              "  <svg xmlns=\"http://www.w3.org/2000/svg\" height=\"24px\"viewBox=\"0 0 24 24\"\n",
              "       width=\"24px\">\n",
              "    <path d=\"M0 0h24v24H0V0z\" fill=\"none\"/>\n",
              "    <path d=\"M18.56 5.44l.94 2.06.94-2.06 2.06-.94-2.06-.94-.94-2.06-.94 2.06-2.06.94zm-11 1L8.5 8.5l.94-2.06 2.06-.94-2.06-.94L8.5 2.5l-.94 2.06-2.06.94zm10 10l.94 2.06.94-2.06 2.06-.94-2.06-.94-.94-2.06-.94 2.06-2.06.94z\"/><path d=\"M17.41 7.96l-1.37-1.37c-.4-.4-.92-.59-1.43-.59-.52 0-1.04.2-1.43.59L10.3 9.45l-7.72 7.72c-.78.78-.78 2.05 0 2.83L4 21.41c.39.39.9.59 1.41.59.51 0 1.02-.2 1.41-.59l7.78-7.78 2.81-2.81c.8-.78.8-2.07 0-2.86zM5.41 20L4 18.59l7.72-7.72 1.47 1.35L5.41 20z\"/>\n",
              "  </svg>\n",
              "      </button>\n",
              "      \n",
              "  <style>\n",
              "    .colab-df-container {\n",
              "      display:flex;\n",
              "      flex-wrap:wrap;\n",
              "      gap: 12px;\n",
              "    }\n",
              "\n",
              "    .colab-df-convert {\n",
              "      background-color: #E8F0FE;\n",
              "      border: none;\n",
              "      border-radius: 50%;\n",
              "      cursor: pointer;\n",
              "      display: none;\n",
              "      fill: #1967D2;\n",
              "      height: 32px;\n",
              "      padding: 0 0 0 0;\n",
              "      width: 32px;\n",
              "    }\n",
              "\n",
              "    .colab-df-convert:hover {\n",
              "      background-color: #E2EBFA;\n",
              "      box-shadow: 0px 1px 2px rgba(60, 64, 67, 0.3), 0px 1px 3px 1px rgba(60, 64, 67, 0.15);\n",
              "      fill: #174EA6;\n",
              "    }\n",
              "\n",
              "    [theme=dark] .colab-df-convert {\n",
              "      background-color: #3B4455;\n",
              "      fill: #D2E3FC;\n",
              "    }\n",
              "\n",
              "    [theme=dark] .colab-df-convert:hover {\n",
              "      background-color: #434B5C;\n",
              "      box-shadow: 0px 1px 3px 1px rgba(0, 0, 0, 0.15);\n",
              "      filter: drop-shadow(0px 1px 2px rgba(0, 0, 0, 0.3));\n",
              "      fill: #FFFFFF;\n",
              "    }\n",
              "  </style>\n",
              "\n",
              "      <script>\n",
              "        const buttonEl =\n",
              "          document.querySelector('#df-2859620a-7004-4539-adcc-6b8e06f29fa2 button.colab-df-convert');\n",
              "        buttonEl.style.display =\n",
              "          google.colab.kernel.accessAllowed ? 'block' : 'none';\n",
              "\n",
              "        async function convertToInteractive(key) {\n",
              "          const element = document.querySelector('#df-2859620a-7004-4539-adcc-6b8e06f29fa2');\n",
              "          const dataTable =\n",
              "            await google.colab.kernel.invokeFunction('convertToInteractive',\n",
              "                                                     [key], {});\n",
              "          if (!dataTable) return;\n",
              "\n",
              "          const docLinkHtml = 'Like what you see? Visit the ' +\n",
              "            '<a target=\"_blank\" href=https://colab.research.google.com/notebooks/data_table.ipynb>data table notebook</a>'\n",
              "            + ' to learn more about interactive tables.';\n",
              "          element.innerHTML = '';\n",
              "          dataTable['output_type'] = 'display_data';\n",
              "          await google.colab.output.renderOutput(dataTable, element);\n",
              "          const docLink = document.createElement('div');\n",
              "          docLink.innerHTML = docLinkHtml;\n",
              "          element.appendChild(docLink);\n",
              "        }\n",
              "      </script>\n",
              "    </div>\n",
              "  </div>\n",
              "  "
            ]
          },
          "metadata": {},
          "execution_count": 19
        }
      ]
    },
    {
      "cell_type": "markdown",
      "source": [
        "## หนองคาย"
      ],
      "metadata": {
        "id": "NBenO00LSrlo"
      }
    },
    {
      "cell_type": "code",
      "source": [
        "pressure_nki = pd.read_excel('/content/drive/MyDrive/bsc_DPDM_data/อุตุ/ความกด(เปอร์เซ็นต์)/จ.หนองคาย.xlsx',skiprows=3).drop(0, axis=0)\n",
        "pressure_nki.columns.values[3:34] =['1','2','3','4','5','6','7','8','9','10','11','12','13','14','15','16','17','18','19','20','21','22','23','24','25','26','27','28','29','30','31']"
      ],
      "metadata": {
        "id": "sB20O-lqNCjt"
      },
      "execution_count": 20,
      "outputs": []
    },
    {
      "cell_type": "code",
      "source": [
        "pressure_nki['จังหวัด'] = 'หนองคาย'"
      ],
      "metadata": {
        "id": "Zx44PAxuS0BA"
      },
      "execution_count": 21,
      "outputs": []
    },
    {
      "cell_type": "code",
      "source": [
        "pressure_nki['เดือน'] = pressure_nki['เดือน/ปี'].dt.month"
      ],
      "metadata": {
        "id": "aUsTXpglS0BA"
      },
      "execution_count": 22,
      "outputs": []
    },
    {
      "cell_type": "code",
      "source": [
        "pressure_nki['ปี'] = pressure_nki['เดือน/ปี'].dt.year"
      ],
      "metadata": {
        "id": "uhb8orkcS0BA"
      },
      "execution_count": 23,
      "outputs": []
    },
    {
      "cell_type": "code",
      "source": [
        "pres_nk = pressure_nki[['จังหวัด','สถานี','เดือน','ปี','1','2','3','4','5','6','7','8','9','10','11','12','13','14','15','16','17','18','19','20','21','22','23','24','25','26','27','28','29','30','31']]\n",
        "pres_nk.head(3)"
      ],
      "metadata": {
        "colab": {
          "base_uri": "https://localhost:8080/",
          "height": 341
        },
        "outputId": "0de44b71-79ec-4e7d-c0e4-a7dc03d42513",
        "id": "NnzXkL91S0BA"
      },
      "execution_count": 24,
      "outputs": [
        {
          "output_type": "execute_result",
          "data": {
            "text/plain": [
              "   จังหวัด                     สถานี  เดือน    ปี        1        2        3  \\\n",
              "1  หนองคาย  352201-หนองคาย จ.หนองคาย     10  2011  1005.34  1006.67  1007.39   \n",
              "2  หนองคาย  352201-หนองคาย จ.หนองคาย     11  2011  1012.05  1011.35  1011.28   \n",
              "3  หนองคาย  352201-หนองคาย จ.หนองคาย     12  2011  1012.16  1013.26  1012.40   \n",
              "\n",
              "         4        5        6  ...       22       23       24       25  \\\n",
              "1  1008.11  1009.69  1011.55  ...  1011.17  1011.01  1010.71  1011.67   \n",
              "2  1011.27  1010.62  1009.58  ...  1014.32  1015.27  1016.46  1014.65   \n",
              "3  1013.57  1013.68  1012.72  ...  1013.91  1013.94  1016.92  1019.05   \n",
              "\n",
              "        26       27       28       29       30       31  \n",
              "1  1012.36  1012.50  1012.81  1011.88  1011.77  1012.18  \n",
              "2  1013.08  1011.62  1010.21  1010.71   1011.1        -  \n",
              "3  1019.88  1017.86  1016.76  1015.63  1016.31  1017.19  \n",
              "\n",
              "[3 rows x 35 columns]"
            ],
            "text/html": [
              "\n",
              "  <div id=\"df-702150f6-200d-4707-aa4f-f70ed60c2d01\">\n",
              "    <div class=\"colab-df-container\">\n",
              "      <div>\n",
              "<style scoped>\n",
              "    .dataframe tbody tr th:only-of-type {\n",
              "        vertical-align: middle;\n",
              "    }\n",
              "\n",
              "    .dataframe tbody tr th {\n",
              "        vertical-align: top;\n",
              "    }\n",
              "\n",
              "    .dataframe thead th {\n",
              "        text-align: right;\n",
              "    }\n",
              "</style>\n",
              "<table border=\"1\" class=\"dataframe\">\n",
              "  <thead>\n",
              "    <tr style=\"text-align: right;\">\n",
              "      <th></th>\n",
              "      <th>จังหวัด</th>\n",
              "      <th>สถานี</th>\n",
              "      <th>เดือน</th>\n",
              "      <th>ปี</th>\n",
              "      <th>1</th>\n",
              "      <th>2</th>\n",
              "      <th>3</th>\n",
              "      <th>4</th>\n",
              "      <th>5</th>\n",
              "      <th>6</th>\n",
              "      <th>...</th>\n",
              "      <th>22</th>\n",
              "      <th>23</th>\n",
              "      <th>24</th>\n",
              "      <th>25</th>\n",
              "      <th>26</th>\n",
              "      <th>27</th>\n",
              "      <th>28</th>\n",
              "      <th>29</th>\n",
              "      <th>30</th>\n",
              "      <th>31</th>\n",
              "    </tr>\n",
              "  </thead>\n",
              "  <tbody>\n",
              "    <tr>\n",
              "      <th>1</th>\n",
              "      <td>หนองคาย</td>\n",
              "      <td>352201-หนองคาย จ.หนองคาย</td>\n",
              "      <td>10</td>\n",
              "      <td>2011</td>\n",
              "      <td>1005.34</td>\n",
              "      <td>1006.67</td>\n",
              "      <td>1007.39</td>\n",
              "      <td>1008.11</td>\n",
              "      <td>1009.69</td>\n",
              "      <td>1011.55</td>\n",
              "      <td>...</td>\n",
              "      <td>1011.17</td>\n",
              "      <td>1011.01</td>\n",
              "      <td>1010.71</td>\n",
              "      <td>1011.67</td>\n",
              "      <td>1012.36</td>\n",
              "      <td>1012.50</td>\n",
              "      <td>1012.81</td>\n",
              "      <td>1011.88</td>\n",
              "      <td>1011.77</td>\n",
              "      <td>1012.18</td>\n",
              "    </tr>\n",
              "    <tr>\n",
              "      <th>2</th>\n",
              "      <td>หนองคาย</td>\n",
              "      <td>352201-หนองคาย จ.หนองคาย</td>\n",
              "      <td>11</td>\n",
              "      <td>2011</td>\n",
              "      <td>1012.05</td>\n",
              "      <td>1011.35</td>\n",
              "      <td>1011.28</td>\n",
              "      <td>1011.27</td>\n",
              "      <td>1010.62</td>\n",
              "      <td>1009.58</td>\n",
              "      <td>...</td>\n",
              "      <td>1014.32</td>\n",
              "      <td>1015.27</td>\n",
              "      <td>1016.46</td>\n",
              "      <td>1014.65</td>\n",
              "      <td>1013.08</td>\n",
              "      <td>1011.62</td>\n",
              "      <td>1010.21</td>\n",
              "      <td>1010.71</td>\n",
              "      <td>1011.1</td>\n",
              "      <td>-</td>\n",
              "    </tr>\n",
              "    <tr>\n",
              "      <th>3</th>\n",
              "      <td>หนองคาย</td>\n",
              "      <td>352201-หนองคาย จ.หนองคาย</td>\n",
              "      <td>12</td>\n",
              "      <td>2011</td>\n",
              "      <td>1012.16</td>\n",
              "      <td>1013.26</td>\n",
              "      <td>1012.40</td>\n",
              "      <td>1013.57</td>\n",
              "      <td>1013.68</td>\n",
              "      <td>1012.72</td>\n",
              "      <td>...</td>\n",
              "      <td>1013.91</td>\n",
              "      <td>1013.94</td>\n",
              "      <td>1016.92</td>\n",
              "      <td>1019.05</td>\n",
              "      <td>1019.88</td>\n",
              "      <td>1017.86</td>\n",
              "      <td>1016.76</td>\n",
              "      <td>1015.63</td>\n",
              "      <td>1016.31</td>\n",
              "      <td>1017.19</td>\n",
              "    </tr>\n",
              "  </tbody>\n",
              "</table>\n",
              "<p>3 rows × 35 columns</p>\n",
              "</div>\n",
              "      <button class=\"colab-df-convert\" onclick=\"convertToInteractive('df-702150f6-200d-4707-aa4f-f70ed60c2d01')\"\n",
              "              title=\"Convert this dataframe to an interactive table.\"\n",
              "              style=\"display:none;\">\n",
              "        \n",
              "  <svg xmlns=\"http://www.w3.org/2000/svg\" height=\"24px\"viewBox=\"0 0 24 24\"\n",
              "       width=\"24px\">\n",
              "    <path d=\"M0 0h24v24H0V0z\" fill=\"none\"/>\n",
              "    <path d=\"M18.56 5.44l.94 2.06.94-2.06 2.06-.94-2.06-.94-.94-2.06-.94 2.06-2.06.94zm-11 1L8.5 8.5l.94-2.06 2.06-.94-2.06-.94L8.5 2.5l-.94 2.06-2.06.94zm10 10l.94 2.06.94-2.06 2.06-.94-2.06-.94-.94-2.06-.94 2.06-2.06.94z\"/><path d=\"M17.41 7.96l-1.37-1.37c-.4-.4-.92-.59-1.43-.59-.52 0-1.04.2-1.43.59L10.3 9.45l-7.72 7.72c-.78.78-.78 2.05 0 2.83L4 21.41c.39.39.9.59 1.41.59.51 0 1.02-.2 1.41-.59l7.78-7.78 2.81-2.81c.8-.78.8-2.07 0-2.86zM5.41 20L4 18.59l7.72-7.72 1.47 1.35L5.41 20z\"/>\n",
              "  </svg>\n",
              "      </button>\n",
              "      \n",
              "  <style>\n",
              "    .colab-df-container {\n",
              "      display:flex;\n",
              "      flex-wrap:wrap;\n",
              "      gap: 12px;\n",
              "    }\n",
              "\n",
              "    .colab-df-convert {\n",
              "      background-color: #E8F0FE;\n",
              "      border: none;\n",
              "      border-radius: 50%;\n",
              "      cursor: pointer;\n",
              "      display: none;\n",
              "      fill: #1967D2;\n",
              "      height: 32px;\n",
              "      padding: 0 0 0 0;\n",
              "      width: 32px;\n",
              "    }\n",
              "\n",
              "    .colab-df-convert:hover {\n",
              "      background-color: #E2EBFA;\n",
              "      box-shadow: 0px 1px 2px rgba(60, 64, 67, 0.3), 0px 1px 3px 1px rgba(60, 64, 67, 0.15);\n",
              "      fill: #174EA6;\n",
              "    }\n",
              "\n",
              "    [theme=dark] .colab-df-convert {\n",
              "      background-color: #3B4455;\n",
              "      fill: #D2E3FC;\n",
              "    }\n",
              "\n",
              "    [theme=dark] .colab-df-convert:hover {\n",
              "      background-color: #434B5C;\n",
              "      box-shadow: 0px 1px 3px 1px rgba(0, 0, 0, 0.15);\n",
              "      filter: drop-shadow(0px 1px 2px rgba(0, 0, 0, 0.3));\n",
              "      fill: #FFFFFF;\n",
              "    }\n",
              "  </style>\n",
              "\n",
              "      <script>\n",
              "        const buttonEl =\n",
              "          document.querySelector('#df-702150f6-200d-4707-aa4f-f70ed60c2d01 button.colab-df-convert');\n",
              "        buttonEl.style.display =\n",
              "          google.colab.kernel.accessAllowed ? 'block' : 'none';\n",
              "\n",
              "        async function convertToInteractive(key) {\n",
              "          const element = document.querySelector('#df-702150f6-200d-4707-aa4f-f70ed60c2d01');\n",
              "          const dataTable =\n",
              "            await google.colab.kernel.invokeFunction('convertToInteractive',\n",
              "                                                     [key], {});\n",
              "          if (!dataTable) return;\n",
              "\n",
              "          const docLinkHtml = 'Like what you see? Visit the ' +\n",
              "            '<a target=\"_blank\" href=https://colab.research.google.com/notebooks/data_table.ipynb>data table notebook</a>'\n",
              "            + ' to learn more about interactive tables.';\n",
              "          element.innerHTML = '';\n",
              "          dataTable['output_type'] = 'display_data';\n",
              "          await google.colab.output.renderOutput(dataTable, element);\n",
              "          const docLink = document.createElement('div');\n",
              "          docLink.innerHTML = docLinkHtml;\n",
              "          element.appendChild(docLink);\n",
              "        }\n",
              "      </script>\n",
              "    </div>\n",
              "  </div>\n",
              "  "
            ]
          },
          "metadata": {},
          "execution_count": 24
        }
      ]
    },
    {
      "cell_type": "markdown",
      "source": [
        "## ขอนแก่น"
      ],
      "metadata": {
        "id": "3dn8e6vKSgt7"
      }
    },
    {
      "cell_type": "code",
      "source": [
        "pressure_kkn = pd.read_excel('/content/drive/MyDrive/bsc_DPDM_data/อุตุ/ความกด(เปอร์เซ็นต์)/จ.ขอนแก่น.xlsx',skiprows=3).drop(0, axis=0)\n",
        "pressure_kkn.columns.values[3:34] =['1','2','3','4','5','6','7','8','9','10','11','12','13','14','15','16','17','18','19','20','21','22','23','24','25','26','27','28','29','30','31']"
      ],
      "metadata": {
        "id": "xw6u78GkNDZS"
      },
      "execution_count": 25,
      "outputs": []
    },
    {
      "cell_type": "code",
      "source": [
        "pressure_kkn['จังหวัด'] = 'ขอนแก่น'"
      ],
      "metadata": {
        "id": "v0HV-Ly47gpj"
      },
      "execution_count": 26,
      "outputs": []
    },
    {
      "cell_type": "code",
      "source": [
        "pressure_kkn['เดือน'] = pressure_kkn['เดือน/ปี'].dt.month"
      ],
      "metadata": {
        "id": "dO90ue1Nhi4W"
      },
      "execution_count": 27,
      "outputs": []
    },
    {
      "cell_type": "code",
      "source": [
        "pressure_kkn['ปี'] = pressure_kkn['เดือน/ปี'].dt.year"
      ],
      "metadata": {
        "id": "O3GHFb8VhXV4"
      },
      "execution_count": 28,
      "outputs": []
    },
    {
      "cell_type": "code",
      "source": [
        "pres_kn = pressure_kkn[['จังหวัด','สถานี','เดือน','ปี','1','2','3','4','5','6','7','8','9','10','11','12','13','14','15','16','17','18','19','20','21','22','23','24','25','26','27','28','29','30','31']]\n",
        "pres_kn"
      ],
      "metadata": {
        "id": "efpYvg0vWtWP"
      },
      "execution_count": null,
      "outputs": []
    },
    {
      "cell_type": "markdown",
      "source": [
        "# รวมตาราง ความกด"
      ],
      "metadata": {
        "id": "vWCEmhhgV4tg"
      }
    },
    {
      "cell_type": "code",
      "source": [
        "all_province = pd.concat([pres_lei, pres_snk, pres_npm, pres_nk, pres_kn])\n",
        "all_province"
      ],
      "metadata": {
        "id": "aJGvV5eIVuR4"
      },
      "execution_count": null,
      "outputs": []
    },
    {
      "cell_type": "code",
      "execution_count": 37,
      "metadata": {
        "id": "XZxVQ5cSMkkV"
      },
      "outputs": [],
      "source": [
        "A = pd.melt(all_province,\n",
        "        id_vars=['จังหวัด','สถานี','เดือน','ปี'],\n",
        "                 var_name='วันที่', value_name='ความกด')"
      ]
    },
    {
      "cell_type": "code",
      "source": [
        "A['วันที่'] = A['วันที่'].astype(int)"
      ],
      "metadata": {
        "id": "_OuYEc9fc_ag"
      },
      "execution_count": 53,
      "outputs": []
    },
    {
      "cell_type": "code",
      "source": [
        "A.sort_values(by=['จังหวัด','ปี','เดือน','วันที่']).head(10)"
      ],
      "metadata": {
        "colab": {
          "base_uri": "https://localhost:8080/",
          "height": 363
        },
        "id": "pGtzvOMmN7g4",
        "outputId": "7b8139b1-147c-4b91-d7ab-8e45ab270de7"
      },
      "execution_count": 54,
      "outputs": [
        {
          "output_type": "execute_result",
          "data": {
            "text/plain": [
              "      จังหวัด                     สถานี  เดือน    ปี  วันที่   ความกด\n",
              "220   ขอนแก่น  352201-หนองคาย จ.หนองคาย     10  2011       1  1005.47\n",
              "495   ขอนแก่น  352201-หนองคาย จ.หนองคาย     10  2011       2  1006.65\n",
              "770   ขอนแก่น  352201-หนองคาย จ.หนองคาย     10  2011       3  1007.49\n",
              "1045  ขอนแก่น  352201-หนองคาย จ.หนองคาย     10  2011       4  1008.28\n",
              "1320  ขอนแก่น  352201-หนองคาย จ.หนองคาย     10  2011       5  1009.88\n",
              "1595  ขอนแก่น  352201-หนองคาย จ.หนองคาย     10  2011       6  1011.36\n",
              "1870  ขอนแก่น  352201-หนองคาย จ.หนองคาย     10  2011       7  1011.17\n",
              "2145  ขอนแก่น  352201-หนองคาย จ.หนองคาย     10  2011       8   1010.2\n",
              "2420  ขอนแก่น  352201-หนองคาย จ.หนองคาย     10  2011       9  1010.14\n",
              "2695  ขอนแก่น  352201-หนองคาย จ.หนองคาย     10  2011      10   1010.6"
            ],
            "text/html": [
              "\n",
              "  <div id=\"df-8c05014c-5e6e-4d61-94e7-678a290d93e9\">\n",
              "    <div class=\"colab-df-container\">\n",
              "      <div>\n",
              "<style scoped>\n",
              "    .dataframe tbody tr th:only-of-type {\n",
              "        vertical-align: middle;\n",
              "    }\n",
              "\n",
              "    .dataframe tbody tr th {\n",
              "        vertical-align: top;\n",
              "    }\n",
              "\n",
              "    .dataframe thead th {\n",
              "        text-align: right;\n",
              "    }\n",
              "</style>\n",
              "<table border=\"1\" class=\"dataframe\">\n",
              "  <thead>\n",
              "    <tr style=\"text-align: right;\">\n",
              "      <th></th>\n",
              "      <th>จังหวัด</th>\n",
              "      <th>สถานี</th>\n",
              "      <th>เดือน</th>\n",
              "      <th>ปี</th>\n",
              "      <th>วันที่</th>\n",
              "      <th>ความกด</th>\n",
              "    </tr>\n",
              "  </thead>\n",
              "  <tbody>\n",
              "    <tr>\n",
              "      <th>220</th>\n",
              "      <td>ขอนแก่น</td>\n",
              "      <td>352201-หนองคาย จ.หนองคาย</td>\n",
              "      <td>10</td>\n",
              "      <td>2011</td>\n",
              "      <td>1</td>\n",
              "      <td>1005.47</td>\n",
              "    </tr>\n",
              "    <tr>\n",
              "      <th>495</th>\n",
              "      <td>ขอนแก่น</td>\n",
              "      <td>352201-หนองคาย จ.หนองคาย</td>\n",
              "      <td>10</td>\n",
              "      <td>2011</td>\n",
              "      <td>2</td>\n",
              "      <td>1006.65</td>\n",
              "    </tr>\n",
              "    <tr>\n",
              "      <th>770</th>\n",
              "      <td>ขอนแก่น</td>\n",
              "      <td>352201-หนองคาย จ.หนองคาย</td>\n",
              "      <td>10</td>\n",
              "      <td>2011</td>\n",
              "      <td>3</td>\n",
              "      <td>1007.49</td>\n",
              "    </tr>\n",
              "    <tr>\n",
              "      <th>1045</th>\n",
              "      <td>ขอนแก่น</td>\n",
              "      <td>352201-หนองคาย จ.หนองคาย</td>\n",
              "      <td>10</td>\n",
              "      <td>2011</td>\n",
              "      <td>4</td>\n",
              "      <td>1008.28</td>\n",
              "    </tr>\n",
              "    <tr>\n",
              "      <th>1320</th>\n",
              "      <td>ขอนแก่น</td>\n",
              "      <td>352201-หนองคาย จ.หนองคาย</td>\n",
              "      <td>10</td>\n",
              "      <td>2011</td>\n",
              "      <td>5</td>\n",
              "      <td>1009.88</td>\n",
              "    </tr>\n",
              "    <tr>\n",
              "      <th>1595</th>\n",
              "      <td>ขอนแก่น</td>\n",
              "      <td>352201-หนองคาย จ.หนองคาย</td>\n",
              "      <td>10</td>\n",
              "      <td>2011</td>\n",
              "      <td>6</td>\n",
              "      <td>1011.36</td>\n",
              "    </tr>\n",
              "    <tr>\n",
              "      <th>1870</th>\n",
              "      <td>ขอนแก่น</td>\n",
              "      <td>352201-หนองคาย จ.หนองคาย</td>\n",
              "      <td>10</td>\n",
              "      <td>2011</td>\n",
              "      <td>7</td>\n",
              "      <td>1011.17</td>\n",
              "    </tr>\n",
              "    <tr>\n",
              "      <th>2145</th>\n",
              "      <td>ขอนแก่น</td>\n",
              "      <td>352201-หนองคาย จ.หนองคาย</td>\n",
              "      <td>10</td>\n",
              "      <td>2011</td>\n",
              "      <td>8</td>\n",
              "      <td>1010.2</td>\n",
              "    </tr>\n",
              "    <tr>\n",
              "      <th>2420</th>\n",
              "      <td>ขอนแก่น</td>\n",
              "      <td>352201-หนองคาย จ.หนองคาย</td>\n",
              "      <td>10</td>\n",
              "      <td>2011</td>\n",
              "      <td>9</td>\n",
              "      <td>1010.14</td>\n",
              "    </tr>\n",
              "    <tr>\n",
              "      <th>2695</th>\n",
              "      <td>ขอนแก่น</td>\n",
              "      <td>352201-หนองคาย จ.หนองคาย</td>\n",
              "      <td>10</td>\n",
              "      <td>2011</td>\n",
              "      <td>10</td>\n",
              "      <td>1010.6</td>\n",
              "    </tr>\n",
              "  </tbody>\n",
              "</table>\n",
              "</div>\n",
              "      <button class=\"colab-df-convert\" onclick=\"convertToInteractive('df-8c05014c-5e6e-4d61-94e7-678a290d93e9')\"\n",
              "              title=\"Convert this dataframe to an interactive table.\"\n",
              "              style=\"display:none;\">\n",
              "        \n",
              "  <svg xmlns=\"http://www.w3.org/2000/svg\" height=\"24px\"viewBox=\"0 0 24 24\"\n",
              "       width=\"24px\">\n",
              "    <path d=\"M0 0h24v24H0V0z\" fill=\"none\"/>\n",
              "    <path d=\"M18.56 5.44l.94 2.06.94-2.06 2.06-.94-2.06-.94-.94-2.06-.94 2.06-2.06.94zm-11 1L8.5 8.5l.94-2.06 2.06-.94-2.06-.94L8.5 2.5l-.94 2.06-2.06.94zm10 10l.94 2.06.94-2.06 2.06-.94-2.06-.94-.94-2.06-.94 2.06-2.06.94z\"/><path d=\"M17.41 7.96l-1.37-1.37c-.4-.4-.92-.59-1.43-.59-.52 0-1.04.2-1.43.59L10.3 9.45l-7.72 7.72c-.78.78-.78 2.05 0 2.83L4 21.41c.39.39.9.59 1.41.59.51 0 1.02-.2 1.41-.59l7.78-7.78 2.81-2.81c.8-.78.8-2.07 0-2.86zM5.41 20L4 18.59l7.72-7.72 1.47 1.35L5.41 20z\"/>\n",
              "  </svg>\n",
              "      </button>\n",
              "      \n",
              "  <style>\n",
              "    .colab-df-container {\n",
              "      display:flex;\n",
              "      flex-wrap:wrap;\n",
              "      gap: 12px;\n",
              "    }\n",
              "\n",
              "    .colab-df-convert {\n",
              "      background-color: #E8F0FE;\n",
              "      border: none;\n",
              "      border-radius: 50%;\n",
              "      cursor: pointer;\n",
              "      display: none;\n",
              "      fill: #1967D2;\n",
              "      height: 32px;\n",
              "      padding: 0 0 0 0;\n",
              "      width: 32px;\n",
              "    }\n",
              "\n",
              "    .colab-df-convert:hover {\n",
              "      background-color: #E2EBFA;\n",
              "      box-shadow: 0px 1px 2px rgba(60, 64, 67, 0.3), 0px 1px 3px 1px rgba(60, 64, 67, 0.15);\n",
              "      fill: #174EA6;\n",
              "    }\n",
              "\n",
              "    [theme=dark] .colab-df-convert {\n",
              "      background-color: #3B4455;\n",
              "      fill: #D2E3FC;\n",
              "    }\n",
              "\n",
              "    [theme=dark] .colab-df-convert:hover {\n",
              "      background-color: #434B5C;\n",
              "      box-shadow: 0px 1px 3px 1px rgba(0, 0, 0, 0.15);\n",
              "      filter: drop-shadow(0px 1px 2px rgba(0, 0, 0, 0.3));\n",
              "      fill: #FFFFFF;\n",
              "    }\n",
              "  </style>\n",
              "\n",
              "      <script>\n",
              "        const buttonEl =\n",
              "          document.querySelector('#df-8c05014c-5e6e-4d61-94e7-678a290d93e9 button.colab-df-convert');\n",
              "        buttonEl.style.display =\n",
              "          google.colab.kernel.accessAllowed ? 'block' : 'none';\n",
              "\n",
              "        async function convertToInteractive(key) {\n",
              "          const element = document.querySelector('#df-8c05014c-5e6e-4d61-94e7-678a290d93e9');\n",
              "          const dataTable =\n",
              "            await google.colab.kernel.invokeFunction('convertToInteractive',\n",
              "                                                     [key], {});\n",
              "          if (!dataTable) return;\n",
              "\n",
              "          const docLinkHtml = 'Like what you see? Visit the ' +\n",
              "            '<a target=\"_blank\" href=https://colab.research.google.com/notebooks/data_table.ipynb>data table notebook</a>'\n",
              "            + ' to learn more about interactive tables.';\n",
              "          element.innerHTML = '';\n",
              "          dataTable['output_type'] = 'display_data';\n",
              "          await google.colab.output.renderOutput(dataTable, element);\n",
              "          const docLink = document.createElement('div');\n",
              "          docLink.innerHTML = docLinkHtml;\n",
              "          element.appendChild(docLink);\n",
              "        }\n",
              "      </script>\n",
              "    </div>\n",
              "  </div>\n",
              "  "
            ]
          },
          "metadata": {},
          "execution_count": 54
        }
      ]
    },
    {
      "cell_type": "markdown",
      "source": [
        "# ความชื้น"
      ],
      "metadata": {
        "id": "AVZY8sEMY5dp"
      }
    },
    {
      "cell_type": "markdown",
      "source": [
        "## เลย"
      ],
      "metadata": {
        "id": "DFAJSGdneiyz"
      }
    },
    {
      "cell_type": "code",
      "source": [
        "humidity_lei = pd.read_excel('/content/drive/MyDrive/bsc_DPDM_data/อุตุ/ความชื้นสัมพัทธ์(เปอร์เซ็นต์)/จ.เลย.xlsx',skiprows=3).drop(0, axis=0)\n",
        "humidity_lei.columns.values[3:34] =['1','2','3','4','5','6','7','8','9','10','11','12','13','14','15','16','17','18','19','20','21','22','23','24','25','26','27','28','29','30','31']"
      ],
      "metadata": {
        "id": "fNdmRD4Jr5iE"
      },
      "execution_count": 56,
      "outputs": []
    },
    {
      "cell_type": "code",
      "source": [
        "humidity_lei['จังหวัด'] = 'เลย'"
      ],
      "metadata": {
        "id": "Cn8ERwNDfjPI"
      },
      "execution_count": 63,
      "outputs": []
    },
    {
      "cell_type": "code",
      "source": [
        "humidity_lei['เดือน'] =humidity_lei['เดือน/ปี'].dt.month"
      ],
      "metadata": {
        "id": "JqPUmc_LfjPJ"
      },
      "execution_count": 64,
      "outputs": []
    },
    {
      "cell_type": "code",
      "source": [
        "humidity_lei['ปี'] = humidity_lei['เดือน/ปี'].dt.year"
      ],
      "metadata": {
        "id": "S3djVP1OfjPJ"
      },
      "execution_count": 65,
      "outputs": []
    },
    {
      "cell_type": "code",
      "source": [
        "hum_lei = humidity_lei[['จังหวัด','สถานี','เดือน','ปี','1','2','3','4','5','6','7','8','9','10','11','12','13','14','15','16','17','18','19','20','21','22','23','24','25','26','27','28','29','30','31']]"
      ],
      "metadata": {
        "colab": {
          "base_uri": "https://localhost:8080/",
          "height": 269
        },
        "outputId": "c1b9f335-9107-4d05-b68d-5bbe634b3875",
        "id": "B4twM6uLfjPJ"
      },
      "execution_count": 66,
      "outputs": [
        {
          "output_type": "execute_result",
          "data": {
            "text/plain": [
              "  จังหวัด                     สถานี  เดือน    ปี   1   2   3   4   5   6  ...  \\\n",
              "1     เลย  352201-หนองคาย จ.หนองคาย     10  2011  89  91  78  75  90  88  ...   \n",
              "2     เลย  352201-หนองคาย จ.หนองคาย     11  2011  68  66  66  67  68  69  ...   \n",
              "3     เลย  352201-หนองคาย จ.หนองคาย     12  2011  67  62  66  66  65  68  ...   \n",
              "\n",
              "   22  23  24  25  26  27  28  29  30  31  \n",
              "1  71  76  73  68  71  70  71  70  66  68  \n",
              "2  63  60  64  65  67  68  69  71  69   -  \n",
              "3  66  65  56  61  58  67  71  70  67  68  \n",
              "\n",
              "[3 rows x 35 columns]"
            ],
            "text/html": [
              "\n",
              "  <div id=\"df-40ebadf1-74ab-4b15-99bd-8298a7ee6ade\">\n",
              "    <div class=\"colab-df-container\">\n",
              "      <div>\n",
              "<style scoped>\n",
              "    .dataframe tbody tr th:only-of-type {\n",
              "        vertical-align: middle;\n",
              "    }\n",
              "\n",
              "    .dataframe tbody tr th {\n",
              "        vertical-align: top;\n",
              "    }\n",
              "\n",
              "    .dataframe thead th {\n",
              "        text-align: right;\n",
              "    }\n",
              "</style>\n",
              "<table border=\"1\" class=\"dataframe\">\n",
              "  <thead>\n",
              "    <tr style=\"text-align: right;\">\n",
              "      <th></th>\n",
              "      <th>จังหวัด</th>\n",
              "      <th>สถานี</th>\n",
              "      <th>เดือน</th>\n",
              "      <th>ปี</th>\n",
              "      <th>1</th>\n",
              "      <th>2</th>\n",
              "      <th>3</th>\n",
              "      <th>4</th>\n",
              "      <th>5</th>\n",
              "      <th>6</th>\n",
              "      <th>...</th>\n",
              "      <th>22</th>\n",
              "      <th>23</th>\n",
              "      <th>24</th>\n",
              "      <th>25</th>\n",
              "      <th>26</th>\n",
              "      <th>27</th>\n",
              "      <th>28</th>\n",
              "      <th>29</th>\n",
              "      <th>30</th>\n",
              "      <th>31</th>\n",
              "    </tr>\n",
              "  </thead>\n",
              "  <tbody>\n",
              "    <tr>\n",
              "      <th>1</th>\n",
              "      <td>เลย</td>\n",
              "      <td>352201-หนองคาย จ.หนองคาย</td>\n",
              "      <td>10</td>\n",
              "      <td>2011</td>\n",
              "      <td>89</td>\n",
              "      <td>91</td>\n",
              "      <td>78</td>\n",
              "      <td>75</td>\n",
              "      <td>90</td>\n",
              "      <td>88</td>\n",
              "      <td>...</td>\n",
              "      <td>71</td>\n",
              "      <td>76</td>\n",
              "      <td>73</td>\n",
              "      <td>68</td>\n",
              "      <td>71</td>\n",
              "      <td>70</td>\n",
              "      <td>71</td>\n",
              "      <td>70</td>\n",
              "      <td>66</td>\n",
              "      <td>68</td>\n",
              "    </tr>\n",
              "    <tr>\n",
              "      <th>2</th>\n",
              "      <td>เลย</td>\n",
              "      <td>352201-หนองคาย จ.หนองคาย</td>\n",
              "      <td>11</td>\n",
              "      <td>2011</td>\n",
              "      <td>68</td>\n",
              "      <td>66</td>\n",
              "      <td>66</td>\n",
              "      <td>67</td>\n",
              "      <td>68</td>\n",
              "      <td>69</td>\n",
              "      <td>...</td>\n",
              "      <td>63</td>\n",
              "      <td>60</td>\n",
              "      <td>64</td>\n",
              "      <td>65</td>\n",
              "      <td>67</td>\n",
              "      <td>68</td>\n",
              "      <td>69</td>\n",
              "      <td>71</td>\n",
              "      <td>69</td>\n",
              "      <td>-</td>\n",
              "    </tr>\n",
              "    <tr>\n",
              "      <th>3</th>\n",
              "      <td>เลย</td>\n",
              "      <td>352201-หนองคาย จ.หนองคาย</td>\n",
              "      <td>12</td>\n",
              "      <td>2011</td>\n",
              "      <td>67</td>\n",
              "      <td>62</td>\n",
              "      <td>66</td>\n",
              "      <td>66</td>\n",
              "      <td>65</td>\n",
              "      <td>68</td>\n",
              "      <td>...</td>\n",
              "      <td>66</td>\n",
              "      <td>65</td>\n",
              "      <td>56</td>\n",
              "      <td>61</td>\n",
              "      <td>58</td>\n",
              "      <td>67</td>\n",
              "      <td>71</td>\n",
              "      <td>70</td>\n",
              "      <td>67</td>\n",
              "      <td>68</td>\n",
              "    </tr>\n",
              "  </tbody>\n",
              "</table>\n",
              "<p>3 rows × 35 columns</p>\n",
              "</div>\n",
              "      <button class=\"colab-df-convert\" onclick=\"convertToInteractive('df-40ebadf1-74ab-4b15-99bd-8298a7ee6ade')\"\n",
              "              title=\"Convert this dataframe to an interactive table.\"\n",
              "              style=\"display:none;\">\n",
              "        \n",
              "  <svg xmlns=\"http://www.w3.org/2000/svg\" height=\"24px\"viewBox=\"0 0 24 24\"\n",
              "       width=\"24px\">\n",
              "    <path d=\"M0 0h24v24H0V0z\" fill=\"none\"/>\n",
              "    <path d=\"M18.56 5.44l.94 2.06.94-2.06 2.06-.94-2.06-.94-.94-2.06-.94 2.06-2.06.94zm-11 1L8.5 8.5l.94-2.06 2.06-.94-2.06-.94L8.5 2.5l-.94 2.06-2.06.94zm10 10l.94 2.06.94-2.06 2.06-.94-2.06-.94-.94-2.06-.94 2.06-2.06.94z\"/><path d=\"M17.41 7.96l-1.37-1.37c-.4-.4-.92-.59-1.43-.59-.52 0-1.04.2-1.43.59L10.3 9.45l-7.72 7.72c-.78.78-.78 2.05 0 2.83L4 21.41c.39.39.9.59 1.41.59.51 0 1.02-.2 1.41-.59l7.78-7.78 2.81-2.81c.8-.78.8-2.07 0-2.86zM5.41 20L4 18.59l7.72-7.72 1.47 1.35L5.41 20z\"/>\n",
              "  </svg>\n",
              "      </button>\n",
              "      \n",
              "  <style>\n",
              "    .colab-df-container {\n",
              "      display:flex;\n",
              "      flex-wrap:wrap;\n",
              "      gap: 12px;\n",
              "    }\n",
              "\n",
              "    .colab-df-convert {\n",
              "      background-color: #E8F0FE;\n",
              "      border: none;\n",
              "      border-radius: 50%;\n",
              "      cursor: pointer;\n",
              "      display: none;\n",
              "      fill: #1967D2;\n",
              "      height: 32px;\n",
              "      padding: 0 0 0 0;\n",
              "      width: 32px;\n",
              "    }\n",
              "\n",
              "    .colab-df-convert:hover {\n",
              "      background-color: #E2EBFA;\n",
              "      box-shadow: 0px 1px 2px rgba(60, 64, 67, 0.3), 0px 1px 3px 1px rgba(60, 64, 67, 0.15);\n",
              "      fill: #174EA6;\n",
              "    }\n",
              "\n",
              "    [theme=dark] .colab-df-convert {\n",
              "      background-color: #3B4455;\n",
              "      fill: #D2E3FC;\n",
              "    }\n",
              "\n",
              "    [theme=dark] .colab-df-convert:hover {\n",
              "      background-color: #434B5C;\n",
              "      box-shadow: 0px 1px 3px 1px rgba(0, 0, 0, 0.15);\n",
              "      filter: drop-shadow(0px 1px 2px rgba(0, 0, 0, 0.3));\n",
              "      fill: #FFFFFF;\n",
              "    }\n",
              "  </style>\n",
              "\n",
              "      <script>\n",
              "        const buttonEl =\n",
              "          document.querySelector('#df-40ebadf1-74ab-4b15-99bd-8298a7ee6ade button.colab-df-convert');\n",
              "        buttonEl.style.display =\n",
              "          google.colab.kernel.accessAllowed ? 'block' : 'none';\n",
              "\n",
              "        async function convertToInteractive(key) {\n",
              "          const element = document.querySelector('#df-40ebadf1-74ab-4b15-99bd-8298a7ee6ade');\n",
              "          const dataTable =\n",
              "            await google.colab.kernel.invokeFunction('convertToInteractive',\n",
              "                                                     [key], {});\n",
              "          if (!dataTable) return;\n",
              "\n",
              "          const docLinkHtml = 'Like what you see? Visit the ' +\n",
              "            '<a target=\"_blank\" href=https://colab.research.google.com/notebooks/data_table.ipynb>data table notebook</a>'\n",
              "            + ' to learn more about interactive tables.';\n",
              "          element.innerHTML = '';\n",
              "          dataTable['output_type'] = 'display_data';\n",
              "          await google.colab.output.renderOutput(dataTable, element);\n",
              "          const docLink = document.createElement('div');\n",
              "          docLink.innerHTML = docLinkHtml;\n",
              "          element.appendChild(docLink);\n",
              "        }\n",
              "      </script>\n",
              "    </div>\n",
              "  </div>\n",
              "  "
            ]
          },
          "metadata": {},
          "execution_count": 66
        }
      ]
    },
    {
      "cell_type": "markdown",
      "source": [
        "## สกลนคร"
      ],
      "metadata": {
        "id": "xB9mLmQaekwC"
      }
    },
    {
      "cell_type": "code",
      "source": [
        "humidity_skn = pd.read_excel('/content/drive/MyDrive/bsc_DPDM_data/อุตุ/ความชื้นสัมพัทธ์(เปอร์เซ็นต์)/จ.สกลนคร.xlsx',skiprows=3).drop(0, axis=0)\n",
        "humidity_skn.columns.values[3:34] =['1','2','3','4','5','6','7','8','9','10','11','12','13','14','15','16','17','18','19','20','21','22','23','24','25','26','27','28','29','30','31']"
      ],
      "metadata": {
        "id": "pGEXnRu9sCr-"
      },
      "execution_count": 57,
      "outputs": []
    },
    {
      "cell_type": "code",
      "source": [
        "humidity_skn['จังหวัด'] = 'สกลนคร'"
      ],
      "metadata": {
        "id": "eyBr9kFzf2mq"
      },
      "execution_count": 69,
      "outputs": []
    },
    {
      "cell_type": "code",
      "source": [
        "humidity_skn['เดือน'] =humidity_lei['เดือน/ปี'].dt.month"
      ],
      "metadata": {
        "id": "WFP3CO7Wf2mr"
      },
      "execution_count": 70,
      "outputs": []
    },
    {
      "cell_type": "code",
      "source": [
        "humidity_skn['ปี'] = humidity_lei['เดือน/ปี'].dt.year"
      ],
      "metadata": {
        "id": "RkOpLlKqf2mr"
      },
      "execution_count": 71,
      "outputs": []
    },
    {
      "cell_type": "code",
      "source": [
        "hum_skn = humidity_skn[['จังหวัด','สถานี','เดือน','ปี','1','2','3','4','5','6','7','8','9','10','11','12','13','14','15','16','17','18','19','20','21','22','23','24','25','26','27','28','29','30','31']]"
      ],
      "metadata": {
        "id": "owIBT_r-f2mr"
      },
      "execution_count": 72,
      "outputs": []
    },
    {
      "cell_type": "markdown",
      "source": [
        "## หนองคาย"
      ],
      "metadata": {
        "id": "pXBiAMyFe5bG"
      }
    },
    {
      "cell_type": "code",
      "source": [
        "humidity_nki = pd.read_excel('/content/drive/MyDrive/bsc_DPDM_data/อุตุ/ความชื้นสัมพัทธ์(เปอร์เซ็นต์)/จ.หนองคาย.xlsx',skiprows=3).drop(0, axis=0)\n",
        "humidity_nki.columns.values[3:34] =['1','2','3','4','5','6','7','8','9','10','11','12','13','14','15','16','17','18','19','20','21','22','23','24','25','26','27','28','29','30','31']"
      ],
      "metadata": {
        "id": "k1jwe1k1sDpM"
      },
      "execution_count": 59,
      "outputs": []
    },
    {
      "cell_type": "markdown",
      "source": [
        "## นครพนม"
      ],
      "metadata": {
        "id": "6kMm5Gn8fOm4"
      }
    },
    {
      "cell_type": "code",
      "source": [
        "humidity_npm = pd.read_excel('/content/drive/MyDrive/bsc_DPDM_data/อุตุ/ความชื้นสัมพัทธ์(เปอร์เซ็นต์)/จ.นครพนม.xlsx',skiprows=3).drop(0, axis=0)\n",
        "humidity_npm.columns.values[3:34] =['1','2','3','4','5','6','7','8','9','10','11','12','13','14','15','16','17','18','19','20','21','22','23','24','25','26','27','28','29','30','31']"
      ],
      "metadata": {
        "id": "Ek9RVH3IsEhP"
      },
      "execution_count": 60,
      "outputs": []
    },
    {
      "cell_type": "markdown",
      "source": [
        "## ขอนแก่น"
      ],
      "metadata": {
        "id": "MByIE1i6fQiV"
      }
    },
    {
      "cell_type": "code",
      "source": [
        "humidity_kkn = pd.read_excel('/content/drive/MyDrive/bsc_DPDM_data/อุตุ/ความชื้นสัมพัทธ์(เปอร์เซ็นต์)/จ.ขอนแก่น.xlsx',skiprows=3).drop(0, axis=0)\n",
        "humidity_kkn.columns.values[3:34] =['1','2','3','4','5','6','7','8','9','10','11','12','13','14','15','16','17','18','19','20','21','22','23','24','25','26','27','28','29','30','31']"
      ],
      "metadata": {
        "id": "MKa0zkggsFBZ"
      },
      "execution_count": 61,
      "outputs": []
    }
  ]
}